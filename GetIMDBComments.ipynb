{
 "cells": [
  {
   "cell_type": "code",
   "execution_count": 5,
   "metadata": {},
   "outputs": [
    {
     "name": "stdout",
     "output_type": "stream",
     "text": [
      "Requirement already satisfied: pandas in /opt/conda/lib/python3.9/site-packages (2.0.3)\n",
      "Requirement already satisfied: python-dateutil>=2.8.2 in /opt/conda/lib/python3.9/site-packages (from pandas) (2.8.2)\n",
      "Requirement already satisfied: pytz>=2020.1 in /opt/conda/lib/python3.9/site-packages (from pandas) (2022.7)\n",
      "Requirement already satisfied: tzdata>=2022.1 in /opt/conda/lib/python3.9/site-packages (from pandas) (2023.3)\n",
      "Requirement already satisfied: numpy>=1.20.3 in /opt/conda/lib/python3.9/site-packages (from pandas) (1.22.3)\n",
      "Requirement already satisfied: six>=1.5 in /opt/conda/lib/python3.9/site-packages (from python-dateutil>=2.8.2->pandas) (1.16.0)\n",
      "\u001b[33mWARNING: Running pip as the 'root' user can result in broken permissions and conflicting behaviour with the system package manager. It is recommended to use a virtual environment instead: https://pip.pypa.io/warnings/venv\u001b[0m\u001b[33m\n",
      "\u001b[0mNote: you may need to restart the kernel to use updated packages.\n"
     ]
    }
   ],
   "source": [
    "%pip install pandas"
   ]
  },
  {
   "cell_type": "code",
   "execution_count": 7,
   "metadata": {},
   "outputs": [
    {
     "name": "stdout",
     "output_type": "stream",
     "text": [
      "Requirement already satisfied: beautifulsoup4 in /opt/conda/lib/python3.9/site-packages (4.11.1)\n",
      "Requirement already satisfied: soupsieve>1.2 in /opt/conda/lib/python3.9/site-packages (from beautifulsoup4) (2.3.2.post1)\n",
      "\u001b[33mWARNING: Running pip as the 'root' user can result in broken permissions and conflicting behaviour with the system package manager. It is recommended to use a virtual environment instead: https://pip.pypa.io/warnings/venv\u001b[0m\u001b[33m\n",
      "\u001b[0mNote: you may need to restart the kernel to use updated packages.\n"
     ]
    }
   ],
   "source": [
    "%pip install beautifulsoup4"
   ]
  },
  {
   "cell_type": "markdown",
   "metadata": {},
   "source": [
    "We want to create a dataframe to store the comments and their sentiment.\n",
    "- 0: positive\n",
    "- 1: neutral\n",
    "-  2: negative\n",
    "Since we are labeling the sentiment by hand, we want to get the rating in each comment to simplifying the process of categorizing."
   ]
  },
  {
   "cell_type": "code",
   "execution_count": 116,
   "metadata": {},
   "outputs": [],
   "source": [
    "import pandas as pd\n",
    "df = pd.DataFrame(columns=['comment','rating','sentiment'])"
   ]
  },
  {
   "cell_type": "markdown",
   "metadata": {},
   "source": [
    "## IMDB Scraping\n",
    " Now I want to scrape the IMDB website for movies and their reviews. First, I will scrape some imdb URLs to collect the movie ids."
   ]
  },
  {
   "cell_type": "code",
   "execution_count": 137,
   "metadata": {},
   "outputs": [],
   "source": [
    "import requests\n",
    "from bs4 import BeautifulSoup\n",
    "import re\n",
    "import json\n",
    "\n",
    "def get_movie_id(list, url):\n",
    "    # URL for the IMDb top 250 movies\n",
    "    movie_id_list = list\n",
    "    url = url\n",
    "    # Set headers to simulate a browser visit\n",
    "    headers = {\n",
    "        'User-Agent': 'Mozilla/5.0 (Windows NT 10.0; Win64; x64) AppleWebKit/537.36 (KHTML, like Gecko) Chrome/89.0.4389.82 Safari/537.36'\n",
    "    }\n",
    "    \n",
    "    # Send an HTTP request to get the page content\n",
    "    response = requests.get(url, headers=headers)\n",
    "    print(response.status_code)\n",
    "    # Check if the request was successful\n",
    "    if response.status_code != 200:\n",
    "        print(f\"Failed to retrieve page: {response.status_code}\")\n",
    "        return []\n",
    "    \n",
    "    # Parse the HTML content\n",
    "    soup = BeautifulSoup(response.text, 'lxml')\n",
    "    \n",
    "\n",
    "    # Find the title section of each movie which contains the link to the movie\n",
    "    movies = soup.find_all(\"a\", class_ = \"ipc-title-link-wrapper\")\n",
    "    print(len(movies))\n",
    "    # Collect the id of each movie by extracting it from the link\n",
    "    \n",
    "    for link in movies:\n",
    "        href = link.get('href')  # Get the href attribute\n",
    "        movie_id = href.split('/')[2]\n",
    "        if not movie_id in movie_id_list:\n",
    "            movie_id_list.append(movie_id)\n",
    "\n",
    "    return movie_id_list\n"
   ]
  },
  {
   "cell_type": "code",
   "execution_count": 138,
   "metadata": {},
   "outputs": [
    {
     "name": "stdout",
     "output_type": "stream",
     "text": [
      "200\n",
      "25\n",
      "200\n",
      "20\n",
      "200\n",
      "25\n",
      "200\n",
      "25\n",
      "['tt28607951', 'tt27131358', 'tt1262426', 'tt20194882', 'tt10655524', 'tt16426418', 'tt0120791', 'tt0103874', 'tt29892095', 'tt3774694', 'tt27419292', 'tt14230458', 'tt1684562', 'tt22741760', 'tt26047818', 'tt0120338', 'tt0121164', 'tt20215968', 'tt26446278', 'tt1099212', 'tt0109830', 'tt0099487', 'tt0338013', 'tt1340094', 'tt2322441', 'tt0094035', 'tt0075342', 'tt6535880', 'tt0093996', 'tt6426028', 'tt0082748', 'tt0082118', 'tt0085253', 'tt0095379', 'tt0422401', 'tt5022702', 'tt8998472', 'tt0102690', 'tt0076150', 'tt0070791', 'tt0113376', 'tt0093677', 'tt0088117', 'tt2190838', 'tt0083542', 'tt16366836', 'tt9218128', 'tt6263850', 'tt8864596', 'tt7766378', 'tt14948432', 'tt22022452', 'tt1270797', 'tt0172495', 'tt29195603', 'tt12584954', 'tt0816692', 'tt15239678', 'tt0241527', 'tt17279496', 'tt12037194', 'tt4919268', 'tt0120737', 'tt5950044', 'tt21235248', 'tt33998607', 'tt4978420', 'tt1375666', 'tt6587046', 'tt0338526', 'tt2049403', 'tt9860566', 'tt0094721', 'tt14577874', 'tt0107120', 'tt27657135', 'tt32743167', 'tt30788842', 'tt27510174', 'tt7405458', 'tt22408160', 'tt5177120', 'tt7131622', 'tt0101272']\n"
     ]
    }
   ],
   "source": [
    "urls = [\"https://www.imdb.com/search/title/?title_type=feature,tv_movie,tv_special,video&interests=in0000152\",\n",
    "    \"https://www.imdb.com/list/ls542085053/?ref_=int_int_ls_slasher_i\",\n",
    "    \"https://www.imdb.com/search/title/?title_type=feature,tv_movie&interests=in0000012\",\n",
    "    \"https://www.imdb.com/search/title/?title_type=feature,tv_movie,tv_special,video&interests=in0000034\"]\n",
    "movie_id_list = []\n",
    "for url in urls:\n",
    "    get_movie_id(movie_id_list, url)\n",
    "\n",
    "print(movie_id_list)"
   ]
  },
  {
   "cell_type": "code",
   "execution_count": null,
   "metadata": {},
   "outputs": [],
   "source": [
    "%pip install selenium"
   ]
  },
  {
   "cell_type": "code",
   "execution_count": null,
   "metadata": {},
   "outputs": [],
   "source": [
    "%pip install selenium==4.4.3"
   ]
  },
  {
   "cell_type": "code",
   "execution_count": null,
   "metadata": {},
   "outputs": [],
   "source": [
    "%pip uninstall chromedriver-py"
   ]
  },
  {
   "cell_type": "markdown",
   "metadata": {},
   "source": [
    "Next, I will visit each movie page with the retrieved ids and scrape the reviews and ratings."
   ]
  },
  {
   "cell_type": "code",
   "execution_count": 157,
   "metadata": {},
   "outputs": [],
   "source": [
    "def get_imdb_reviews(list,movie_id):\n",
    "    # URL for the IMDb user reviews page\n",
    "    url = f\"https://www.imdb.com/title/{movie_id}/reviews?ref_=tt_ql_3\"\n",
    "    reviews_list = list\n",
    "    headers = {\n",
    "        'User-Agent': 'Mozilla/5.0 (Windows NT 10.0; Win64; x64) AppleWebKit/537.36 (KHTML, like Gecko) Chrome/89.0.4389.82 Safari/537.36'\n",
    "    }\n",
    "    \n",
    "    # Send an HTTP request to get the page content\n",
    "    response = requests.get(url, headers = headers)\n",
    "    soup = BeautifulSoup(response.text, 'html.parser')\n",
    "\n",
    "\n",
    "    # Find the review containers\n",
    "    review_containers = soup.find_all('div', class_='ipc-list-card__content')  # Adjust this class if needed\n",
    "\n",
    "    for container in review_containers:\n",
    "        review = container.find('div', class_='ipc-html-content-inner-div')\n",
    "        rating = container.find('span', class_='ipc-rating-star')\n",
    "        if review:\n",
    "            obj = {\"comment\": review.text,\n",
    "                \"rating\": int(rating.text.split(\"/\")[0]) if rating else None }\n",
    "            \n",
    "            reviews_list.append(obj)\n",
    "  \n",
    "    return reviews_list\n"
   ]
  },
  {
   "cell_type": "code",
   "execution_count": 159,
   "metadata": {},
   "outputs": [
    {
     "name": "stdout",
     "output_type": "stream",
     "text": [
      "1511\n"
     ]
    }
   ],
   "source": [
    "# Collect the text of each review\n",
    "reviews_list = []\n",
    "for movie_id in movie_id_list:\n",
    "    get_imdb_reviews(reviews_list,movie_id)\n",
    "\n",
    "print(len(reviews_list))"
   ]
  },
  {
   "cell_type": "code",
   "execution_count": 160,
   "metadata": {},
   "outputs": [
    {
     "name": "stdout",
     "output_type": "stream",
     "text": [
      "File saved successfully.\n"
     ]
    }
   ],
   "source": [
    "#add the data to the dataframe\n",
    "df = pd.DataFrame(reviews_list)\n",
    "df[\"sentiment\"] = df[\"rating\"].apply(lambda x: \"neutral\" if x == 5 else (\"negative\" if x < 5 else ( \"positive\" if x > 5 else None)))\n",
    "\n",
    "try:\n",
    "    df.to_csv(\"movie_reviews.csv\", index=False)  # index=False if you don’t need row indices\n",
    "    print(\"File saved successfully.\")\n",
    "except Exception as e:\n",
    "    print(\"Error:\", e)"
   ]
  },
  {
   "cell_type": "code",
   "execution_count": 161,
   "metadata": {},
   "outputs": [
    {
     "data": {
      "text/html": [
       "<div>\n",
       "<style scoped>\n",
       "    .dataframe tbody tr th:only-of-type {\n",
       "        vertical-align: middle;\n",
       "    }\n",
       "\n",
       "    .dataframe tbody tr th {\n",
       "        vertical-align: top;\n",
       "    }\n",
       "\n",
       "    .dataframe thead th {\n",
       "        text-align: right;\n",
       "    }\n",
       "</style>\n",
       "<table border=\"1\" class=\"dataframe\">\n",
       "  <thead>\n",
       "    <tr style=\"text-align: right;\">\n",
       "      <th></th>\n",
       "      <th>comment</th>\n",
       "      <th>rating</th>\n",
       "      <th>sentiment</th>\n",
       "    </tr>\n",
       "  </thead>\n",
       "  <tbody>\n",
       "    <tr>\n",
       "      <th>0</th>\n",
       "      <td>I just watched one of the best films of the ye...</td>\n",
       "      <td>8.0</td>\n",
       "      <td>positive</td>\n",
       "    </tr>\n",
       "    <tr>\n",
       "      <th>1</th>\n",
       "      <td>Watching this film at the Cannes Film Festival...</td>\n",
       "      <td>9.0</td>\n",
       "      <td>positive</td>\n",
       "    </tr>\n",
       "    <tr>\n",
       "      <th>2</th>\n",
       "      <td>The hype surrounding Anora is colossal, and it...</td>\n",
       "      <td>9.0</td>\n",
       "      <td>positive</td>\n",
       "    </tr>\n",
       "    <tr>\n",
       "      <th>3</th>\n",
       "      <td>I am not really familiar with Sean Baker as a ...</td>\n",
       "      <td>10.0</td>\n",
       "      <td>positive</td>\n",
       "    </tr>\n",
       "    <tr>\n",
       "      <th>4</th>\n",
       "      <td>Sean Baker returns to his wheelhouse of explor...</td>\n",
       "      <td>10.0</td>\n",
       "      <td>positive</td>\n",
       "    </tr>\n",
       "  </tbody>\n",
       "</table>\n",
       "</div>"
      ],
      "text/plain": [
       "                                             comment  rating sentiment\n",
       "0  I just watched one of the best films of the ye...     8.0  positive\n",
       "1  Watching this film at the Cannes Film Festival...     9.0  positive\n",
       "2  The hype surrounding Anora is colossal, and it...     9.0  positive\n",
       "3  I am not really familiar with Sean Baker as a ...    10.0  positive\n",
       "4  Sean Baker returns to his wheelhouse of explor...    10.0  positive"
      ]
     },
     "execution_count": 161,
     "metadata": {},
     "output_type": "execute_result"
    }
   ],
   "source": [
    "df.head()"
   ]
  },
  {
   "cell_type": "code",
   "execution_count": 164,
   "metadata": {},
   "outputs": [
    {
     "data": {
      "text/html": [
       "<div>\n",
       "<style scoped>\n",
       "    .dataframe tbody tr th:only-of-type {\n",
       "        vertical-align: middle;\n",
       "    }\n",
       "\n",
       "    .dataframe tbody tr th {\n",
       "        vertical-align: top;\n",
       "    }\n",
       "\n",
       "    .dataframe thead th {\n",
       "        text-align: right;\n",
       "    }\n",
       "</style>\n",
       "<table border=\"1\" class=\"dataframe\">\n",
       "  <thead>\n",
       "    <tr style=\"text-align: right;\">\n",
       "      <th></th>\n",
       "      <th>rating</th>\n",
       "    </tr>\n",
       "  </thead>\n",
       "  <tbody>\n",
       "    <tr>\n",
       "      <th>count</th>\n",
       "      <td>1411.000000</td>\n",
       "    </tr>\n",
       "    <tr>\n",
       "      <th>mean</th>\n",
       "      <td>6.722892</td>\n",
       "    </tr>\n",
       "    <tr>\n",
       "      <th>std</th>\n",
       "      <td>2.440301</td>\n",
       "    </tr>\n",
       "    <tr>\n",
       "      <th>min</th>\n",
       "      <td>1.000000</td>\n",
       "    </tr>\n",
       "    <tr>\n",
       "      <th>25%</th>\n",
       "      <td>6.000000</td>\n",
       "    </tr>\n",
       "    <tr>\n",
       "      <th>50%</th>\n",
       "      <td>7.000000</td>\n",
       "    </tr>\n",
       "    <tr>\n",
       "      <th>75%</th>\n",
       "      <td>8.000000</td>\n",
       "    </tr>\n",
       "    <tr>\n",
       "      <th>max</th>\n",
       "      <td>10.000000</td>\n",
       "    </tr>\n",
       "  </tbody>\n",
       "</table>\n",
       "</div>"
      ],
      "text/plain": [
       "            rating\n",
       "count  1411.000000\n",
       "mean      6.722892\n",
       "std       2.440301\n",
       "min       1.000000\n",
       "25%       6.000000\n",
       "50%       7.000000\n",
       "75%       8.000000\n",
       "max      10.000000"
      ]
     },
     "execution_count": 164,
     "metadata": {},
     "output_type": "execute_result"
    }
   ],
   "source": [
    "df.describe()"
   ]
  }
 ],
 "metadata": {
  "kernelspec": {
   "display_name": "Python (trends_of_ai)",
   "language": "python",
   "name": "trends_of_ai"
  }
 },
 "nbformat": 4,
 "nbformat_minor": 2
}
