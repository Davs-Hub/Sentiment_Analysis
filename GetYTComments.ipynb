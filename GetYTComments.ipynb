#!pip install Google-API-Python-Client
#!pip install emoji

from googleapiclient.discovery import build
import re
import emoji

Google_API_KEY = '[API-Key]'

ytApi = build('youtube', 'v3', developerKey=Google_API_KEY)

videoId = '[Video-ID]'
print('Video-ID..: ' + videoId)

requestResponse = ytApi.videos().list(
    part='snippet',
    id=videoId
).execute()

requestSnippet = requestResponse['items'][0]['snippet']
idUploaderChannel = requestSnippet['channelId']

print("Fetch comments...")
allComments = []
nextPageToken = None
while len(allComments) < 1000: 
    request = ytApi.commentThreads().list(
        part='snippet',
        videoId=videoId,
        maxResults=100, 
        pageToken=nextPageToken
    )
    response = request.execute()
    for item in response['items']:
        comment = item['snippet']['topLevelComment']['snippet']
        if comment['authorChannelId']['value'] != idUploaderChannel:
            allComments.append(comment['textDisplay'])
    nextPageToken = response.get('nextPageToken')

    if not nextPageToken:
        break
print(allComments[:10])

f = open("YTComments.csv", 'w', encoding='utf-8')
for iD, commentAllCsv in enumerate(allComments):
    f.write(str(commentAllCsv)+'\n')
f.close()
print("Save comments..")

patternHyperlink = re.compile(
    r'http[s]?://(?:[a-zA-Z]|[0-9]|[$-_@.&+]|[!*\\(\\),]|(?:%[0-9a-fA-F][0-9a-fA-F]))+')

thresholdEmojiRatio = 1.00

filteredComments = []

for textFromComment in allComments:

    textFromComment = textFromComment.lower().strip()

    emojis = emoji.emoji_count(textFromComment)

    text_characters = len(re.sub(r'\s', '', textFromComment))
    if (any(char.isalnum() for char in textFromComment)) and not patternHyperlink.search(textFromComment) and textFromComment.isascii():
        if emojis == 0 or (text_characters / (text_characters + emojis)) > thresholdEmojiRatio:
            filteredComments.append(textFromComment)

print(filteredComments[:10])

f = open("YTQAComments.csv", 'w', encoding='utf-8')
for iD, filteredCommentCsv in enumerate(filteredComments):
    f.write(str(filteredCommentCsv)+"\n")
f.close()
print("Relevant comments saved..")
