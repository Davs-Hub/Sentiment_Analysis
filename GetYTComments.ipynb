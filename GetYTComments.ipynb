{
 "cells": [
  {
   "cell_type": "code",
   "execution_count": null,
   "id": "8bda348b",
   "metadata": {},
   "outputs": [],
   "source": [
    "#!pip install Google-API-Python-Client\n",
    "#!pip install emoji"
   ]
  },
  {
   "cell_type": "code",
   "execution_count": 5,
   "id": "e999db18",
   "metadata": {},
   "outputs": [
    {
     "name": "stdout",
     "output_type": "stream",
     "text": [
      "Video-ID..: d9MyW72ELq0\n",
      "Fetch comments...\n",
      "['I just swear to god, if could live peacefully in the way of water, I would. I would even change my name. Just imagine having such life, such places to live in.', 'SEED... Energy... Bow at man... Lemurian... Man and AVATAR?', '<a href=\"https://www.youtube.com/watch?v=d9MyW72ELq0&amp;t=26\">0:26</a> enuf to make the movie blockbuster', 'Jai sudheer anna', 'Jai sudheer anna', 'Avatar means form... Pandora creatures... 99% don&#39;t know the meaning of Avtar... Yhey aren&#39;t avtar... Avtar is noun describing forns', 'IT ENDED OK,INPROSSIBLE TRY WAY.', 'AS INC. RULES....', 'Jai sudeer anna 🔥🔥', '<a href=\"https://www.youtube.com/watch?v=d9MyW72ELq0&amp;t=68\">1:08</a>']\n",
      "Save comments..\n",
      "['i just swear to god, if could live peacefully in the way of water, i would. i would even change my name. just imagine having such life, such places to live in.', 'seed... energy... bow at man... lemurian... man and avatar?', 'jai sudheer anna', 'jai sudheer anna', 'avatar means form... pandora creatures... 99% don&#39;t know the meaning of avtar... yhey aren&#39;t avtar... avtar is noun describing forns', 'it ended ok,inprossible try way.', 'as inc. rules....', 'i still think the wait was cause of a rewrite. the first movie was about a government that was taken land from locals with impunity &amp; destruction left in its wake and we have that on earth for real happening. then this water thing avatar movie was nothing remotely connected to the first movie, like the first movie didn&#39;t happen. cameron is known for this doing as recommended, take true lies &amp; was a hit &amp; thought where&#39;s the tl2 arnold tom &amp; jamie? cause of political correctness, true lies happened before 911 &amp; no true lies 2.', 'them planet so', 'a retelling of what happened to native americans... only fantasized . a cold reminder.']\n",
      "Relevant comments saved..\n"
     ]
    }
   ],
   "source": [
    "from googleapiclient.discovery import build\n",
    "import re\n",
    "import emoji\n",
    "\n",
    "#API-Key zum laden der Daten\n",
    "Google_API_KEY = '---'\n",
    "\n",
    "#Auswahl der API\n",
    "ytApi = build('youtube', 'v3', developerKey=Google_API_KEY)\n",
    "\n",
    "#Eingabe der Video ID des Filmtrailers\n",
    "videoId = 'd9MyW72ELq0'\n",
    "print('Video-ID..: ' + videoId)\n",
    "\n",
    "requestResponse = ytApi.videos().list(\n",
    "    part='snippet',\n",
    "    id=videoId\n",
    ").execute()\n",
    "\n",
    "requestSnippet = requestResponse['items'][0]['snippet']\n",
    "idUploaderChannel = requestSnippet['channelId']\n",
    "\n",
    "#250 Kommentare laden\n",
    "print(\"Fetch comments...\")\n",
    "allComments = []\n",
    "nextPageToken = None\n",
    "while len(allComments) < 250: \n",
    "    request = ytApi.commentThreads().list(\n",
    "        part='snippet',\n",
    "        videoId=videoId,\n",
    "        maxResults=100, \n",
    "        pageToken=nextPageToken\n",
    "    )\n",
    "    response = request.execute()\n",
    "    for item in response['items']:\n",
    "        comment = item['snippet']['topLevelComment']['snippet']\n",
    "        if comment['authorChannelId']['value'] != idUploaderChannel:\n",
    "            allComments.append(comment['textDisplay'])\n",
    "    nextPageToken = response.get('nextPageToken')\n",
    "\n",
    "    if not nextPageToken:\n",
    "        break\n",
    "print(allComments[:10])\n",
    "\n",
    "f = open(\"YTCommentsAvatar2.csv\", 'w', encoding='utf-8')\n",
    "for iD, commentAllCsv in enumerate(allComments):\n",
    "    f.write(str(commentAllCsv)+'\\n')\n",
    "f.close()\n",
    "print(\"Save comments..\")\n",
    "\n",
    "#Hyperlinks aus den Kommentaren herauslöschen\n",
    "patternHyperlink = re.compile(\n",
    "    r'http[s]?://(?:[a-zA-Z]|[0-9]|[$-_@.&+]|[!*\\\\(\\\\),]|(?:%[0-9a-fA-F][0-9a-fA-F]))+')\n",
    "\n",
    "thresholdEmojiRatio = 1.00\n",
    "\n",
    "filteredComments = []\n",
    "\n",
    "#Den Filter anwenden\n",
    "for textFromComment in allComments:\n",
    "\n",
    "    textFromComment = textFromComment.lower().strip()\n",
    "\n",
    "    emojis = emoji.emoji_count(textFromComment)\n",
    "    \n",
    "#Nur Text im Ascii-Format herunterladen\n",
    "    text_characters = len(re.sub(r'\\s', '', textFromComment))\n",
    "    if (any(char.isalnum() for char in textFromComment)) and not patternHyperlink.search(textFromComment) and textFromComment.isascii():\n",
    "        if emojis == 0 or (text_characters / (text_characters + emojis)) > thresholdEmojiRatio:\n",
    "            filteredComments.append(textFromComment)\n",
    "            \n",
    "#Gebe 10 Beispielkommentare aus\n",
    "print(filteredComments[:10])\n",
    "\n",
    "#Speichere die Datei als CSV ab\n",
    "f = open(\"YTQACommentsAvatar2.csv\", 'w', encoding='utf-8')\n",
    "for iD, filteredCommentCsv in enumerate(filteredComments):\n",
    "    f.write(str(filteredCommentCsv)+\"\\n\")\n",
    "f.close()\n",
    "print(\"Relevant comments saved..\")"
   ]
  },
  {
   "cell_type": "code",
   "execution_count": null,
   "id": "a030c47d",
   "metadata": {},
   "outputs": [],
   "source": []
  }
 ],
 "metadata": {
  "kernelspec": {
   "display_name": "Python (trends_of_ai)",
   "language": "python",
   "name": "trends_of_ai"
  },
  "language_info": {
   "codemirror_mode": {
    "name": "ipython",
    "version": 3
   },
   "file_extension": ".py",
   "mimetype": "text/x-python",
   "name": "python",
   "nbconvert_exporter": "python",
   "pygments_lexer": "ipython3",
   "version": "3.9.7"
  }
 },
 "nbformat": 4,
 "nbformat_minor": 5
}
