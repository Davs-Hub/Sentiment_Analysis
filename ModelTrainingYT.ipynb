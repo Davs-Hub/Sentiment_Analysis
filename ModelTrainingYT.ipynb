{
 "cells": [
  {
   "cell_type": "code",
   "execution_count": 1,
   "id": "1a08b04b",
   "metadata": {},
   "outputs": [
    {
     "name": "stdout",
     "output_type": "stream",
     "text": [
      "Requirement already satisfied: keras==2.9.0 in /opt/conda/lib/python3.9/site-packages (2.9.0)\n",
      "\u001b[33mWARNING: Running pip as the 'root' user can result in broken permissions and conflicting behaviour with the system package manager, possibly rendering your system unusable.It is recommended to use a virtual environment instead: https://pip.pypa.io/warnings/venv. Use the --root-user-action option if you know what you are doing and want to suppress this warning.\u001b[0m\u001b[33m\n",
      "\u001b[0m\n",
      "\u001b[1m[\u001b[0m\u001b[34;49mnotice\u001b[0m\u001b[1;39;49m]\u001b[0m\u001b[39;49m A new release of pip is available: \u001b[0m\u001b[31;49m24.2\u001b[0m\u001b[39;49m -> \u001b[0m\u001b[32;49m25.0\u001b[0m\n",
      "\u001b[1m[\u001b[0m\u001b[34;49mnotice\u001b[0m\u001b[1;39;49m]\u001b[0m\u001b[39;49m To update, run: \u001b[0m\u001b[32;49mpip install --upgrade pip\u001b[0m\n"
     ]
    }
   ],
   "source": [
    "#!pip show numpy\n",
    "#!pip install keras==2.9.0 \n",
    "#!pip install protobuf\n",
    "import pandas as pd\n",
    "import numpy as np\n",
    "import nltk\n",
    "#nltk.download('wordnet')\n",
    "#nltk.download('stopwords')\n"
   ]
  },
  {
   "cell_type": "code",
   "execution_count": 2,
   "id": "b2cd2107",
   "metadata": {},
   "outputs": [
    {
     "name": "stdout",
     "output_type": "stream",
     "text": [
      "Measuring the comment with the most words...\n",
      "first of all batman and joker were both criminals meaning the real people meaning the three main joker including the pop 80s 90s joker that has just been declared brain dead from guilt syndrome. batman also known as bruce wayne or wayne lauwrance aka victor von terrible died in the 2008 era of west nile capsia virus in jail for mass murder. the joker of the 80s was once bruces kidnap victim but took to a pop image of villainy when he escaped the actually wayne manor thought to be in gotham but which is actual in north of newark nj. gotham is a small island in between staten island and the nj coast thought of as part of new york nyc foot clan and marshal law district because the kids are tough because of mutants etc. muir of 400 miles approx off long island sound, and metropolis is now a governement island state for only the super rich and powerful closed off but considered one of the real 59 states as thats how many there really are. muir is a prison island state, superman died in muir years ago, spider boy as an elderly drunk was grilled for unjustifiable homocide in greenfield ma in the 2010 era by an unknown member of the punisher team, cyborg was dismantled and left as a head for research. banshee slain also for crimes in the massachusetts area, cyclops believed deceased for crimes he commited while being broad cast live in 30 states. x men seed aka arien valentino aka wick aka aries aka embarker intergalactica yonjon from gem over and out.\n",
      "Biggest comment has number of words:\n",
      "1468\n",
      "CSV has this many lines..\n",
      "941\n",
      "Train data..\n",
      "                                            reviewText  labelPos\n",
      "0    this movie sucked so bad they had to stan him ...         0\n",
      "1    better name this movie as musical clown. bigge...         0\n",
      "2    batman gonna laugh too much seeing this joker....         0\n",
      "3    wtf. who the director is. fckng idiot spoiled ...         0\n",
      "4    whatever they do but cant do it like heath led...         2\n",
      "..                                                 ...       ...\n",
      "467  what hell v the zombie land is real black ops2...         2\n",
      "468         first one tge mind chip they went up hevan         2\n",
      "469          weather stared monkey pod and conor vuris         2\n",
      "470  not broken up fat boy and wearing pink thing h...         0\n",
      "471  its scary that this rubbish isnt the low point...         0\n",
      "\n",
      "[472 rows x 2 columns]\n",
      "Test data..\n",
      "                                            reviewText  labelPos\n",
      "469          weather stared monkey pod and conor vuris         2\n",
      "470  not broken up fat boy and wearing pink thing h...         0\n",
      "471  its scary that this rubbish isnt the low point...         0\n",
      "472         you can drop the boomi in big or small one         2\n",
      "473  this trailer was sick. a shame the movie wasnt...         2\n",
      "..                                                 ...       ...\n",
      "936  now, joachim and gaga, gave solid performances...         0\n",
      "937   all mental illnesses came together in this movie         0\n",
      "938  got some good news for anyone that may come ac...         2\n",
      "939  was  gonna go watch but then heard its a music...         2\n",
      "940  was really looking forward to this movie..... ...         1\n",
      "\n",
      "[472 rows x 2 columns]\n"
     ]
    }
   ],
   "source": [
    "from tensorflow.keras.preprocessing.text import Tokenizer\n",
    "from tensorflow.keras.preprocessing.sequence import pad_sequences\n",
    "from numpy import loadtxt\n",
    "from nltk.corpus import stopwords\n",
    "stop = stopwords.words('english')\n",
    "import csv\n",
    "\n",
    "#Lade den Inhalt der gelabelten CSV-Datei mit den Kommentaren und den label (0=negativ, 1=positiv, 2=neutral)\n",
    "content = pd.read_csv('youtube_comments_complete.csv', sep='#', on_bad_lines='skip', engine='python')\n",
    "\n",
    "#Filtere den Kommentar mit den meisten Wörtern raus und gebe ihn aus\n",
    "print(\"Measuring the comment with the most words...\")\n",
    "max_comment = max(content['reviewText'], key=len)\n",
    "print(max_comment)\n",
    "\n",
    "#Zähle die Anzahl der Wörter von dem größten Kommentar\n",
    "print(\"Biggest comment has number of words:\")\n",
    "max_comment_char_count = int(len(max_comment))\n",
    "print(max_comment_char_count)\n",
    "\n",
    "#Gebe mir die Anzahl der Zeilen der geladenen CSV aus\n",
    "print(\"CSV has this many lines..\")\n",
    "print(len(content))\n",
    "\n",
    "#Trenne den Datensatz in Trainingsdaten und Testdaten auf\n",
    "print(\"Train data..\")\n",
    "train_data = content[:472] #nur die ersten X Zeilen laden\n",
    "print(train_data)\n",
    "\n",
    "#Gebe die Test und Trainingsdaten aus\n",
    "print(\"Test data..\")\n",
    "test_data = content[-472:] #nur die letzten X Zeilen laden\n",
    "print(test_data)"
   ]
  },
  {
   "cell_type": "code",
   "execution_count": 3,
   "id": "7b4f7c5b",
   "metadata": {},
   "outputs": [
    {
     "name": "stdout",
     "output_type": "stream",
     "text": [
      "0      this movie sucked so bad they had to stan him ...\n",
      "1      better name this movie as musical clown. bigge...\n",
      "2      batman gonna laugh too much seeing this joker....\n",
      "3      wtf. who the director is. fckng idiot spoiled ...\n",
      "4      whatever they do but cant do it like heath led...\n",
      "                             ...                        \n",
      "467    what hell v the zombie land is real black ops2...\n",
      "468           first one tge mind chip they went up hevan\n",
      "469            weather stared monkey pod and conor vuris\n",
      "470    not broken up fat boy and wearing pink thing h...\n",
      "471    its scary that this rubbish isnt the low point...\n",
      "Name: reviewText, Length: 472, dtype: object\n",
      "0      0\n",
      "1      0\n",
      "2      0\n",
      "3      0\n",
      "4      2\n",
      "      ..\n",
      "467    2\n",
      "468    2\n",
      "469    2\n",
      "470    0\n",
      "471    0\n",
      "Name: labelPos, Length: 472, dtype: int64\n",
      "469            weather stared monkey pod and conor vuris\n",
      "470    not broken up fat boy and wearing pink thing h...\n",
      "471    its scary that this rubbish isnt the low point...\n",
      "472           you can drop the boomi in big or small one\n",
      "473    this trailer was sick. a shame the movie wasnt...\n",
      "                             ...                        \n",
      "936    now, joachim and gaga, gave solid performances...\n",
      "937     all mental illnesses came together in this movie\n",
      "938    got some good news for anyone that may come ac...\n",
      "939    was  gonna go watch but then heard its a music...\n",
      "940    was really looking forward to this movie..... ...\n",
      "Name: reviewText, Length: 472, dtype: object\n",
      "469    2\n",
      "470    0\n",
      "471    0\n",
      "472    2\n",
      "473    2\n",
      "      ..\n",
      "936    0\n",
      "937    0\n",
      "938    2\n",
      "939    2\n",
      "940    1\n",
      "Name: labelPos, Length: 472, dtype: int64\n",
      "Train-Data\n",
      "                                            reviewText  labelPos\n",
      "0    this movie sucked so bad they had to stan him ...         0\n",
      "1    better name this movie as musical clown. bigge...         0\n",
      "2    batman gonna laugh too much seeing this joker....         0\n",
      "3    wtf. who the director is. fckng idiot spoiled ...         0\n",
      "4    whatever they do but cant do it like heath led...         2\n",
      "..                                                 ...       ...\n",
      "467  what hell v the zombie land is real black ops2...         2\n",
      "468         first one tge mind chip they went up hevan         2\n",
      "469          weather stared monkey pod and conor vuris         2\n",
      "470  not broken up fat boy and wearing pink thing h...         0\n",
      "471  its scary that this rubbish isnt the low point...         0\n",
      "\n",
      "[472 rows x 2 columns]\n"
     ]
    }
   ],
   "source": [
    "#Aufteilen des Trainingsdatensatz in die Spalten für den Kommentar('reviewText') und\n",
    "#den labels('labelPos') und geben diese aus\n",
    "train_y = train_data['reviewText']\n",
    "print(train_y)\n",
    "train_x = train_data['labelPos']\n",
    "print(train_x)\n",
    "\n",
    "#Mache das gleiche für die Testdaten\n",
    "test_y = test_data['reviewText']\n",
    "print(test_y)\n",
    "test_x = test_data['labelPos']\n",
    "print(test_x)\n",
    "\n",
    "print(\"Train-Data\")\n",
    "print(train_data)"
   ]
  },
  {
   "cell_type": "code",
   "execution_count": 4,
   "id": "a5d8b109",
   "metadata": {},
   "outputs": [
    {
     "name": "stdout",
     "output_type": "stream",
     "text": [
      "472\n",
      "472\n"
     ]
    }
   ],
   "source": [
    "#Gebe mir die Anzahl der Zeilen in den Test- und Trainingsdaten\n",
    "print(len(test_x))\n",
    "print(len(test_y))"
   ]
  },
  {
   "cell_type": "code",
   "execution_count": 5,
   "id": "18e49515",
   "metadata": {},
   "outputs": [],
   "source": [
    "#Erstelle Vokabular\n",
    "#Limitiere die maximale Anzahl an Wörtern im Vokabular\n",
    "num_words = 1000\n",
    "\n",
    "#Setze den Token der verwendet werden soll, wenn das Wort nicht im\n",
    "#Vokabular vorkommt\n",
    "oov_token = '<UNK>'\n",
    "\n",
    "#Setze das Padding und Trunc auf Post, sodass die Vektoren am Ende mit Nullen aufgefüllt\n",
    "#und abgeschnitten werden\n",
    "pad_type = 'post'\n",
    "trunc_type = 'post'"
   ]
  },
  {
   "cell_type": "code",
   "execution_count": 6,
   "id": "da59c0a6",
   "metadata": {},
   "outputs": [
    {
     "name": "stdout",
     "output_type": "stream",
     "text": [
      "179\n",
      "269\n",
      "179\n",
      "179\n",
      "{'<UNK>': 1, 'the': 2, 'a': 3, 'i': 4, 'and': 5, 'to': 6, 'is': 7, 'this': 8, 'it': 9, 'in': 10, 'movie': 11, 'of': 12, 'that': 13, 'br': 14, 'for': 15, 'was': 16, 'one': 17, 'like': 18, 'be': 19, 'they': 20, 'so': 21, 'season': 22, 'but': 23, '2': 24, 'not': 25, 'my': 26, 'game': 27, 'you': 28, 'just': 29, 'what': 30, 'he': 31, 'with': 32, 'joker': 33, 'first': 34, 'its': 35, 'good': 36, 'will': 37, 'on': 38, 'if': 39, 'are': 40, 'as': 41, 'mission': 42, 'all': 43, 'why': 44, 'me': 45, 'href': 46, 'uckszu2wh9gy1mb0dv': 47, '11ujg': 48, 'fgfy9digyjbhghlzodidw': 49, 'impossible': 50, 'who': 51, 'im': 52, 'watch': 53, 'gonna': 54, '1': 55, 'film': 56, 'trailer': 57, 'more': 58, 'tom': 59, 'would': 60, 'out': 61, 'have': 62, 'from': 63, 'squid': 64, 'games': 65, 'no': 66, 'up': 67, 'reckoning': 68, 'do': 69, 'watching': 70, 'again': 71, 'see': 72, 'wait': 73, 'really': 74, 'character': 75, 'musical': 76, 'dead': 77, 'cant': 78, 'can': 79, 'how': 80, 'best': 81, 'people': 82, 'ever': 83, 'part': 84, 'we': 85, 'now': 86, 'after': 87, 'better': 88, 'make': 89, 'watched': 90, 'gt': 91, 'bad': 92, 'going': 93, 'by': 94, 'did': 95, 'also': 96, 'because': 97, 'or': 98, 'know': 99, 'when': 100, 'back': 101, 'real': 102, 'cruise': 103, 'man': 104, 'lady': 105, 'an': 106, 'think': 107, 'very': 108, 'still': 109, 'another': 110, 'than': 111, 'super': 112, 'had': 113, 'too': 114, 'look': 115, 'gaga': 116, 'there': 117, 'then': 118, 'get': 119, 'has': 120, 'time': 121, 'dont': 122, 'his': 123, 'never': 124, 'years': 125, 'thats': 126, 'netflix': 127, 'excited': 128, 'him': 129, 'at': 130, 'much': 131, 'into': 132, 'got': 133, 'about': 134, 'am': 135, 'actor': 136, 'many': 137, 'movies': 138, 'star': 139, 'thought': 140, '3': 141, 'your': 142, 'old': 143, 'gi': 144, 'red': 145, 'end': 146, 'only': 147, 'director': 148, 'here': 149, 'go': 150, 'final': 151, 'want': 152, 'subtitles': 153, 'hair': 154, 'their': 155, 'death': 156, 'down': 157, 'off': 158, 'being': 159, 'instead': 160, 'even': 161, 'should': 162, 'she': 163, 'life': 164, 'right': 165, 'take': 166, 'lot': 167, 'love': 168, 'well': 169, 'next': 170, 'destroy': 171, 'new': 172, 'money': 173, 'wonder': 174, 'come': 175, 'wont': 176, 'nice': 177, 'o': 178, 'hun': 179, 'bro': 180, 'actors': 181, 'black': 182, 'name': 183, 'looks': 184, 'anyone': 185, 'where': 186, 'actually': 187, 'said': 188, 'great': 189, 'two': 190, 'top': 191, 'way': 192, 'could': 193, 'wrong': 194, 'any': 195, 'perfect': 196, 'worst': 197, 'stupid': 198, 'acting': 199, 'let': 200, 'trying': 201, 'ive': 202, 'show': 203, 'day': 204, 's': 205, 'lol': 206, 'feel': 207, 'took': 208, 'hard': 209, 'someone': 210, 'need': 211, 'went': 212, 'already': 213, 'last': 214, 'ai': 215, 'series': 216, 'came': 217, 'prediction': 218, 'hes': 219, 'die': 220, 'different': 221, 'quit': 222, 'wow': 223, 'wars': 224, 'diego': 225, 'zombie': 226, 'mind': 227, 'feels': 228, 'didnt': 229, 'far': 230, 'glad': 231, 'made': 232, 'idk': 233, 'ruin': 234, 'damn': 235, 'story': 236, 'writer': 237, 'wasnt': 238, 'worth': 239, 'hope': 240, 'put': 241, 'guys': 242, 'fighting': 243, 'world': 244, 'around': 245, 'version': 246, 'stop': 247, 'sucks': 248, 'released': 249, 'thing': 250, '5': 251, 'video': 252, 'sure': 253, 'disappointing': 254, 'half': 255, 'maybe': 256, 'high': 257, 'big': 258, 'franchise': 259, 'tried': 260, 'yes': 261, 'coming': 262, 'change': 263, 'same': 264, '7': 265, 'please': 266, 'episode': 267, 'home': 268, 'help': 269, 'them': 270, 'xbox': 271, 'these': 272, '20': 273, 'blood': 274, 'before': 275, 'mi': 276, 'train': 277, 'everyone': 278, 'ela': 279, 'police': 280, 'omg': 281, 'b': 282, 'korean': 283, 'book': 284, 'always': 285, 'white': 286, 'rules': 287, 'batman': 288, 'seeing': 289, 'wtf': 290, 'liked': 291, 'forward': 292, 'absolutely': 293, 'yet': 294, 'de': 295, 'niro': 296, 'everything': 297, 'say': 298, 'oh': 299, 'least': 300, 'theres': 301, 'previous': 302, 'role': 303, 'scene': 304, 'terrible': 305, 'such': 306, 'flop': 307, 'load': 308, 'worse': 309, 'job': 310, 'tell': 311, 'amazing': 312, 'become': 313, 'low': 314, 'her': 315, 'every': 316, 'loved': 317, 'theaters': 318, 'most': 319, 'films': 320, 'seen': 321, 'goes': 322, 'opportunity': 323, 'amp': 324, 'arthur': 325, 'disney': 326, 'strong': 327, 'enjoyed': 328, 'little': 329, 'dumbest': 330, 'may': 331, 'through': 332, 'against': 333, 'guy': 334, 'villain': 335, 'jokers': 336, 'doing': 337, 'purpose': 338, 'clear': 339, 'quite': 340, 'realised': 341, 'hero': 342, 'enough': 343, 'sir': 344, 'second': 345, 'since': 346, 'else': 347, 'garbage': 348, 'friend': 349, 'probably': 350, 'year': 351, 'our': 352, 'woman': 353, 'hunt': 354, 'james': 355, 'bond': 356, 'sometimes': 357, 'birthday': 358, 'full': 359, 'something': 360, 'waiting': 361, 'bir': 362, 'definitely': 363, 'brother': 364, 'teaser': 365, 'finally': 366, 'kaiji': 367, 't': 368, 'p': 369, 'shows': 370, 'protagonist': 371, '456': 372, 'alive': 373, 'check': 374, 'over': 375, 'times': 376, 'main': 377, 'lets': 378, 'might': 379, 'set': 380, 'play': 381, 'officer': 382, 'members': 383, 'light': 384, 'ha': 385, 'dubbing': 386, 'girl': 387, 'land': 388, 'lee': 389, 'montwood': 390, '99': 391, 'biggest': 392, 'laugh': 393, 'shot': 394, 'heath': 395, 'ledger': 396, 'return': 397, 'office': 398, 'rubbish': 399, 'casting': 400, 'move': 401, 'havent': 402, 'likes': 403, 'pathetic': 404, 'lewis': 405, 'bar': 406, 'stoked': 407, 'soon': 408, 'attention': 409, 'badly': 410, 'fans': 411, 'read': 412, 'qt': 413, 'line': 414, 'broke': 415, 'box': 416, 'while': 417, 'despite': 418, 'till': 419, 'hour': 420, 'awesome': 421, 'making': 422, 'face': 423, 'things': 424, 'trash': 425, 'knew': 426, 'horrible': 427, 'wanted': 428, 'sequel': 429, 'producer': 430, 'garner': 431, 'todd': 432, 'comics': 433, 'mid': 434, 'songs': 435, 'fast': 436, 'truly': 437, 'gets': 438, 'both': 439, 'direction': 440, 'work': 441, 'understand': 442, 'common': 443, 'person': 444, 'later': 445, 'rejected': 446, 'beautiful': 447, 'absolute': 448, 'success': 449, 'dogshit': 450, 'busy': 451, 'hated': 452, 'dc': 453, 'advantage': 454, 'comparing': 455, 'dizaster': 456, 'isnt': 457, 'paid': 458, 'fleck': 459, 'music': 460, 'message': 461, 'heap': 462, 'shite': 463, 'flat': 464, 'epic': 465, 'fail': 466, 'drunk': 467, 'place': 468, 'writing': 469, 'felt': 470, 'own': 471, 'school': 472, 'harley': 473, 'save': 474, 'crazy': 475, 'smart': 476, 'try': 477, 'cancer': 478, 'level': 479, 'criminals': 480, 'legacy': 481, 'corrupt': 482, 'society': 483, 'stronger': 484, 'origins': 485, 'start': 486, 'beginning': 487, 'fake': 488, 'ticket': 489, 'whos': 490, 'cannot': 491, 'fabulous': 492, 'younger': 493, 'shame': 494, 'date': 495, '8': 496, 'meant': 497, 'entertainment': 498, 'similar': 499, 'run': 500, 'miss': 501, 'science': 502, 'imagine': 503, 'supposed': 504, 'nothing': 505, 'bag': 506, 'running': 507, 'sense': 508, 'feds': 509, 'mental': 510, 'falsified': 511, 'long': 512, 'remember': 513, 'food': 514, 'comment': 515, 'believe': 516, 'away': 517, 'rest': 518, 'insurance': 519, 'orange': 520, 'juice': 521, 'initself': 522, 'goat': 523, 'pick': 524, 'dear': 525, 'vs': 526, 'action': 527, 'week': 528, 'sounds': 529, 'bold': 530, 'lose': 531, 'giving': 532, 'true': 533, 'scenes': 534, 'ethan': 535, 'spy': 536, 'buy': 537, '30': 538, 'enjoy': 539, 'win': 540, 'without': 541, 'tralier': 542, 'blue': 543, 'easily': 544, 'producers': 545, 'kinodu': 546, 'usd': 547, 'tge': 548, 'choi': 549, 'bang': 550, 'ends': 551, 'mastermind': 552, 'which': 553, 'especially': 554, 'hear': 555, 'trust': 556, 'official': 557, 'bet': 558, 'behind': 559, 'front': 560, 'christmas': 561, 'pink': 562, 'were': 563, 'release': 564, 'huns': 565, 'crappy': 566, 'grab': 567, 'does': 568, 'join': 569, 'likely': 570, 'fact': 571, 'contestants': 572, '4': 573, 'contestant': 574, 'theory': 575, 'month': 576, 'december': 577, 'posted': 578, 'lives': 579, 'expectations': 580, 'means': 581, 'plan': 582, '000': 583, 'interested': 584, 'copy': 585, 'each': 586, 'literally': 587, 'died': 588, 'g': 589, 'found': 590, 'shit': 591, 'ppl': 592, 'v': 593, 'cameo': 594, 'wins': 595, 'results': 596, 'winner': 597, 'during': 598, 'poop': 599, 'players': 600, 'deceased': 601, 'families': 602, 'family': 603, 'mr': 604, 'beast': 605, 'memes': 606, 'angles': 607, 'given': 608, 'burn': 609, 'entire': 610, 'give': 611, 'human': 612, 'scary': 613, 's1': 614, 'american': 615, 'talking': 616, 'johnny': 617, 'somali': 618, '0': 619, 'god': 620, 'pass': 621, 'jo': 622, 'english': 623, 'normal': 624, 'covid': 625, 'suing': 626, 'skywalker': 627, 'men': 628, 'kill': 629, 'angela': 630, 'sueing': 631, 'jackson': 632, 'elizabeth': 633, 'finn': 634, 'conor': 635, 'vuirs': 636, 'knowing': 637, 'boy': 638, 'some': 639, 'kid': 640, 'jedi': 641, 'johnson': 642, 'w': 643, 'buz': 644, 'hell': 645, 'sucked': 646, 'stan': 647, 'clown': 648, 'disrespect': 649, 'easy': 650, 'peacy': 651, 'fckng': 652, 'idiot': 653, 'spoiled': 654, 'whatever': 655, 'legend': 656, 'announcement': 657, 'trumps': 658, 'oval': 659, 'personally': 660, 'alot': 661, 'awful': 662, 'met': 663, 'case': 664, 'care': 665, 'taxi': 666, 'driver': 667, 'falling': 668, 'kidnaps': 669, 'jerry': 670, 'walked': 671, 'download': 672, 'pissed': 673, 'publics': 674, 'obsession': 675, 'deserved': 676, 'shattered': 677, 'hq': 678, 'officially': 679, 'cool': 680, 'records': 681, 'nonsense': 682, 'feelings': 683, 'compared': 684, 'nbk': 685, 'allure': 686, 'tie': 687, 'flicks': 688, 'moves': 689, 'america': 690, 'whoopi': 691, 'filem': 692, 'kehabisan': 693, 'bajet': 694, 'sangat': 695, 'membosankan': 696, 'queen': 697, 'sang': 698, 'veryy': 699, 'plays': 700, 'kontol': 701, 'been': 702, 'fixed': 703, 'joke': 704, 'needed': 705, 'payoff': 706, 'bravo': 707, 'slap': 708, 'worshipped': 709, 'reasons': 710, 'caused': 711, 'damage': 712, 'dressing': 713, 'involved': 714, 'somewhat': 715, 'irrelevant': 716, 'soo': 717, 'smh': 718, 'bollocks': 719, 'title': 720, 'saddens': 721, 'called': 722, 'folie': 723, 'dooks': 724, 'joseph': 725, 'phillips': 726, 'scott': 727, 'silver': 728, 'absolutly': 729, 'villian': 730, 'writers': 731, 'angry': 732, 'joaquin': 733, 'phoenix': 734, 'killed': 735, 'sukd': 736, 'mood': 737, 'freaking': 738, 'otherwise': 739, 'meh': 740, 'yikes': 741, 'boating': 742, 'cheap': 743, 'fantastic': 744, 'mary': 745, 'poppins': 746, 'gone': 747, 'mad': 748, 'intellectual': 749, 'minus': 750, 'shortest': 751, 'history': 752, 'masterpiece': 753, 'philips': 754, 'oscar': 755, 'underrated': 756, 'honestly': 757, 'rewatch': 758, 'iq': 759, 'corrupted': 760, 'tries': 761, 'period': 762, 'putting': 763, 'killer': 764, 'born': 765, 'remake': 766, 'hit': 767, 'lalaland': 768, 'aspect': 769, 'fkn': 770, 'normals': 771, 'ill': 772, 'tanks': 773, 'saddest': 774, 'depressing': 775, 'brotha': 776, 'stinks': 777, 'intolerable': 778, 'night': 779, 'sooo': 780, 'valentines': 781, 'y': 782, 'jus': 783, 'piece': 784, 'relevant': 785, 'anymore': 786, 'welcome': 787, 'kamalas': 788, 'presidency': 789, 'jokes': 790, 'skipping': 791, 'segments': 792, 'improved': 793, 'huge': 794, 'consider': 795, 'stretch': 796, 'imagination': 797, 'journey': 798, 'waited': 799, 'incels': 800, 'jerking': 801, 'filmmakers': 802, 'few': 803, 're': 804, 'evaluated': 805, 'unwatchable': 806, 'offensive': 807, 'cinema': 808, 'massive': 809, 'boo': 810, 'brought': 811, 'bit': 812, 'important': 813, 'reviews': 814, 'produced': 815, 'kamala': 816, 'fan': 817, 'frustrated': 818, 'waste': 819, 'talent': 820, 'wb': 821, 'digging': 822, 'grave': 823, 'dark': 824, '2024': 825, 'admittedly': 826, 'dragged': 827, 'pointless': 828, 'musicals': 829, 'convincing': 830, 'pioneer': 831, 'victim': 832, 'failed': 833, 'exposing': 834, 'damaging': 835, 'corruption': 836, 'anarchy': 837, 'criminality': 838, 'killing': 839, 'elite': 840, 'pretending': 841, 'somehow': 842, 'passing': 843, 'happens': 844, 'arthurs': 845, 'lost': 846, 'government': 847, 'grow': 848, 'lead': 849, 'event': 850, 'completely': 851, 'butchered': 852, 'superhero': 853, 'id': 854, 'turn': 855, 'fought': 856, 'enjoying': 857, 'until': 858, 'halfway': 859, 'quinn': 860, 'singing': 861, 'annoying': 862, 'totally': 863, 'ruined': 864, 'whole': 865, 'raising': 866, 'wolves': 867, 'le': 868, 'pire': 869, 'que': 870, 'jai': 871, 'vu': 872, 'en': 873, '40': 874, 'ans': 875, 'days': 876, 'realize': 877, 'kumbavu': 878, 'mimi': 879, 'ofc': 880, 'emphasise': 881, 'rebecca': 882, 'ferguson': 883, 'replaced': 884, 'usual': 885, 'sequels': 886, 'disgusting': 887, 'single': 888, 'raised': 889, 'instantly': 890, 'dropped': 891, '2025': 892, 'm': 893, 'asap': 894, 'tuesday': 895, 'phenomanal': 896, 'motorcycle': 897, 'honda': 898, 'cb350': 899, 'frame': 900, 'reveal': 901, 'installment': 902, 'joel': 903, 'goodsen': 904, 'princeton': 905, 'university': 906, 'major': 907, 'business': 908, 'dual': 909, 'political': 910, 'computer': 911, 'uncharted': 912, 'nolan': 913, '1st': 914, 'months': 915, 'heard': 916, 'rumors': 917, 'november': 918, 'gladiator': 919, 'worthless': 920, 'skin': 921, 'georgia': 922, 'ranger': 923, 'done': 924, 'bass': 925, 'donkey': 926, 'phelps': 927, 'max': 928, '2026': 929, 'bgm': 930, 'spider': 931, 'christ': 932, 'court': 933, 'health': 934, 'evaluator': 935, 'evidence': 936, 'jesus': 937, 'da': 938, 'crooked': 939, 'certificates': 940, 'issued': 941, 'morgue': 942, 'funeral': 943, 'sister': 944, 'group': 945, 'purchased': 946, 'inheritances': 947, 'investigation': 948, 'stand': 949, 'side': 950, 'step': 951, 'thephysical': 952, 'pain': 953, 'feb': 954, 'march': 955, 'inception': 956, 'painful': 957, 'disappointed': 958, 'position': 959, 'staying': 960, 'behaving': 961, 'coward': 962, 'hold': 963, 'shouldnt': 964, 'network': 965, 'integrity': 966, 'fyi': 967, 'anything': 968, 'scum': 969, 'forgive': 970, 'delay': 971, 'jay': 972, 'worry': 973, 'advice': 974, 'plot': 975, 'holes': 976, 'sequences': 977, 'benji': 978, 'luthor': 979, 'acted': 980, 'ones': 981, 'tho': 982, 'weird': 983, '60': 984, 'unstoppable': 985, 'agent': 986, 'underworld': 987, 'inspector': 988, 'gadget': 989, 'godzilla': 990, 'king': 991, 'monsters': 992, 'constantine': 993, 'including': 994, 'mansions': 995, 'pcs': 996, 'included': 997, 'house': 998, 'pc': 999, 'recking': 1000, 'ice': 1001, 'coffees': 1002, 'inthemselves': 1003, 'mansion': 1004, 'hot': 1005, 'water': 1006, 'wheres': 1007, 'chicken': 1008, 'soup': 1009, 'marinade': 1010, 'blu': 1011, 'ray': 1012, 'carinya': 1013, 'pl': 1014, 'kirrawee': 1015, 'nsw': 1016, 'beth': 1017, 'club': 1018, 'ago': 1019, 'bored': 1020, 'almost': 1021, 'fell': 1022, 'asleep': 1023, 'pay': 1024, 'elsa': 1025, 'dies': 1026, 'us': 1027, 'use': 1028, 'nuke': 1029, 'pls': 1030, 'pol': 1031, 'sickness': 1032, 'misson': 1033, 'thalapathy': 1034, 'excellent': 1035, 'market': 1036, 'strategy': 1037, 'barbie': 1038, 'oppenheimer': 1039, 'hollywood': 1040, 'pushing': 1041, 'agenda': 1042, 'casts': 1043, 'women': 1044, 'changing': 1045, 'truth': 1046, 'vanishing': 1047, 'war': 1048, 'signal': 1049, 'favorite': 1050, '2023': 1051, 'loves': 1052, 'heroes': 1053, 'entity': 1054, 'suit': 1055, 'nwo': 1056, 'swell': 1057, 'robots': 1058, 'everywhere': 1059, 'stealing': 1060, 'information': 1061, 'furthering': 1062, 'jobloss': 1063, 'solution': 1064, 'cease': 1065, 'boring': 1066, 'blowing': 1067, 'whistle': 1068, 'tbh': 1069, 'dreaded': 1070, 'circular': 1071, 'chasing': 1072, 'neck': 1073, 'seems': 1074, 'missing': 1075, 'lots': 1076, 'stunts': 1077, 'respect': 1078, '61': 1079, '29': 1080, 'father': 1081, 'happy': 1082, 'runs': 1083, 'steam': 1084, 'burning': 1085, 'coal': 1086, 'keeps': 1087, 'adding': 1088, 'eventually': 1089, 'slows': 1090, 'shouldve': 1091, 'diesel': 1092, 'plausible': 1093, 'hi': 1094, 'toms': 1095, 'looked': 1096, 'puffy': 1097, 'plastic': 1098, 'surgery': 1099, 'couldnt': 1100, 'used': 1101, 'beetle': 1102, 'paramount': 1103, 'create': 1104, 'ios': 1105, 'x': 1106, 'marathon': 1107, 'reminds': 1108, 'skyfall': 1109, 'barbenheimer': 1110, 'changed': 1111, 'directors': 1112, 'sprinting': 1113, 'elaaa': 1114, '10000': 1115, 'pulumu': 1116, 'yediler': 1117, 'geri': 1118, 'qaytarmadilar': 1119, 'serefsizlikle': 1120, 'mesguldular': 1121, 'inanmiyin': 1122, 'hecneye': 1123, 'adami': 1124, 'aldadirlar': 1125, 'deleduzluknen': 1126, 'insanlardan': 1127, 'pul': 1128, 'qoparmaga': 1129, 'calisirlar': 1130, 'rehberlikde': 1131, 'dolandiricidi': 1132, 'kinolari': 1133, 'vafse': 1134, 'saxtadi': 1135, 'beyendim': 1136, 'piqued': 1137, 'interest': 1138, 'filme': 1139, 'baxmaq': 1140, 'ayrica': 1141, 'zovqdur': 1142, 'aktiyorlari': 1143, 'sevyedir': 1144, 'izlemeye': 1145, 'deyer': 1146, 'mukkemmel': 1147, 'maraqlidi': 1148, 'maraqli': 1149, 'filimdi': 1150, 'fantastik': 1151, 'sixilmadan': 1152, 'baxin': 1153, 'izliyin': 1154, 'pesman': 1155, 'olmazsiz': 1156, 'bodugca': 1157, 'adniralin': 1158, 'superdi': 1159, 'kruzun': 1160, 'butun': 1161, 'filmleri': 1162, 'yaxshidi': 1163, 'esasende': 1164, 'bu': 1165, 'nise': 1166, 'adventure': 1167, 'amaising': 1168, 'yaxwi': 1169, 'cruises': 1170, 'grande': 1171, 'revel': 1172, 'filime': 1173, 'impaaivile': 1174, 'e': 1175, 'assito': 1176, 'vaeias': 1177, 'watches': 1178, 'superrrr': 1179, 'filmmm': 1180, 'ellaaa': 1181, 'keep': 1182, 'tense': 1183, 'ohh': 1184, 'vox': 1185, 'gozel': 1186, 'senses': 1187, 'bunun': 1188, 'faraqmani': 1189, 'bele': 1190, 'heycanli': 1191, 'filindi': 1192, 'filmdi': 1193, 'filim': 1194, 'lived': 1195, 'hype': 1196, 'superrr': 1197, 'mohteshem': 1198, 'living': 1199, 'aksiyon': 1200, 'dolu': 1201, 'jeniffer': 1202, '11': 1203, '12': 1204, 'furious': 1205, 'manz': 1206, 'dream': 1207, 'lbj': 1208, 'unfortunately': 1209, 'struggle': 1210, 'hearing': 1211, 'rely': 1212, 'grossly': 1213, 'neglects': 1214, 'translated': 1215, 'media': 1216, 'words': 1217, 'netflixs': 1218, 'twists': 1219, 'await': 1220, 'intense': 1221, 'challenges': 1222, 'learn': 1223, 'uncover': 1224, 'secrets': 1225, 'mans': 1226, 'identity': 1227, 'rip': 1228, 'exelente': 1229, 'guards': 1230, 'attacked': 1231, 'hahahahahah': 1232, 'documentary': 1233, 'rather': 1234, 'd': 1235, 'other': 1236, 'famous': 1237, 'ending': 1238, 'color': 1239, 'sesason': 1240, 'kpn': 1241, 'maen': 1242, 'either': 1243, 'depending': 1244, 'handle': 1245, 'concept': 1246, 'advanced': 1247, 'knowledge': 1248, 'works': 1249, 'cash': 1250, 'sucking': 1251, 'due': 1252, 'coin': 1253, 'toss': 1254, 'stage': 1255, 'behold': 1256, 'quickly': 1257, 'blessed': 1258, 'keepeth': 1259, 'sayings': 1260, 'prophecy': 1261, 'revelation': 1262, '22': 1263, 'hangover': 1264, 'exist': 1265, 'yo': 1266, 'whens': 1267, 'comin': 1268, 'seasons': 1269, 'hunger': 1270, 'protagonists': 1271, 'experience': 1272, 'winning': 1273, 'interrupted': 1274, 'third': 1275, 'starts': 1276, 'properly': 1277, 'organisation': 1278, 'entered': 1279, 'added': 1280, 'makes': 1281, '400': 1282, '956': 1283, 'pinkie': 1284, 'post': 1285, 'becuase': 1286, 'july': 1287, 'dates': 1288, 'teasers': 1289, 'trailers': 1290, 'news': 1291, 'messed': 1292, 'deal': 1293, 'curious': 1294, 'extremely': 1295, 'usually': 1296, 'meet': 1297, 'hopefully': 1298, 'warning': 1299, 'dumb': 1300, 'subscribed': 1301, 'youtube': 1302, 'channel': 1303, 'subscribers': 1304, 'myself': 1305, 'collaborating': 1306, 'looking': 1307, 'virgins': 1308, 'floors': 1309, 'offer': 1310, 'previously': 1311, 'won': 1312, 'prize': 1313, 'persons': 1314, 'roughly': 1315, '71': 1316, '10': 1317, '50': 1318, 'dollars': 1319, 'unnecessary': 1320, 'sex': 1321, 'ohhhhh': 1322, 'hyped': 1323, 'master': 1324, 'creation': 1325, 'yuriii': 1326, 'sacrificed': 1327, '26th': 1328, 'oddly': 1329, 'original': 1330, 'sad': 1331, 'understands': 1332, 'survivor': 1333, 'becomes': 1334, 'vip': 1335, 'ok': 1336, 'whats': 1337, 'happened': 1338, 'sht': 1339, 'getting': 1340, 'freak': 1341, 'feeling': 1342, 'mean': 1343, 'seriously': 1344, 'aint': 1345, 'survive': 1346, 'those': 1347, 'twice': 1348, 'babyyyy': 1349, 'hindi': 1350, 'dhon': 1351, 'banaiaso': 1352, 'sei': 1353, 'hoise': 1354, 'indian': 1355, 'anupam': 1356, 'tripathi': 1357, 'bts': 1358, 'aaaaaaaaaaaa': 1359, 'tournaments': 1360, 'outside': 1361, 'drama': 1362, 'aura': 1363, 'wants': 1364, 'prequel': 1365, 'live': 1366, 'reason': 1367, 'guess': 1368, 'dying': 1369, 'bigbang': 1370, 'hand': 1371, 'shove': 1372, 'question': 1373, 'contacted': 1374, 'organization': 1375, 'xnnzkvnn': 1376, 'sheeeshh': 1377, 'comeback': 1378, 'support': 1379, 'button': 1380, 'wondering': 1381, 'leave': 1382, 'based': 1383, 'majority': 1384, 'vote': 1385, 'exact': 1386, 'recreated': 1387, 'cook': 1388, 'brainrot': 1389, 'wish': 1390, 'filming': 1391, 'close': 1392, 'personalised': 1393, 'seeming': 1394, 'authentic': 1395, 'anyways': 1396, 'saying': 1397, 'recognisable': 1398, 'mainstream': 1399, 'hmm': 1400, 'addicting': 1401, 'ambuiguity': 1402, 'huh': 1403, 'revealed': 1404, 'slow': 1405, 'revelations': 1406, 'climax': 1407, 'toward': 1408, 'comments': 1409, 'implemented': 1410, 'voting': 1411, 'taking': 1412, 'bloody': 1413, 'overall': 1414, 'worthy': 1415, 'bring': 1416, 'kaos': 1417, 'fairness': 1418, 'equality': 1419, 'allow': 1420, 'played': 1421, 'unfair': 1422, 'alice': 1423, 'borderland': 1424, 'shi': 1425, 'comes': 1426, 'brithday': 1427, 'exactly': 1428, 'gift': 1429, 'skillet': 1430, 'album': 1431, 'lp': 1432, 'mh': 1433, 'wilds': 1434, 'gta': 1435, 'vi': 1436, 'recognized': 1437, 'spoil': 1438, '390': 1439, 'gihun': 1440, 'tis': 1441, 'gona': 1442, 'green': 1443, 'effects': 1444, 'cgi': 1445, 'practical': 1446, 'lousy': 1447, 'choice': 1448, 'nobody': 1449, 'gta6': 1450, 'isw': 1451, 'brilliant': 1452, 'ish': 1453, 'lock': 1454, 'search': 1455, 'typing': 1456, 'hum': 1457, 'sigma': 1458, 'frontman': 1459, 'gong': 1460, 'yoo': 1461, 'screen': 1462, 'having': 1463, 'build': 1464, 'biting': 1465, 'nails': 1466, 'anticipation': 1467, 'diff': 1468, 'mrbeast': 1469, 'releasing': 1470, 'hoping': 1471, 'seung': 1472, 'hyun': 1473, 'happen': 1474, 'bodies': 1475, 'spiderman': 1476, 'dodge': 1477, 'bullets': 1478, 'beat': 1479, 'nead': 1480, 'scavenger': 1481, 'hide': 1482, 'seek': 1483, 'saw': 1484, 'thank': 1485, 'rid': 1486, 'butt': 1487, 'ugly': 1488, 'chat': 1489, '2027': 1490, 's3': 1491, 'lunch': 1492, 'scripted': 1493, 'leaked': 1494, 'joining': 1495, 'rapid': 1496, 'civilization': 1497, 'hay': 1498, 'huaaaaaaaaaaa': 1499, 'tf': 1500, 'captions': 1501, 'carbon': 1502, 'essentially': 1503, 'marketing': 1504, 'team': 1505, 'speakers': 1506, 'awkward': 1507, 'recommend': 1508, 'skills': 1509, 'voice': 1510, 'soul': 1511, 'characters': 1512, 'speaking': 1513, 'youtuber': 1514, 'reaction': 1515, 'videos': 1516, 'recommended': 1517, 'non': 1518, 'dynamic': 1519, 'visual': 1520, 'acuity': 1521, 'greater': 1522, 'expressive': 1523, 'power': 1524, 'youre': 1525, 'halves': 1526, 'fun': 1527, 'crush': 1528, 'yuri': 1529, 've': 1530, 'sunghoon': 1531, 'varsa': 1532, 'bende': 1533, 'varim': 1534, 'aga': 1535, '9': 1536, 'mess': 1537, 'universe': 1538, 'beforehand': 1539, 'verizon': 1540, 'robot': 1541, 'staring': 1542, 'lan': 1543, 'evero': 1544, 'to2009': 1545, '2019': 1546, '2015': 1547, 'talked': 1548, 'domestic': 1549, 'oder': 1550, 'ready': 1551, 'player': 1552, 'vr': 1553, 'chang': 1554, 'cried': 1555, 'random': 1556, 'owned': 1557, 'bloodline': 1558, 'rewrote': 1559, 'head': 1560, 'breath': 1561, 'theeth': 1562, 'danny': 1563, 'mannys': 1564, 'impressive': 1565, 'section': 1566, 'open': 1567, 'shower': 1568, 'steaming': 1569, 'elephant': 1570, 'dung': 1571, 'bores': 1572, 'seven': 1573, 'hours': 1574, 'lifetime': 1575, 'jabba': 1576, 'weight': 1577, 'depressed': 1578, 'chewbaccas': 1579, 'fall': 1580, 'saber': 1581, 'erectile': 1582, 'dysfuntion': 1583, 'leader': 1584, 'stands': 1585, 'plate': 1586, 'hate': 1587, 'michael': 1588, 'martinez': 1589, 'kenneth': 1590, 'wasted': 1591, '1159': 1592, 'swift': 1593, 'skyway': 1594, 'kids': 1595, 'teens': 1596, 'middle': 1597, 'coke': 1598, 'accounts': 1599, 'sslo': 1600, 'nose': 1601, 'sky': 1602, 'computers': 1603, 'walker': 1604, 'donald': 1605, 'north': 1606, 'korea': 1607, 'laura': 1608, 'battlfront2': 1609, 'ep1': 1610, 'jj': 1611, 'jam': 1612, 'stone': 1613, 'masks': 1614, 'bearr': 1615, 'bear': 1616, 'cops': 1617, 'tracyer': 1618, 'fmshe': 1619, 'nino': 1620, 'brown': 1621, '2013': 1622, 'deadpool': 1623, 'geting': 1624, 'coviiiii': 1625, 'zombies': 1626, 'deborah': 1627, 'harris': 1628, 'linda': 1629, 'young': 1630, 'ladies': 1631, 'gentlemen': 1632, 'gives': 1633, 'goosebumps': 1634, 'shirt': 1635, 'abc7': 1636, 'actual': 1637, 'addresses': 1638, 'arrest': 1639, 'leaving': 1640, '2045': 1641, 'starwars': 1642, 'rictes': 1643, 'manny': 1644, 'fired': 1645, 'apirl': 1646, 'fool': 1647, 'cost': 1648, 'roblox': 1649, 'adam': 1650, 'alexia': 1651, '00': 1652, 'tv': 1653, 'guide': 1654, 'lego': 1655, 'pics': 1656, 'peach': 1657, 'tim': 1658, 'tok': 1659, 'perhaps': 1660, 'treated': 1661, 'harshly': 1662, 'buttock': 1663, 'ruining': 1664, 'removed': 1665, 'lore': 1666, 'legends': 1667, 'category': 1668, 'perez': 1669, 'margaret': 1670, 'hernandez': 1671, 'william': 1672, 'cynthia': 1673, 'chris': 1674, 'evans': 1675, '88': 1676, 'tree': 1677, 'edges': 1678, 'luke': 1679, 'hands': 1680, 'sw': 1681, 'however': 1682, 'saga': 1683, 'rodriguez': 1684, 'gary': 1685, 'ronald': 1686, 'thomas': 1687, 'remeber': 1688, 'thinking': 1689, 'haha': 1690, 'controls': 1691, 'jlb': 1692, 'gaming': 1693, 'room': 1694, 'famousssss': 1695, 'ops2': 1696, 'blackops1': 1697, 'chip': 1698, 'hevan': 1699, 'weather': 1700, 'stared': 1701, 'monkey': 1702, 'pod': 1703, 'vuris': 1704, 'broken': 1705, 'fat': 1706, 'wearing': 1707, 'hahaha': 1708, 'thinks': 1709, 'fiego': 1710, 'point': 1711}\n",
      "['<unk>', 'the', 'a', 'i', 'and', 'to', 'is', 'thi', 'it', 'in', 'movi', 'of', 'that', 'br', 'for', 'wa', 'one', 'like', 'be', 'they', 'so', 'season', 'but', '2', 'not', 'my', 'game', 'you', 'just', 'what', 'he', 'with', 'joker', 'first', 'it', 'good', 'will', 'on', 'if', 'are', 'as', 'mission', 'all', 'whi', 'me', 'href', 'uckszu2wh9gy1mb0dv', '11ujg', 'fgfy9digyjbhghlzodidw', 'imposs', 'who', 'im', 'watch', 'gonna', '1', 'film', 'trailer', 'more', 'tom', 'would', 'out', 'have', 'from', 'squid', 'game', 'no', 'up', 'reckon', 'do', 'watch', 'again', 'see', 'wait', 'realli', 'charact', 'music', 'dead', 'cant', 'can', 'how', 'best', 'peopl', 'ever', 'part', 'we', 'now', 'after', 'better', 'make', 'watch', 'gt', 'bad', 'go', 'by', 'did', 'also', 'becaus', 'or', 'know', 'when', 'back', 'real', 'cruis', 'man', 'ladi', 'an', 'think', 'veri', 'still', 'anoth', 'than', 'super', 'had', 'too', 'look', 'gaga', 'there', 'then', 'get', 'ha', 'time', 'dont', 'hi', 'never', 'year', 'that', 'netflix', 'excit', 'him', 'at', 'much', 'into', 'got', 'about', 'am', 'actor', 'mani', 'movi', 'star', 'thought', '3', 'your', 'old', 'gi', 'red', 'end', 'onli', 'director', 'here', 'go', 'final', 'want', 'subtitl', 'hair', 'their', 'death', 'down', 'off', 'be', 'instead', 'even', 'should', 'she', 'life', 'right', 'take', 'lot', 'love', 'well', 'next', 'destroy', 'new', 'money', 'wonder', 'come', 'wont', 'nice', 'o', 'hun', 'bro', 'actor', 'black', 'name', 'look', 'anyon', 'where', 'actual', 'said', 'great', 'two', 'top', 'way', 'could', 'wrong', 'ani', 'perfect', 'worst', 'stupid', 'act', 'let', 'tri', 'ive', 'show', 'day', 's', 'lol', 'feel', 'took', 'hard', 'someon', 'need', 'went', 'alreadi', 'last', 'ai', 'seri', 'came', 'predict', 'he', 'die', 'differ', 'quit', 'wow', 'war', 'diego', 'zombi', 'mind', 'feel', 'didnt', 'far', 'glad', 'made', 'idk', 'ruin', 'damn', 'stori', 'writer', 'wasnt', 'worth', 'hope', 'put', 'guy', 'fight', 'world', 'around', 'version', 'stop', 'suck', 'releas', 'thing', '5', 'video', 'sure', 'disappoint', 'half', 'mayb', 'high', 'big', 'franchis', 'tri', 'ye', 'come', 'chang', 'same', '7', 'pleas', 'episod', 'home', 'help', 'them', 'xbox', 'these', '20', 'blood', 'befor', 'mi', 'train', 'everyon', 'ela', 'polic', 'omg', 'b', 'korean', 'book', 'alway', 'white', 'rule', 'batman', 'see', 'wtf', 'like', 'forward', 'absolut', 'yet', 'de', 'niro', 'everyth', 'say', 'oh', 'least', 'there', 'previou', 'role', 'scene', 'terribl', 'such', 'flop', 'load', 'wors', 'job', 'tell', 'amaz', 'becom', 'low', 'her', 'everi', 'love', 'theater', 'most', 'film', 'seen', 'goe', 'opportun', 'amp', 'arthur', 'disney', 'strong', 'enjoy', 'littl', 'dumbest', 'may', 'through', 'against', 'guy', 'villain', 'joker', 'do', 'purpos', 'clear', 'quit', 'realis', 'hero', 'enough', 'sir', 'second', 'sinc', 'els', 'garbag', 'friend', 'probabl', 'year', 'our', 'woman', 'hunt', 'jame', 'bond', 'sometim', 'birthday', 'full', 'someth', 'wait', 'bir', 'definit', 'brother', 'teaser', 'final', 'kaiji', 't', 'p', 'show', 'protagonist', '456', 'aliv', 'check', 'over', 'time', 'main', 'let', 'might', 'set', 'play', 'offic', 'member', 'light', 'ha', 'dub', 'girl', 'land', 'lee', 'montwood', '99', 'biggest', 'laugh', 'shot', 'heath', 'ledger', 'return', 'offic', 'rubbish', 'cast', 'move', 'havent', 'like', 'pathet', 'lewi', 'bar', 'stoke', 'soon', 'attent', 'badli', 'fan', 'read', 'qt', 'line', 'broke', 'box', 'while', 'despit', 'till', 'hour', 'awesom', 'make', 'face', 'thing', 'trash', 'knew', 'horribl', 'want', 'sequel', 'produc', 'garner', 'todd', 'comic', 'mid', 'song', 'fast', 'truli', 'get', 'both', 'direct', 'work', 'understand', 'common', 'person', 'later', 'reject', 'beauti', 'absolut', 'success', 'dogshit', 'busi', 'hate', 'dc', 'advantag', 'compar', 'dizast', 'isnt', 'paid', 'fleck', 'music', 'messag', 'heap', 'shite', 'flat', 'epic', 'fail', 'drunk', 'place', 'write', 'felt', 'own', 'school', 'harley', 'save', 'crazi', 'smart', 'tri', 'cancer', 'level', 'crimin', 'legaci', 'corrupt', 'societi', 'stronger', 'origin', 'start', 'begin', 'fake', 'ticket', 'who', 'cannot', 'fabul', 'younger', 'shame', 'date', '8', 'meant', 'entertain', 'similar', 'run', 'miss', 'scienc', 'imagin', 'suppos', 'noth', 'bag', 'run', 'sens', 'fed', 'mental', 'falsifi', 'long', 'rememb', 'food', 'comment', 'believ', 'away', 'rest', 'insur', 'orang', 'juic', 'initself', 'goat', 'pick', 'dear', 'vs', 'action', 'week', 'sound', 'bold', 'lose', 'give', 'true', 'scene', 'ethan', 'spi', 'buy', '30', 'enjoy', 'win', 'without', 'tralier', 'blue', 'easili', 'produc', 'kinodu', 'usd', 'tge', 'choi', 'bang', 'end', 'mastermind', 'which', 'especi', 'hear', 'trust', 'offici', 'bet', 'behind', 'front', 'christma', 'pink', 'were', 'releas', 'hun', 'crappi', 'grab', 'doe', 'join', 'like', 'fact', 'contest', '4', 'contest', 'theori', 'month', 'decemb', 'post', 'live', 'expect', 'mean', 'plan', '000', 'interest', 'copi', 'each', 'liter', 'die', 'g', 'found', 'shit', 'ppl', 'v', 'cameo', 'win', 'result', 'winner', 'dure', 'poop', 'player', 'deceas', 'famili', 'famili', 'mr', 'beast', 'meme', 'angl', 'given', 'burn', 'entir', 'give', 'human', 'scari', 's1', 'american', 'talk', 'johnni', 'somali', '0', 'god', 'pass', 'jo', 'english', 'normal', 'covid', 'su', 'skywalk', 'men', 'kill', 'angela', 'sue', 'jackson', 'elizabeth', 'finn', 'conor', 'vuir', 'know', 'boy', 'some', 'kid', 'jedi', 'johnson', 'w', 'buz', 'hell', 'suck', 'stan', 'clown', 'disrespect', 'easi', 'peaci', 'fckng', 'idiot', 'spoil', 'whatev', 'legend', 'announc', 'trump', 'oval', 'person', 'alot', 'aw', 'met', 'case', 'care', 'taxi', 'driver', 'fall', 'kidnap', 'jerri', 'walk', 'download', 'piss', 'public', 'obsess', 'deserv', 'shatter', 'hq', 'offici', 'cool', 'record', 'nonsens', 'feel', 'compar', 'nbk', 'allur', 'tie', 'flick', 'move', 'america', 'whoopi', 'filem', 'kehabisan', 'bajet', 'sangat', 'membosankan', 'queen', 'sang', 'veryy', 'play', 'kontol', 'been', 'fix', 'joke', 'need', 'payoff', 'bravo', 'slap', 'worship', 'reason', 'caus', 'damag', 'dress', 'involv', 'somewhat', 'irrelev', 'soo', 'smh', 'bollock', 'titl', 'sadden', 'call', 'foli', 'dook', 'joseph', 'phillip', 'scott', 'silver', 'absolutli', 'villian', 'writer', 'angri', 'joaquin', 'phoenix', 'kill', 'sukd', 'mood', 'freak', 'otherwis', 'meh', 'yike', 'boat', 'cheap', 'fantast', 'mari', 'poppin', 'gone', 'mad', 'intellectu', 'minu', 'shortest', 'histori', 'masterpiec', 'philip', 'oscar', 'underr', 'honestli', 'rewatch', 'iq', 'corrupt', 'tri', 'period', 'put', 'killer', 'born', 'remak', 'hit', 'lalaland', 'aspect', 'fkn', 'normal', 'ill', 'tank', 'saddest', 'depress', 'brotha', 'stink', 'intoler', 'night', 'sooo', 'valentin', 'y', 'ju', 'piec', 'relev', 'anymor', 'welcom', 'kamala', 'presid', 'joke', 'skip', 'segment', 'improv', 'huge', 'consid', 'stretch', 'imagin', 'journey', 'wait', 'incel', 'jerk', 'filmmak', 'few', 're', 'evalu', 'unwatch', 'offens', 'cinema', 'massiv', 'boo', 'brought', 'bit', 'import', 'review', 'produc', 'kamala', 'fan', 'frustrat', 'wast', 'talent', 'wb', 'dig', 'grave', 'dark', '2024', 'admittedli', 'drag', 'pointless', 'music', 'convinc', 'pioneer', 'victim', 'fail', 'expos', 'damag', 'corrupt', 'anarchi', 'crimin', 'kill', 'elit', 'pretend', 'somehow', 'pass', 'happen', 'arthur', 'lost', 'govern', 'grow', 'lead', 'event', 'complet', 'butcher', 'superhero', 'id', 'turn', 'fought', 'enjoy', 'until', 'halfway', 'quinn', 'sing', 'annoy', 'total', 'ruin', 'whole', 'rais', 'wolv', 'le', 'pire', 'que', 'jai', 'vu', 'en', '40', 'an', 'day', 'realiz', 'kumbavu', 'mimi', 'ofc', 'emphasis', 'rebecca', 'ferguson', 'replac', 'usual', 'sequel', 'disgust', 'singl', 'rais', 'instantli', 'drop', '2025', 'm', 'asap', 'tuesday', 'phenoman', 'motorcycl', 'honda', 'cb350', 'frame', 'reveal', 'instal', 'joel', 'goodsen', 'princeton', 'univers', 'major', 'busi', 'dual', 'polit', 'comput', 'unchart', 'nolan', '1st', 'month', 'heard', 'rumor', 'novemb', 'gladiat', 'worthless', 'skin', 'georgia', 'ranger', 'done', 'bass', 'donkey', 'phelp', 'max', '2026', 'bgm', 'spider', 'christ', 'court', 'health', 'evalu', 'evid', 'jesu', 'da', 'crook', 'certif', 'issu', 'morgu', 'funer', 'sister', 'group', 'purchas', 'inherit', 'investig', 'stand', 'side', 'step', 'thephys', 'pain', 'feb', 'march', 'incept', 'pain', 'disappoint', 'posit', 'stay', 'behav', 'coward', 'hold', 'shouldnt', 'network', 'integr', 'fyi', 'anyth', 'scum', 'forgiv', 'delay', 'jay', 'worri', 'advic', 'plot', 'hole', 'sequenc', 'benji', 'luthor', 'act', 'one', 'tho', 'weird', '60', 'unstopp', 'agent', 'underworld', 'inspector', 'gadget', 'godzilla', 'king', 'monster', 'constantin', 'includ', 'mansion', 'pc', 'includ', 'hous', 'pc', 'reck', 'ice', 'coffe', 'inthemselv', 'mansion', 'hot', 'water', 'where', 'chicken', 'soup', 'marinad', 'blu', 'ray', 'carinya', 'pl', 'kirrawe', 'nsw', 'beth', 'club', 'ago', 'bore', 'almost', 'fell', 'asleep', 'pay', 'elsa', 'die', 'us', 'use', 'nuke', 'pl', 'pol', 'sick', 'misson', 'thalapathi', 'excel', 'market', 'strategi', 'barbi', 'oppenheim', 'hollywood', 'push', 'agenda', 'cast', 'women', 'chang', 'truth', 'vanish', 'war', 'signal', 'favorit', '2023', 'love', 'hero', 'entiti', 'suit', 'nwo', 'swell', 'robot', 'everywher', 'steal', 'inform', 'further', 'jobloss', 'solut', 'ceas', 'bore', 'blow', 'whistl', 'tbh', 'dread', 'circular', 'chase', 'neck', 'seem', 'miss', 'lot', 'stunt', 'respect', '61', '29', 'father', 'happi', 'run', 'steam', 'burn', 'coal', 'keep', 'ad', 'eventu', 'slow', 'shouldv', 'diesel', 'plausibl', 'hi', 'tom', 'look', 'puffi', 'plastic', 'surgeri', 'couldnt', 'use', 'beetl', 'paramount', 'creat', 'io', 'x', 'marathon', 'remind', 'skyfal', 'barbenheim', 'chang', 'director', 'sprint', 'elaaa', '10000', 'pulumu', 'yedil', 'geri', 'qaytarmadilar', 'serefsizlikl', 'mesguldular', 'inanmiyin', 'hecney', 'adami', 'aldadirlar', 'deleduzluknen', 'insanlardan', 'pul', 'qoparmaga', 'calisirlar', 'rehberlikd', 'dolandiricidi', 'kinolari', 'vafs', 'saxtadi', 'beyendim', 'piqu', 'interest', 'film', 'baxmaq', 'ayrica', 'zovqdur', 'aktiyorlari', 'sevyedir', 'izlemey', 'deyer', 'mukkemmel', 'maraqlidi', 'maraqli', 'filimdi', 'fantastik', 'sixilmadan', 'baxin', 'izliyin', 'pesman', 'olmazsiz', 'bodugca', 'adniralin', 'superdi', 'kruzun', 'butun', 'filmleri', 'yaxshidi', 'esasend', 'bu', 'nise', 'adventur', 'amais', 'yaxwi', 'cruis', 'grand', 'revel', 'filim', 'impaaivil', 'e', 'assito', 'vaeia', 'watch', 'superrrr', 'filmmm', 'ellaaa', 'keep', 'tens', 'ohh', 'vox', 'gozel', 'sens', 'bunun', 'faraqmani', 'bele', 'heycanli', 'filindi', 'filmdi', 'filim', 'live', 'hype', 'superrr', 'mohteshem', 'live', 'aksiyon', 'dolu', 'jeniff', '11', '12', 'furiou', 'manz', 'dream', 'lbj', 'unfortun', 'struggl', 'hear', 'reli', 'grossli', 'neglect', 'translat', 'media', 'word', 'netflix', 'twist', 'await', 'intens', 'challeng', 'learn', 'uncov', 'secret', 'man', 'ident', 'rip', 'exelent', 'guard', 'attack', 'hahahahahah', 'documentari', 'rather', 'd', 'other', 'famou', 'end', 'color', 'sesason', 'kpn', 'maen', 'either', 'depend', 'handl', 'concept', 'advanc', 'knowledg', 'work', 'cash', 'suck', 'due', 'coin', 'toss', 'stage', 'behold', 'quickli', 'bless', 'keepeth', 'say', 'propheci', 'revel', '22', 'hangov', 'exist', 'yo', 'when', 'comin', 'season', 'hunger', 'protagonist', 'experi', 'win', 'interrupt', 'third', 'start', 'properli', 'organis', 'enter', 'ad', 'make', '400', '956', 'pinki', 'post', 'becuas', 'juli', 'date', 'teaser', 'trailer', 'news', 'mess', 'deal', 'curiou', 'extrem', 'usual', 'meet', 'hope', 'warn', 'dumb', 'subscrib', 'youtub', 'channel', 'subscrib', 'myself', 'collabor', 'look', 'virgin', 'floor', 'offer', 'previous', 'won', 'prize', 'person', 'roughli', '71', '10', '50', 'dollar', 'unnecessari', 'sex', 'ohhhhh', 'hype', 'master', 'creation', 'yuriii', 'sacrif', '26th', 'oddli', 'origin', 'sad', 'understand', 'survivor', 'becom', 'vip', 'ok', 'what', 'happen', 'sht', 'get', 'freak', 'feel', 'mean', 'serious', 'aint', 'surviv', 'those', 'twice', 'babyyyy', 'hindi', 'dhon', 'banaiaso', 'sei', 'hois', 'indian', 'anupam', 'tripathi', 'bt', 'aaaaaaaaaaaa', 'tournament', 'outsid', 'drama', 'aura', 'want', 'prequel', 'live', 'reason', 'guess', 'die', 'bigbang', 'hand', 'shove', 'question', 'contact', 'organ', 'xnnzkvnn', 'sheeeshh', 'comeback', 'support', 'button', 'wonder', 'leav', 'base', 'major', 'vote', 'exact', 'recreat', 'cook', 'brainrot', 'wish', 'film', 'close', 'personalis', 'seem', 'authent', 'anyway', 'say', 'recognis', 'mainstream', 'hmm', 'addict', 'ambuigu', 'huh', 'reveal', 'slow', 'revel', 'climax', 'toward', 'comment', 'implement', 'vote', 'take', 'bloodi', 'overal', 'worthi', 'bring', 'kao', 'fair', 'equal', 'allow', 'play', 'unfair', 'alic', 'borderland', 'shi', 'come', 'brithday', 'exactli', 'gift', 'skillet', 'album', 'lp', 'mh', 'wild', 'gta', 'vi', 'recogn', 'spoil', '390', 'gihun', 'ti', 'gona', 'green', 'effect', 'cgi', 'practic', 'lousi', 'choic', 'nobodi', 'gta6', 'isw', 'brilliant', 'ish', 'lock', 'search', 'type', 'hum', 'sigma', 'frontman', 'gong', 'yoo', 'screen', 'have', 'build', 'bite', 'nail', 'anticip', 'diff', 'mrbeast', 'releas', 'hope', 'seung', 'hyun', 'happen', 'bodi', 'spiderman', 'dodg', 'bullet', 'beat', 'nead', 'scaveng', 'hide', 'seek', 'saw', 'thank', 'rid', 'butt', 'ugli', 'chat', '2027', 's3', 'lunch', 'script', 'leak', 'join', 'rapid', 'civil', 'hay', 'huaaaaaaaaaaa', 'tf', 'caption', 'carbon', 'essenti', 'market', 'team', 'speaker', 'awkward', 'recommend', 'skill', 'voic', 'soul', 'charact', 'speak', 'youtub', 'reaction', 'video', 'recommend', 'non', 'dynam', 'visual', 'acuiti', 'greater', 'express', 'power', 'your', 'halv', 'fun', 'crush', 'yuri', 've', 'sunghoon', 'varsa', 'bend', 'varim', 'aga', '9', 'mess', 'univers', 'beforehand', 'verizon', 'robot', 'stare', 'lan', 'evero', 'to2009', '2019', '2015', 'talk', 'domest', 'oder', 'readi', 'player', 'vr', 'chang', 'cri', 'random', 'own', 'bloodlin', 'rewrot', 'head', 'breath', 'theeth', 'danni', 'manni', 'impress', 'section', 'open', 'shower', 'steam', 'eleph', 'dung', 'bore', 'seven', 'hour', 'lifetim', 'jabba', 'weight', 'depress', 'chewbacca', 'fall', 'saber', 'erectil', 'dysfunt', 'leader', 'stand', 'plate', 'hate', 'michael', 'martinez', 'kenneth', 'wast', '1159', 'swift', 'skyway', 'kid', 'teen', 'middl', 'coke', 'account', 'sslo', 'nose', 'sky', 'comput', 'walker', 'donald', 'north', 'korea', 'laura', 'battlfront2', 'ep1', 'jj', 'jam', 'stone', 'mask', 'bearr', 'bear', 'cop', 'tracyer', 'fmshe', 'nino', 'brown', '2013', 'deadpool', 'gete', 'coviiiii', 'zombi', 'deborah', 'harri', 'linda', 'young', 'ladi', 'gentlemen', 'give', 'goosebump', 'shirt', 'abc7', 'actual', 'address', 'arrest', 'leav', '2045', 'starwar', 'rict', 'manni', 'fire', 'apirl', 'fool', 'cost', 'roblox', 'adam', 'alexia', '00', 'tv', 'guid', 'lego', 'pic', 'peach', 'tim', 'tok', 'perhap', 'treat', 'harshli', 'buttock', 'ruin', 'remov', 'lore', 'legend', 'categori', 'perez', 'margaret', 'hernandez', 'william', 'cynthia', 'chri', 'evan', '88', 'tree', 'edg', 'luke', 'hand', 'sw', 'howev', 'saga', 'rodriguez', 'gari', 'ronald', 'thoma', 'remeb', 'think', 'haha', 'control', 'jlb', 'game', 'room', 'famousssss', 'ops2', 'blackops1', 'chip', 'hevan', 'weather', 'stare', 'monkey', 'pod', 'vuri', 'broken', 'fat', 'wear', 'hahaha', 'think', 'fiego', 'point']\n"
     ]
    }
   ],
   "source": [
    "#Erstelle den Tokenizer\n",
    "tokenizer = Tokenizer(num_words=num_words, oov_token=oov_token)\n",
    "tokenizer.fit_on_texts(train_y)\n",
    "\n",
    "#Erstelle einen Wörter-Index\n",
    "word_index = tokenizer.word_index\n",
    "\n",
    "#Kodierung der Trainingsdaten und Testdaten\n",
    "train_sequences = tokenizer.texts_to_sequences(train_y)\n",
    "test_sequences = tokenizer.texts_to_sequences(test_y)\n",
    "\n",
    "#Gib die maximale Länge der Trainings- und Testsequenzen aus\n",
    "maxlen = max([len(x) for x in train_sequences])\n",
    "print(maxlen)\n",
    "maxlen2 = max([len(x) for x in test_sequences])\n",
    "print(maxlen2)\n",
    "\n",
    "\n",
    "#Padding der Trainings- und Testsequenzen\n",
    "train_padded = pad_sequences(train_sequences, padding=pad_type, truncating=trunc_type, maxlen=maxlen)\n",
    "test_padded = pad_sequences(test_sequences, padding=pad_type, truncating=trunc_type, maxlen=maxlen)\n",
    "\n",
    "#Länge der padded Trainings- und Testdaten\n",
    "print(max([len(x) for x in train_padded]))\n",
    "print(max([len(x) for x in test_padded]))\n",
    "\n",
    "#Gebe den Word-Index aus\n",
    "#Hier werden die Token als Wort-Wertepaare gespeichert\n",
    "print(word_index)\n",
    "\n",
    "#Lade den PorterStemmer um aus den Wörtern den Wortstamm zu machen\n",
    "from nltk.stem import PorterStemmer\n",
    "\n",
    "stemmer = PorterStemmer()\n",
    "word_index = [stemmer.stem(word) for word in word_index]\n",
    "\n",
    "#Gib die Stammwörter aus\n",
    "print(word_index)"
   ]
  },
  {
   "cell_type": "code",
   "execution_count": 7,
   "id": "95b00c27",
   "metadata": {},
   "outputs": [
    {
     "name": "stdout",
     "output_type": "stream",
     "text": [
      "Testdata:Y(Comments)\n",
      "[[  1.   1.   1. ...   0.   0.   0.]\n",
      " [ 25.   1.  67. ...   0.   0.   0.]\n",
      " [ 35. 613.  13. ...   0.   0.   0.]\n",
      " ...\n",
      " [133. 639.  36. ...   0.   0.   0.]\n",
      " [ 16.  54. 150. ...   0.   0.   0.]\n",
      " [ 16.  74.   1. ...   0.   0.   0.]]\n",
      "Testdata:X(Labels)\n",
      "[[0 0 1 ... 0 0 0]\n",
      " [1 0 0 ... 0 0 0]\n",
      " [1 0 0 ... 0 0 0]\n",
      " ...\n",
      " [0 0 1 ... 0 0 0]\n",
      " [0 0 1 ... 0 0 0]\n",
      " [0 1 0 ... 0 0 0]]\n"
     ]
    }
   ],
   "source": [
    "#Funktion um aus den Sequenzen Vektoren zu machen\n",
    "def vectorize(sequences, dimension = int(max_comment_char_count)): #Dimension bezieht sich auf die maximale Größe des längsten Kommentars\n",
    "    results = np.zeros((len(sequences), dimension))\n",
    "    for i, sequence in enumerate(sequences):\n",
    "        results[i, sequence] = 1\n",
    "    return results\n",
    "\n",
    "#Rufe die Funktion aus, um die Trainingsdaten- und Labels zu einem Vektor umzuwandeln\n",
    "train_x = vectorize(train_x).astype(\"int64\")\n",
    "train_y = np.array(train_padded).astype(\"float64\")\n",
    "\n",
    "test_x = vectorize(test_x).astype(\"int64\")\n",
    "test_y = np.array(test_padded).astype(\"float64\")\n",
    "\n",
    "#Gebe mir die Trainings- und Testdaten aus\n",
    "print(\"Testdata:Y(Comments)\")\n",
    "print(test_y)\n",
    "print(\"Testdata:X(Labels)\")\n",
    "print(test_x)"
   ]
  },
  {
   "cell_type": "code",
   "execution_count": 8,
   "id": "42d9452f",
   "metadata": {},
   "outputs": [
    {
     "name": "stdout",
     "output_type": "stream",
     "text": [
      "Word index:\n",
      " ['<unk>', 'the', 'a', 'i', 'and', 'to', 'is', 'thi', 'it', 'in', 'movi', 'of', 'that', 'br', 'for', 'wa', 'one', 'like', 'be', 'they', 'so', 'season', 'but', '2', 'not', 'my', 'game', 'you', 'just', 'what', 'he', 'with', 'joker', 'first', 'it', 'good', 'will', 'on', 'if', 'are', 'as', 'mission', 'all', 'whi', 'me', 'href', 'uckszu2wh9gy1mb0dv', '11ujg', 'fgfy9digyjbhghlzodidw', 'imposs', 'who', 'im', 'watch', 'gonna', '1', 'film', 'trailer', 'more', 'tom', 'would', 'out', 'have', 'from', 'squid', 'game', 'no', 'up', 'reckon', 'do', 'watch', 'again', 'see', 'wait', 'realli', 'charact', 'music', 'dead', 'cant', 'can', 'how', 'best', 'peopl', 'ever', 'part', 'we', 'now', 'after', 'better', 'make', 'watch', 'gt', 'bad', 'go', 'by', 'did', 'also', 'becaus', 'or', 'know', 'when', 'back', 'real', 'cruis', 'man', 'ladi', 'an', 'think', 'veri', 'still', 'anoth', 'than', 'super', 'had', 'too', 'look', 'gaga', 'there', 'then', 'get', 'ha', 'time', 'dont', 'hi', 'never', 'year', 'that', 'netflix', 'excit', 'him', 'at', 'much', 'into', 'got', 'about', 'am', 'actor', 'mani', 'movi', 'star', 'thought', '3', 'your', 'old', 'gi', 'red', 'end', 'onli', 'director', 'here', 'go', 'final', 'want', 'subtitl', 'hair', 'their', 'death', 'down', 'off', 'be', 'instead', 'even', 'should', 'she', 'life', 'right', 'take', 'lot', 'love', 'well', 'next', 'destroy', 'new', 'money', 'wonder', 'come', 'wont', 'nice', 'o', 'hun', 'bro', 'actor', 'black', 'name', 'look', 'anyon', 'where', 'actual', 'said', 'great', 'two', 'top', 'way', 'could', 'wrong', 'ani', 'perfect', 'worst', 'stupid', 'act', 'let', 'tri', 'ive', 'show', 'day', 's', 'lol', 'feel', 'took', 'hard', 'someon', 'need', 'went', 'alreadi', 'last', 'ai', 'seri', 'came', 'predict', 'he', 'die', 'differ', 'quit', 'wow', 'war', 'diego', 'zombi', 'mind', 'feel', 'didnt', 'far', 'glad', 'made', 'idk', 'ruin', 'damn', 'stori', 'writer', 'wasnt', 'worth', 'hope', 'put', 'guy', 'fight', 'world', 'around', 'version', 'stop', 'suck', 'releas', 'thing', '5', 'video', 'sure', 'disappoint', 'half', 'mayb', 'high', 'big', 'franchis', 'tri', 'ye', 'come', 'chang', 'same', '7', 'pleas', 'episod', 'home', 'help', 'them', 'xbox', 'these', '20', 'blood', 'befor', 'mi', 'train', 'everyon', 'ela', 'polic', 'omg', 'b', 'korean', 'book', 'alway', 'white', 'rule', 'batman', 'see', 'wtf', 'like', 'forward', 'absolut', 'yet', 'de', 'niro', 'everyth', 'say', 'oh', 'least', 'there', 'previou', 'role', 'scene', 'terribl', 'such', 'flop', 'load', 'wors', 'job', 'tell', 'amaz', 'becom', 'low', 'her', 'everi', 'love', 'theater', 'most', 'film', 'seen', 'goe', 'opportun', 'amp', 'arthur', 'disney', 'strong', 'enjoy', 'littl', 'dumbest', 'may', 'through', 'against', 'guy', 'villain', 'joker', 'do', 'purpos', 'clear', 'quit', 'realis', 'hero', 'enough', 'sir', 'second', 'sinc', 'els', 'garbag', 'friend', 'probabl', 'year', 'our', 'woman', 'hunt', 'jame', 'bond', 'sometim', 'birthday', 'full', 'someth', 'wait', 'bir', 'definit', 'brother', 'teaser', 'final', 'kaiji', 't', 'p', 'show', 'protagonist', '456', 'aliv', 'check', 'over', 'time', 'main', 'let', 'might', 'set', 'play', 'offic', 'member', 'light', 'ha', 'dub', 'girl', 'land', 'lee', 'montwood', '99', 'biggest', 'laugh', 'shot', 'heath', 'ledger', 'return', 'offic', 'rubbish', 'cast', 'move', 'havent', 'like', 'pathet', 'lewi', 'bar', 'stoke', 'soon', 'attent', 'badli', 'fan', 'read', 'qt', 'line', 'broke', 'box', 'while', 'despit', 'till', 'hour', 'awesom', 'make', 'face', 'thing', 'trash', 'knew', 'horribl', 'want', 'sequel', 'produc', 'garner', 'todd', 'comic', 'mid', 'song', 'fast', 'truli', 'get', 'both', 'direct', 'work', 'understand', 'common', 'person', 'later', 'reject', 'beauti', 'absolut', 'success', 'dogshit', 'busi', 'hate', 'dc', 'advantag', 'compar', 'dizast', 'isnt', 'paid', 'fleck', 'music', 'messag', 'heap', 'shite', 'flat', 'epic', 'fail', 'drunk', 'place', 'write', 'felt', 'own', 'school', 'harley', 'save', 'crazi', 'smart', 'tri', 'cancer', 'level', 'crimin', 'legaci', 'corrupt', 'societi', 'stronger', 'origin', 'start', 'begin', 'fake', 'ticket', 'who', 'cannot', 'fabul', 'younger', 'shame', 'date', '8', 'meant', 'entertain', 'similar', 'run', 'miss', 'scienc', 'imagin', 'suppos', 'noth', 'bag', 'run', 'sens', 'fed', 'mental', 'falsifi', 'long', 'rememb', 'food', 'comment', 'believ', 'away', 'rest', 'insur', 'orang', 'juic', 'initself', 'goat', 'pick', 'dear', 'vs', 'action', 'week', 'sound', 'bold', 'lose', 'give', 'true', 'scene', 'ethan', 'spi', 'buy', '30', 'enjoy', 'win', 'without', 'tralier', 'blue', 'easili', 'produc', 'kinodu', 'usd', 'tge', 'choi', 'bang', 'end', 'mastermind', 'which', 'especi', 'hear', 'trust', 'offici', 'bet', 'behind', 'front', 'christma', 'pink', 'were', 'releas', 'hun', 'crappi', 'grab', 'doe', 'join', 'like', 'fact', 'contest', '4', 'contest', 'theori', 'month', 'decemb', 'post', 'live', 'expect', 'mean', 'plan', '000', 'interest', 'copi', 'each', 'liter', 'die', 'g', 'found', 'shit', 'ppl', 'v', 'cameo', 'win', 'result', 'winner', 'dure', 'poop', 'player', 'deceas', 'famili', 'famili', 'mr', 'beast', 'meme', 'angl', 'given', 'burn', 'entir', 'give', 'human', 'scari', 's1', 'american', 'talk', 'johnni', 'somali', '0', 'god', 'pass', 'jo', 'english', 'normal', 'covid', 'su', 'skywalk', 'men', 'kill', 'angela', 'sue', 'jackson', 'elizabeth', 'finn', 'conor', 'vuir', 'know', 'boy', 'some', 'kid', 'jedi', 'johnson', 'w', 'buz', 'hell', 'suck', 'stan', 'clown', 'disrespect', 'easi', 'peaci', 'fckng', 'idiot', 'spoil', 'whatev', 'legend', 'announc', 'trump', 'oval', 'person', 'alot', 'aw', 'met', 'case', 'care', 'taxi', 'driver', 'fall', 'kidnap', 'jerri', 'walk', 'download', 'piss', 'public', 'obsess', 'deserv', 'shatter', 'hq', 'offici', 'cool', 'record', 'nonsens', 'feel', 'compar', 'nbk', 'allur', 'tie', 'flick', 'move', 'america', 'whoopi', 'filem', 'kehabisan', 'bajet', 'sangat', 'membosankan', 'queen', 'sang', 'veryy', 'play', 'kontol', 'been', 'fix', 'joke', 'need', 'payoff', 'bravo', 'slap', 'worship', 'reason', 'caus', 'damag', 'dress', 'involv', 'somewhat', 'irrelev', 'soo', 'smh', 'bollock', 'titl', 'sadden', 'call', 'foli', 'dook', 'joseph', 'phillip', 'scott', 'silver', 'absolutli', 'villian', 'writer', 'angri', 'joaquin', 'phoenix', 'kill', 'sukd', 'mood', 'freak', 'otherwis', 'meh', 'yike', 'boat', 'cheap', 'fantast', 'mari', 'poppin', 'gone', 'mad', 'intellectu', 'minu', 'shortest', 'histori', 'masterpiec', 'philip', 'oscar', 'underr', 'honestli', 'rewatch', 'iq', 'corrupt', 'tri', 'period', 'put', 'killer', 'born', 'remak', 'hit', 'lalaland', 'aspect', 'fkn', 'normal', 'ill', 'tank', 'saddest', 'depress', 'brotha', 'stink', 'intoler', 'night', 'sooo', 'valentin', 'y', 'ju', 'piec', 'relev', 'anymor', 'welcom', 'kamala', 'presid', 'joke', 'skip', 'segment', 'improv', 'huge', 'consid', 'stretch', 'imagin', 'journey', 'wait', 'incel', 'jerk', 'filmmak', 'few', 're', 'evalu', 'unwatch', 'offens', 'cinema', 'massiv', 'boo', 'brought', 'bit', 'import', 'review', 'produc', 'kamala', 'fan', 'frustrat', 'wast', 'talent', 'wb', 'dig', 'grave', 'dark', '2024', 'admittedli', 'drag', 'pointless', 'music', 'convinc', 'pioneer', 'victim', 'fail', 'expos', 'damag', 'corrupt', 'anarchi', 'crimin', 'kill', 'elit', 'pretend', 'somehow', 'pass', 'happen', 'arthur', 'lost', 'govern', 'grow', 'lead', 'event', 'complet', 'butcher', 'superhero', 'id', 'turn', 'fought', 'enjoy', 'until', 'halfway', 'quinn', 'sing', 'annoy', 'total', 'ruin', 'whole', 'rais', 'wolv', 'le', 'pire', 'que', 'jai', 'vu', 'en', '40', 'an', 'day', 'realiz', 'kumbavu', 'mimi', 'ofc', 'emphasis', 'rebecca', 'ferguson', 'replac', 'usual', 'sequel', 'disgust', 'singl', 'rais', 'instantli', 'drop', '2025', 'm', 'asap', 'tuesday', 'phenoman', 'motorcycl', 'honda', 'cb350', 'frame', 'reveal', 'instal', 'joel', 'goodsen', 'princeton', 'univers', 'major', 'busi', 'dual', 'polit', 'comput', 'unchart', 'nolan', '1st', 'month', 'heard', 'rumor', 'novemb', 'gladiat', 'worthless', 'skin', 'georgia', 'ranger', 'done', 'bass', 'donkey', 'phelp', 'max', '2026', 'bgm', 'spider', 'christ', 'court', 'health', 'evalu', 'evid', 'jesu', 'da', 'crook', 'certif', 'issu', 'morgu', 'funer', 'sister', 'group', 'purchas', 'inherit', 'investig', 'stand', 'side', 'step', 'thephys', 'pain', 'feb', 'march', 'incept', 'pain', 'disappoint', 'posit', 'stay', 'behav', 'coward', 'hold', 'shouldnt', 'network', 'integr', 'fyi', 'anyth', 'scum', 'forgiv', 'delay', 'jay', 'worri', 'advic', 'plot', 'hole', 'sequenc', 'benji', 'luthor', 'act', 'one', 'tho', 'weird', '60', 'unstopp', 'agent', 'underworld', 'inspector', 'gadget', 'godzilla', 'king', 'monster', 'constantin', 'includ', 'mansion', 'pc', 'includ', 'hous', 'pc', 'reck', 'ice', 'coffe', 'inthemselv', 'mansion', 'hot', 'water', 'where', 'chicken', 'soup', 'marinad', 'blu', 'ray', 'carinya', 'pl', 'kirrawe', 'nsw', 'beth', 'club', 'ago', 'bore', 'almost', 'fell', 'asleep', 'pay', 'elsa', 'die', 'us', 'use', 'nuke', 'pl', 'pol', 'sick', 'misson', 'thalapathi', 'excel', 'market', 'strategi', 'barbi', 'oppenheim', 'hollywood', 'push', 'agenda', 'cast', 'women', 'chang', 'truth', 'vanish', 'war', 'signal', 'favorit', '2023', 'love', 'hero', 'entiti', 'suit', 'nwo', 'swell', 'robot', 'everywher', 'steal', 'inform', 'further', 'jobloss', 'solut', 'ceas', 'bore', 'blow', 'whistl', 'tbh', 'dread', 'circular', 'chase', 'neck', 'seem', 'miss', 'lot', 'stunt', 'respect', '61', '29', 'father', 'happi', 'run', 'steam', 'burn', 'coal', 'keep', 'ad', 'eventu', 'slow', 'shouldv', 'diesel', 'plausibl', 'hi', 'tom', 'look', 'puffi', 'plastic', 'surgeri', 'couldnt', 'use', 'beetl', 'paramount', 'creat', 'io', 'x', 'marathon', 'remind', 'skyfal', 'barbenheim', 'chang', 'director', 'sprint', 'elaaa', '10000', 'pulumu', 'yedil', 'geri', 'qaytarmadilar', 'serefsizlikl', 'mesguldular', 'inanmiyin', 'hecney', 'adami', 'aldadirlar', 'deleduzluknen', 'insanlardan', 'pul', 'qoparmaga', 'calisirlar', 'rehberlikd', 'dolandiricidi', 'kinolari', 'vafs', 'saxtadi', 'beyendim', 'piqu', 'interest', 'film', 'baxmaq', 'ayrica', 'zovqdur', 'aktiyorlari', 'sevyedir', 'izlemey', 'deyer', 'mukkemmel', 'maraqlidi', 'maraqli', 'filimdi', 'fantastik', 'sixilmadan', 'baxin', 'izliyin', 'pesman', 'olmazsiz', 'bodugca', 'adniralin', 'superdi', 'kruzun', 'butun', 'filmleri', 'yaxshidi', 'esasend', 'bu', 'nise', 'adventur', 'amais', 'yaxwi', 'cruis', 'grand', 'revel', 'filim', 'impaaivil', 'e', 'assito', 'vaeia', 'watch', 'superrrr', 'filmmm', 'ellaaa', 'keep', 'tens', 'ohh', 'vox', 'gozel', 'sens', 'bunun', 'faraqmani', 'bele', 'heycanli', 'filindi', 'filmdi', 'filim', 'live', 'hype', 'superrr', 'mohteshem', 'live', 'aksiyon', 'dolu', 'jeniff', '11', '12', 'furiou', 'manz', 'dream', 'lbj', 'unfortun', 'struggl', 'hear', 'reli', 'grossli', 'neglect', 'translat', 'media', 'word', 'netflix', 'twist', 'await', 'intens', 'challeng', 'learn', 'uncov', 'secret', 'man', 'ident', 'rip', 'exelent', 'guard', 'attack', 'hahahahahah', 'documentari', 'rather', 'd', 'other', 'famou', 'end', 'color', 'sesason', 'kpn', 'maen', 'either', 'depend', 'handl', 'concept', 'advanc', 'knowledg', 'work', 'cash', 'suck', 'due', 'coin', 'toss', 'stage', 'behold', 'quickli', 'bless', 'keepeth', 'say', 'propheci', 'revel', '22', 'hangov', 'exist', 'yo', 'when', 'comin', 'season', 'hunger', 'protagonist', 'experi', 'win', 'interrupt', 'third', 'start', 'properli', 'organis', 'enter', 'ad', 'make', '400', '956', 'pinki', 'post', 'becuas', 'juli', 'date', 'teaser', 'trailer', 'news', 'mess', 'deal', 'curiou', 'extrem', 'usual', 'meet', 'hope', 'warn', 'dumb', 'subscrib', 'youtub', 'channel', 'subscrib', 'myself', 'collabor', 'look', 'virgin', 'floor', 'offer', 'previous', 'won', 'prize', 'person', 'roughli', '71', '10', '50', 'dollar', 'unnecessari', 'sex', 'ohhhhh', 'hype', 'master', 'creation', 'yuriii', 'sacrif', '26th', 'oddli', 'origin', 'sad', 'understand', 'survivor', 'becom', 'vip', 'ok', 'what', 'happen', 'sht', 'get', 'freak', 'feel', 'mean', 'serious', 'aint', 'surviv', 'those', 'twice', 'babyyyy', 'hindi', 'dhon', 'banaiaso', 'sei', 'hois', 'indian', 'anupam', 'tripathi', 'bt', 'aaaaaaaaaaaa', 'tournament', 'outsid', 'drama', 'aura', 'want', 'prequel', 'live', 'reason', 'guess', 'die', 'bigbang', 'hand', 'shove', 'question', 'contact', 'organ', 'xnnzkvnn', 'sheeeshh', 'comeback', 'support', 'button', 'wonder', 'leav', 'base', 'major', 'vote', 'exact', 'recreat', 'cook', 'brainrot', 'wish', 'film', 'close', 'personalis', 'seem', 'authent', 'anyway', 'say', 'recognis', 'mainstream', 'hmm', 'addict', 'ambuigu', 'huh', 'reveal', 'slow', 'revel', 'climax', 'toward', 'comment', 'implement', 'vote', 'take', 'bloodi', 'overal', 'worthi', 'bring', 'kao', 'fair', 'equal', 'allow', 'play', 'unfair', 'alic', 'borderland', 'shi', 'come', 'brithday', 'exactli', 'gift', 'skillet', 'album', 'lp', 'mh', 'wild', 'gta', 'vi', 'recogn', 'spoil', '390', 'gihun', 'ti', 'gona', 'green', 'effect', 'cgi', 'practic', 'lousi', 'choic', 'nobodi', 'gta6', 'isw', 'brilliant', 'ish', 'lock', 'search', 'type', 'hum', 'sigma', 'frontman', 'gong', 'yoo', 'screen', 'have', 'build', 'bite', 'nail', 'anticip', 'diff', 'mrbeast', 'releas', 'hope', 'seung', 'hyun', 'happen', 'bodi', 'spiderman', 'dodg', 'bullet', 'beat', 'nead', 'scaveng', 'hide', 'seek', 'saw', 'thank', 'rid', 'butt', 'ugli', 'chat', '2027', 's3', 'lunch', 'script', 'leak', 'join', 'rapid', 'civil', 'hay', 'huaaaaaaaaaaa', 'tf', 'caption', 'carbon', 'essenti', 'market', 'team', 'speaker', 'awkward', 'recommend', 'skill', 'voic', 'soul', 'charact', 'speak', 'youtub', 'reaction', 'video', 'recommend', 'non', 'dynam', 'visual', 'acuiti', 'greater', 'express', 'power', 'your', 'halv', 'fun', 'crush', 'yuri', 've', 'sunghoon', 'varsa', 'bend', 'varim', 'aga', '9', 'mess', 'univers', 'beforehand', 'verizon', 'robot', 'stare', 'lan', 'evero', 'to2009', '2019', '2015', 'talk', 'domest', 'oder', 'readi', 'player', 'vr', 'chang', 'cri', 'random', 'own', 'bloodlin', 'rewrot', 'head', 'breath', 'theeth', 'danni', 'manni', 'impress', 'section', 'open', 'shower', 'steam', 'eleph', 'dung', 'bore', 'seven', 'hour', 'lifetim', 'jabba', 'weight', 'depress', 'chewbacca', 'fall', 'saber', 'erectil', 'dysfunt', 'leader', 'stand', 'plate', 'hate', 'michael', 'martinez', 'kenneth', 'wast', '1159', 'swift', 'skyway', 'kid', 'teen', 'middl', 'coke', 'account', 'sslo', 'nose', 'sky', 'comput', 'walker', 'donald', 'north', 'korea', 'laura', 'battlfront2', 'ep1', 'jj', 'jam', 'stone', 'mask', 'bearr', 'bear', 'cop', 'tracyer', 'fmshe', 'nino', 'brown', '2013', 'deadpool', 'gete', 'coviiiii', 'zombi', 'deborah', 'harri', 'linda', 'young', 'ladi', 'gentlemen', 'give', 'goosebump', 'shirt', 'abc7', 'actual', 'address', 'arrest', 'leav', '2045', 'starwar', 'rict', 'manni', 'fire', 'apirl', 'fool', 'cost', 'roblox', 'adam', 'alexia', '00', 'tv', 'guid', 'lego', 'pic', 'peach', 'tim', 'tok', 'perhap', 'treat', 'harshli', 'buttock', 'ruin', 'remov', 'lore', 'legend', 'categori', 'perez', 'margaret', 'hernandez', 'william', 'cynthia', 'chri', 'evan', '88', 'tree', 'edg', 'luke', 'hand', 'sw', 'howev', 'saga', 'rodriguez', 'gari', 'ronald', 'thoma', 'remeb', 'think', 'haha', 'control', 'jlb', 'game', 'room', 'famousssss', 'ops2', 'blackops1', 'chip', 'hevan', 'weather', 'stare', 'monkey', 'pod', 'vuri', 'broken', 'fat', 'wear', 'hahaha', 'think', 'fiego', 'point']\n",
      "Training sequences:\n",
      " [[8, 11, 646, 21, 92, 20, 113, 6, 647, 129, 6, 156, 130, 2, 146], [88, 183, 8, 11, 41, 76, 648, 392, 649, 15, 2, 183, 33], [288, 54, 393, 114, 131, 289, 8, 33, 650, 651, 147, 55, 394, 5, 77], [290, 51, 2, 148, 7, 652, 653, 654, 2, 11], [655, 20, 69, 23, 78, 69, 9, 18, 395, 396, 2, 656], [228, 18, 2, 657, 12, 658, 397, 6, 2, 659, 398], [4, 660, 291, 2, 11, 661, 115, 292, 6, 70, 9, 71], [13, 184, 662], [293, 399], [400, 116, 16, 3, 92, 401], [402, 663, 185, 51, 403, 8, 294, 185, 61, 117, 79, 89, 3, 664, 15, 9], [404, 11], [4, 229, 665, 131, 15, 2, 34, 17, 9, 16, 230, 114, 131, 666, 667, 668, 157, 5, 13, 17, 11, 186, 295, 296, 669, 670, 405, 671, 132, 3, 406, 23, 52, 187, 407, 6, 72, 8, 17, 41, 408, 41, 4, 79, 672, 9, 9, 133, 26, 409, 29, 80, 410, 9, 673, 411, 158, 118, 4, 412, 297, 413, 113, 6, 298, 134, 9, 14, 2, 674, 675, 32, 2, 33, 676, 6, 19, 677, 5, 4, 135, 21, 231, 678, 7, 93, 157, 32, 129, 2, 414, 13, 413, 188, 6, 119, 26, 409, 16, 9, 228, 18, 9, 16, 232, 94, 2, 33, 233, 52, 679, 407, 5, 71, 35, 680, 2, 34, 17, 415, 416, 398, 681, 5, 43, 13, 682, 23, 26, 147, 683, 417, 70, 9, 16, 299, 20, 95, 8, 10, 20, 95, 13, 10, 23, 233, 418, 8, 17, 159, 684, 6, 685, 120, 3, 189, 686, 6, 9, 130, 300, 301, 66, 295, 296, 10, 9, 6, 687, 9, 6, 25, 17, 23, 190, 302, 295, 296, 688], [4, 78, 73, 419, 105, 116, 689, 61, 12, 690, 32, 691], [692, 693, 694, 695, 696], [11, 121, 7, 24, 420, 14, 33, 5, 697, 698, 55, 420], [2, 11, 16, 699, 36, 4, 74, 18, 9, 14, 2, 136, 13, 700, 33, 7, 81, 136, 15, 13, 303, 14, 4, 29, 229, 291, 76, 304, 14, 23, 2, 11, 16, 38, 191], [56, 701], [30, 3, 305, 192, 6, 234, 30, 193, 62, 702, 106, 421, 11, 89, 9, 132, 3, 235, 76, 160, 12, 29, 93, 158, 12, 2, 34, 17, 5, 422, 9, 88], [52, 231, 8, 11, 703, 30, 16, 194, 32, 2, 34, 17, 2, 704, 705, 8, 706, 707], [4, 107, 82, 51, 122, 18, 123, 75, 149, 133, 9, 43, 194, 32, 2, 34, 11, 35, 306, 3, 708, 10, 2, 423, 6, 82, 51, 709, 33, 15, 2, 194, 710, 5, 96, 6, 82, 51, 711, 712, 713, 67, 41, 33, 5, 133, 714, 32, 715, 716, 424], [33, 55, 192, 88, 33, 24, 425, 11], [4, 426, 8, 11, 16, 54, 307, 41, 408, 41, 9, 16, 188, 9, 16, 54, 19, 3, 76, 18, 2, 34, 17, 16, 717, 36, 44, 161, 69, 13, 718], [30, 3, 308, 12, 719, 8, 11, 7, 427], [137, 82, 53, 8, 29, 97, 12, 2, 11, 720, 5, 428, 6, 393, 23, 9, 721, 160], [162, 19, 722, 723, 3, 724], [307, 429], [94, 230, 2, 309, 236, 414, 83, 2, 430, 725, 431, 148, 432, 726, 237, 727, 728, 162, 124, 62, 3, 310, 83, 2, 33, 7, 729, 2, 81, 730, 10, 43, 433, 4, 37, 124, 53, 3, 11, 63, 195, 12, 2, 148, 430, 98, 731, 28, 79, 311, 20, 122, 99, 2, 433, 4, 135, 21, 732, 20, 95, 8, 404, 11, 733, 734, 735, 9, 10, 8, 84, 196, 15, 2, 303], [4, 229, 99, 9, 16, 3, 76, 15, 13, 9, 736, 41, 4, 238, 10, 2, 737, 15, 3, 738, 76, 739, 9, 16, 36, 15, 30, 35, 239], [740], [299, 741], [108, 742, 92, 236, 108, 743, 5, 105, 116, 232, 9, 17, 12, 2, 197], [744, 57, 434, 11], [745, 746, 747, 748, 76, 108, 749], [750, 43, 2, 198, 435, 35, 187, 3, 189, 236, 436, 292, 2, 435, 5, 235, 751, 11, 10, 752], [8, 11, 7, 437, 106, 312, 753, 94, 432, 754, 4, 240, 8, 11, 438, 106, 755, 15, 439, 440, 5, 199, 85, 78, 200, 8, 11, 85, 21, 756, 15, 2, 441, 20, 62, 241, 10, 757, 242, 758, 9, 71, 5, 442, 13, 31, 25, 201, 6, 313, 2, 33, 63, 288, 31, 7, 29, 3, 443, 314, 759, 444, 243, 2, 760, 244, 245, 129, 5, 761, 6, 19, 88, 246, 23, 445, 438, 446, 447, 11, 762], [247, 763, 105, 116, 10, 138, 163, 7, 3, 11, 764, 13, 3, 139, 7, 765, 766, 16, 3, 767, 97, 12, 129, 25, 315], [448, 425], [2, 34, 17, 16, 447, 8, 17, 7, 768], [4, 240, 105, 116, 449, 10, 316, 769, 12, 315, 164, 10, 36, 424], [36], [317, 9, 14, 14, 770, 771], [90, 9, 450, 138, 9, 248], [4, 16, 451, 100, 8, 11, 16, 249, 10, 318, 23, 86, 4, 107, 9, 16, 3, 36, 250, 4, 16, 451, 772, 124, 53, 9], [90, 5, 452, 9], [453, 773, 9, 71, 20, 79, 69, 66, 165], [17, 12, 2, 774, 5, 319, 775, 320, 202, 83, 321, 322, 6, 203, 80, 82, 37, 166, 454, 12, 28, 195, 323, 20, 119], [30, 10, 2, 244, 95, 4, 29, 90], [76, 299, 776, 13, 777], [8, 11, 7, 778, 9, 16, 21, 198, 41, 3, 76], [455, 33, 55, 324, 33, 24, 7, 18, 455, 779, 5, 204], [84, 55, 16, 780, 36, 8, 16, 11, 15, 781, 306, 3, 456], [30, 3, 205, 782, 76, 456], [105, 116, 7, 783, 3, 784, 12, 3, 51, 457, 785, 786], [787, 6, 788, 789], [39, 28, 458, 6, 150, 72, 2, 11, 2, 790, 38, 28], [791, 2, 76, 792, 793, 2, 56, 15, 45, 23, 9, 7, 109, 3, 794, 200, 157, 13, 37, 25, 119, 110, 53, 63, 45, 14, 4, 18, 2, 34, 56, 3, 167, 4, 69, 25, 795, 325, 459, 2, 33, 94, 195, 796, 12, 2, 797, 23, 4, 74, 168, 2, 798, 85, 150, 38, 10, 2, 34, 56], [290, 7, 8, 184, 18, 326, 203], [85, 799, 251, 125, 15, 8], [29, 90, 2, 11, 15, 45, 35, 25, 13, 92, 41, 82, 298, 4, 107, 97, 12, 2, 20, 9, 3, 460, 252], [450, 11, 9, 248], [169, 149, 9, 7, 800, 79, 247, 801, 158, 6, 2, 33, 126, 15, 253, 30, 3, 327, 461, 63, 2, 802, 74, 10, 3, 803, 125, 121, 8, 11, 37, 19, 804, 805], [8, 76, 16, 2, 392, 462, 12, 463, 127, 11, 83, 4, 140, 2, 34, 17, 16, 806, 23, 8, 16, 464, 61, 807, 6, 808], [30, 3, 254, 11, 809, 465, 466], [810], [4, 328, 9, 467, 5, 10, 3, 92, 468, 206, 9, 811, 45, 101, 4, 207, 18, 3, 329, 812, 52, 467, 165, 86, 469, 8, 470, 18, 8, 16, 813, 87, 289, 21, 137, 92, 814], [330, 11, 83, 815, 7, 33, 24], [330, 11, 202, 83, 255, 192, 90, 256, 3, 816, 817, 331, 18], [29, 90, 2, 11, 5, 4, 135, 74, 818, 165, 86, 30, 3, 819, 12, 820, 7, 821, 74, 822, 35, 471, 823, 2, 11, 16, 58, 18, 257, 472, 76, 824, 246, 5, 20, 208, 251, 125, 6, 89, 8, 825, 197, 11, 83], [826, 2, 57, 7, 131, 88, 111, 2, 11], [2, 11, 29, 827, 38, 32, 43, 2, 828, 829, 5, 105, 116, 41, 473, 238, 830, 35, 29, 105, 116], [325, 459, 162, 19, 2, 831, 12, 2, 33, 3, 832, 13, 833, 6, 19, 474, 118, 313, 475, 5, 476, 444, 13, 477, 6, 834, 5, 835, 2, 836, 332, 837, 5, 838, 839, 478, 32, 478, 2, 314, 479, 480, 333, 2, 840, 480, 13, 841, 6, 19, 3, 36, 334, 126, 44, 443, 92, 82, 18, 129, 5, 115, 132, 129, 21, 131, 118, 842, 31, 843, 2, 481, 6, 2, 170, 33, 13, 844, 6, 19, 395, 396, 33, 5, 845, 846, 333, 482, 847, 5, 482, 483, 29, 89, 2, 33, 481, 848, 58, 484, 5, 484, 13, 37, 849, 6, 110, 258, 850, 14, 14, 23, 2, 33, 24, 851, 852, 9, 102, 36, 13, 9, 228, 18, 33, 7, 124, 6, 19, 17, 12, 81, 335, 10, 853, 259], [44, 40, 20, 43, 201, 21, 209, 171, 336, 75, 8, 148, 5, 237, 7, 337, 8, 38, 338, 9, 7, 108, 339, 13, 20, 260, 6, 234, 5, 171, 13, 75, 10, 8, 11], [44, 40, 20, 43, 201, 21, 209, 171, 336, 75, 8, 148, 5, 237, 7, 337, 8, 38, 338, 9, 7, 108, 339, 13, 20, 260, 6, 234, 5, 171, 13, 75, 10, 8, 11], [44, 40, 20, 43, 201, 21, 209, 171, 336, 75, 8, 148, 5, 237, 7, 337, 8, 38, 338, 9, 7, 108, 339, 13, 20, 260, 6, 234, 5, 171, 13, 75, 10, 8, 11], [69, 28, 107, 17, 204, 13, 210, 37, 89, 3, 56, 134, 2, 485, 12, 33, 854, 340, 18, 6, 72, 13], [4, 140, 8, 33, 16, 93, 6, 855, 132, 2, 112, 335, 13, 17, 204, 856, 32, 288, 21, 79, 85, 29, 486, 71, 63, 2, 487, 5, 89, 13, 11, 160, 14, 14, 4, 16, 857, 2, 11, 858, 859, 332, 118, 4, 341, 30, 473, 860, 341, 31, 16, 3, 488, 342], [2, 861, 7, 21, 862, 28, 863, 864, 2, 865, 11, 88, 89, 3, 429, 6, 866, 867], [868, 869, 56, 870, 871, 872, 873, 874, 875], [208, 45, 141, 876, 6, 877, 13, 2, 102, 33, 238, 325, 23, 35, 45, 51, 458, 15, 2, 489, 6, 53, 8, 11, 878, 879], [880, 105, 116], [490, 149, 87, 42, 50, 2, 151, 68], [4, 53, 8, 11, 5, 4, 96, 53, 156, 68, 84, 24], [4, 491, 881, 343, 80, 492, 12, 106, 136, 882, 883, 7, 14, 80, 254, 13, 163, 16, 884, 32, 3, 493, 246, 41, 885, 10, 11, 886, 14, 887, 14, 494, 38, 28, 59, 103], [51, 7, 149, 87, 151, 68, 57], [8, 16, 2, 888, 319, 254, 11, 4, 113, 83, 321, 2, 57, 113, 889, 2, 406, 21, 131, 15, 45, 23, 118, 2, 11, 890, 891, 53, 42, 50, 24, 192, 88, 111, 8, 81, 42, 50, 11, 419, 495], [151, 68, 331, 892, 261, 344], [490, 149, 87, 2, 151, 68, 57], [51, 7, 149, 87, 2, 42, 50, 2, 151, 68, 57], [85, 211, 893, 4, 496, 172, 57, 894], [42, 50, 77, 68, 84, 190, 57, 262, 61, 895], [59, 103, 138, 40, 497, 6, 19, 90, 10, 318, 14, 196, 498], [59, 103, 138, 40, 497, 6, 19, 90, 10, 318, 14, 196, 498], [8, 11, 162, 62, 232, 192, 58, 173, 111, 9, 95, 9, 16, 896], [168, 2, 897, 113, 3, 898, 899, 32, 3, 499, 900, 124, 133, 9, 6, 500, 23, 4, 501, 9, 14, 78, 73, 15, 2, 345, 901, 10, 2, 170, 11, 902, 14, 21, 231, 13, 100, 903, 904, 212, 6, 905, 906, 31, 263, 123, 907, 63, 908, 6, 3, 909, 910, 502, 324, 911, 502, 206], [151, 304, 7, 912, 24, 27], [503, 913, 5, 59, 103, 10, 2, 264, 11, 13, 120, 26, 489, 213], [4, 174, 44, 85, 109, 122, 62, 3, 57, 12, 42, 50, 496, 294, 5, 100, 8, 914, 57, 7, 54, 19, 249, 346, 2, 11, 7, 504, 6, 175, 61, 10, 265, 915, 213], [14, 4, 916, 917, 301, 54, 19, 17, 10, 918, 15, 919, 24], [53, 505, 32, 13, 329, 104, 10, 9, 920, 506, 12, 921], [59, 103, 7, 106, 312, 136, 4, 168, 70, 42, 50, 77, 68, 84, 17, 4, 135, 21, 128, 15, 2, 170, 17, 51, 347, 7, 128, 15, 2, 170, 42, 50, 11], [52, 922, 14, 923, 15, 2, 55, 51, 119, 9, 924], [11, 183, 266], [4, 90, 267, 55, 12, 156, 68, 5, 9, 16, 189, 4, 78, 73, 15, 267, 24], [59, 925, 507, 10, 3, 11, 18, 3, 926, 348, 11], [434, 11], [4, 508, 2, 397, 12, 927, 98, 928], [929, 185], [930, 7, 499, 6, 312, 931, 104, 57], [9, 7, 17, 12, 2, 197, 138, 12, 42, 50, 259], [247, 932], [509, 14, 14, 14, 933, 14, 510, 934, 935, 511, 936, 937, 14, 938, 7, 939, 14, 14, 511, 156, 940, 40, 159, 941, 94, 2, 942, 943, 268, 255, 944, 5, 315, 945, 946, 32, 26, 947, 509, 266, 211, 948], [5, 41, 142, 349, 4, 949, 94, 142, 950, 13, 176, 19, 512, 39, 28, 122, 951, 67, 149], [28, 350, 513, 952, 5, 510, 953, 4, 16, 10, 8, 954, 5, 955, 5, 4, 62, 29, 341, 13, 16, 35, 956, 4, 122, 107, 28, 193, 503, 80, 957, 13, 16, 514, 15, 140], [26, 214, 515, 7, 74, 958, 10, 28, 41, 4, 516, 28, 40, 10, 3, 959, 6, 269, 5, 960, 517, 7, 29, 961, 12, 106, 962, 4, 176, 963, 9, 333, 28, 23, 152, 28, 6, 99, 13, 7, 186, 26, 140, 7, 5, 9, 74, 964, 19, 121, 15, 142, 965, 6, 104, 67, 5, 486, 199, 32, 966, 18, 45], [967, 4, 135, 25, 968, 18, 2, 969, 506, 10, 464, 24], [169, 4, 970, 28, 41, 4, 187, 18, 28], [7, 13, 44, 85, 62, 3, 971, 32, 84, 24], [972, 266, 122, 973, 134, 45], [211, 974, 242, 137, 82, 452, 2, 11, 137, 188, 9, 120, 258, 975, 976, 2, 243, 977, 40, 305, 5, 2, 215, 250, 7, 198, 20, 96, 188, 13, 978, 5, 979, 980, 410, 4, 402, 90, 9, 202, 328, 43, 12, 2, 302, 981, 982, 7, 8, 239, 70, 59, 7, 96, 143, 114, 35, 983, 70, 3, 984, 351, 143, 159, 2, 985, 986, 21, 239, 70, 98, 25], [987, 42, 50, 141, 5, 77, 68, 988, 989, 990, 991, 12, 992, 5, 993, 994, 2, 518, 12, 270, 519, 5, 995, 5, 996, 5, 271, 17, 997, 5, 520, 521, 5, 514], [4, 96, 133, 42, 50, 77, 68, 519, 114, 38, 26, 520, 521, 297, 10, 5, 245, 26, 998], [4, 152, 2, 42, 50, 77, 68, 999, 522, 5, 271, 17], [42, 50, 77, 1, 1, 1, 1], [4, 152, 2, 42, 50, 77, 68, 1, 266], [42, 50, 77, 68, 1, 1], [1, 2, 42, 50, 77, 68, 84, 55, 1, 1, 1, 522, 1, 1, 246, 15, 251, 1, 1, 1, 1], [2, 57, 1, 88, 111, 2, 11, 1], [523], [4, 62, 147, 321, 17, 12, 272, 24, 98, 141, 101, 273, 125, 1, 4, 16, 21, 1, 4, 1, 1, 1, 60, 62, 6, 1, 45, 6, 53, 110], [1, 1, 25, 54, 53], [524, 1, 439, 61], [122, 1, 1, 1], [4, 311, 28, 26, 525, 349, 1, 26, 274, 7, 1], [1, 50, 526, 1, 7, 2, 523], [1, 527, 11, 83, 23, 1, 1, 16, 92, 6, 249, 29, 17, 528, 275, 1, 5, 1], [110, 198, 1, 11, 1, 2, 1, 13, 1, 1, 342, 5, 335], [2, 244, 7, 1, 1, 7, 1, 1, 7, 262, 529, 18, 3, 1, 6, 45], [8, 11, 7, 109, 26, 1, 12, 1, 5, 96, 2, 81, 276, 15, 45, 2, 11, 120, 3, 530, 401, 38, 35, 75, 4, 1, 80, 20, 232, 352, 1, 531, 5, 20, 109, 25, 532, 67, 38, 2, 42, 2, 1, 7, 1, 15, 159, 106, 50, 42], [8, 11, 7, 21, 533, 2, 215, 1, 37, 119, 309, 1, 1, 5, 215, 1, 1, 142, 164, 142, 1, 1, 215, 1, 1, 1, 215], [197, 276, 11, 97, 505, 89, 195, 508, 5, 35, 1], [21, 51, 7, 1, 2, 277, 1], [1, 2, 199, 5, 2, 243, 534, 40, 305], [2, 1, 1, 500], [44, 60, 20, 166, 255, 2, 11, 1, 8, 353, 245], [163, 415, 123, 1], [4, 107, 278, 168, 535, 354, 58, 111, 355, 356], [59, 103, 208, 2, 536, 75, 535, 354, 38, 110, 479, 357, 4, 107, 31, 7, 88, 111, 355, 356], [4, 211, 6, 537, 8, 11, 9, 1, 18, 52, 1, 61, 1, 12, 527], [191, 103, 187, 95, 2, 165, 250, 4, 18, 30, 31, 95, 32, 2, 11, 440, 5, 2, 1, 1, 59], [25, 253, 59, 103, 7, 1, 98, 538, 52, 1, 5, 4, 115, 18, 123, 1], [59, 344, 539, 142, 540, 1, 358, 525, 344], [2, 277, 1, 38, 1, 63, 1, 1, 541, 210, 1, 1, 9, 2, 277, 1, 1, 157, 28, 1, 524, 2, 1, 17, 42, 1], [177, 542], [1, 59], [1, 423, 10, 2, 11, 1, 1, 359, 5, 1, 1, 18, 1, 119, 1, 6, 9], [543, 1, 542, 1, 453], [6, 1, 2, 81, 11, 12, 43, 121], [1, 273], [42, 50, 1], [35, 25, 276, 541, 59, 103, 507, 3, 1], [4, 328, 8, 11], [243, 277, 1, 45, 12, 355, 356, 1], [42, 50, 265, 91, 91, 91, 91, 1], [544, 2, 330, 5, 197, 17, 10, 2, 216, 360, 427, 1, 10, 2, 545, 1], [11, 16, 421, 361, 15, 84, 24], [150, 268], [59, 103, 2, 1, 104], [112, 56], [112, 546], [279, 56], [1], [112], [177], [1, 1, 1, 1, 1, 1, 1], [1, 1, 1, 1, 1, 1, 1, 1, 1, 1, 1, 1, 1, 1], [1], [8, 11, 1, 26, 1], [1, 1, 1, 362, 1, 112], [205], [108, 177], [1, 547, 1, 1, 1, 1], [1], [1, 1], [1, 56, 1, 1, 1, 1, 1], [1, 1, 546], [1], [59, 1, 1, 1, 1, 1, 1], [1, 56, 1, 1, 121, 56], [1], [59, 1, 1, 136, 10, 1, 178, 1, 42, 1, 1, 191, 1, 1], [196, 1], [1, 1], [1], [327, 56, 1, 10, 1], [1, 1, 1], [3, 167, 12, 320, 217, 6, 26, 1], [1, 1, 1, 1, 112, 1], [112, 1], [403], [112, 362, 1], [21, 15, 8, 138, 120, 1, 67, 6, 2, 1], [1], [261, 261, 261], [35, 3, 189, 11], [279], [196], [1, 56], [279, 56], [112], [59, 103, 7, 25, 147, 199, 31, 7, 1, 123, 75], [279], [1, 1, 362, 56], [112], [9, 37, 19, 21, 177, 6, 72, 1, 431, 38, 548, 170, 276, 11, 126, 93, 6, 19, 492], [1], [1], [31, 162, 69, 2, 170, 436, 5, 1, 138], [124, 90, 106, 267, 12, 2, 34, 17, 23, 363, 54, 53, 8, 17, 97, 12, 26, 1, 549, 258, 550], [52, 21, 128], [26, 218, 342, 37, 19, 2, 146, 6, 156, 118, 13, 280, 217, 5, 203, 551], [281, 14], [30, 39, 35, 43, 29, 219, 1], [3, 46, 47, 48, 49, 3, 3, 46, 47, 48, 49, 3, 3, 46, 47, 48, 49, 3, 3, 46, 47, 48, 49, 3, 3, 46, 47, 48, 49, 3, 3, 46, 47, 48, 49, 3, 3, 46, 47, 48, 49, 3, 3, 46, 47, 48, 49, 3, 3, 46, 47, 48, 49, 3, 3, 46, 47, 48, 49, 3, 3, 46, 47, 48, 49, 3, 3, 46, 47, 48, 49, 3, 3, 46, 47, 48, 49, 3, 3, 46, 47, 48, 49, 3, 3, 46, 47, 48, 49, 3, 3, 46, 47, 48, 49, 3, 3, 46, 47, 48, 49, 3, 3, 46, 47, 48, 49, 3, 3, 46, 47, 48, 49, 3, 3, 46, 47, 48, 49, 3, 3, 46, 47, 48, 49, 3, 1], [26, 218, 13, 144, 179, 37, 220, 97, 31, 260, 6, 269, 270, 118, 2, 364, 12, 2, 552, 7, 101], [2, 280, 104, 66, 77, 5, 175, 6, 474, 2, 82], [4, 60, 168, 6, 53, 8, 1, 4, 491, 14, 4, 1, 32, 26, 1, 5, 1, 38, 153, 553, 127, 1, 1, 554, 10, 1, 1, 18, 8, 14, 4, 79, 555, 282, 29, 343, 282, 357, 6, 555, 1, 13, 40, 282, 293, 25, 282, 30, 2, 153, 412, 5, 4, 99, 4, 29, 78, 556, 1, 153], [78, 73, 6, 72, 30, 1, 1, 10, 64, 27, 22, 24, 2, 557, 365, 120, 45, 128, 15, 58, 1, 1], [4, 78, 73, 15, 64, 27, 22, 24, 4, 558, 169, 1, 58, 134, 2, 485, 12, 2, 65, 5, 366, 1, 2, 1, 559, 2, 560, 1, 533, 1], [293, 317, 8, 252], [367, 1, 158], [180, 44, 2, 204, 87, 561], [1], [128, 15, 8, 22, 2, 73, 16, 239, 9], [2, 562, 1, 563, 159, 1, 94, 2, 280], [488, 367, 1], [8, 7, 29, 93, 6, 19, 3, 1, 1, 111, 3, 22, 190], [564, 495], [9, 37, 19, 21, 177, 6, 53, 9, 1], [78, 73], [21, 36, 6, 72, 3, 167, 12, 1, 1, 283, 181], [368, 178, 369, 4, 168, 28], [10, 2, 1, 304, 12, 22, 55, 144, 565, 154, 1, 7, 145, 44, 123, 154, 10, 1, 24, 313, 182], [1, 1], [8, 193, 1, 19, 36, 1, 38, 80, 169, 20, 1, 2, 1, 12, 210, 262, 132, 2, 65, 32, 302, 1, 1, 12, 80, 9, 1, 98, 9, 37, 29, 19, 110, 566, 348, 1, 567, 13, 551, 67, 1, 1, 6, 92, 469, 14, 14, 35, 3, 1, 1, 130, 8, 1], [1, 4, 175, 1, 1, 7, 31, 13, 1, 2, 1, 12, 2, 1, 12, 8, 284, 14, 14, 1, 1, 265], [8, 37, 146, 29, 18, 2, 1, 138], [568, 185, 152, 6, 569, 8, 27, 39, 35, 1], [44, 66, 172, 65], [219, 2, 143, 104, 86], [1, 1, 9, 1], [44, 69, 4, 207, 18, 2, 141, 1, 60, 570, 19, 18, 1, 65, 14, 14, 34, 284, 22, 55, 370, 1, 34, 1, 10, 2, 65, 5, 1, 14, 345, 284, 22, 24, 370, 371, 10, 2, 27, 71, 193, 570, 119, 1, 14, 1, 284, 22, 141, 370, 371, 1, 6, 1, 166, 157, 2, 1], [80, 7, 180, 372, 71], [4, 174, 44, 144, 179, 1, 2, 27, 71], [2, 571, 20, 1, 24, 172, 65, 1, 9, 209, 15, 144, 179, 6, 540, 86], [22, 141, 1, 572, 175, 101, 15, 110, 27, 14, 22, 573, 1, 572, 373, 14, 22, 251, 574, 526, 1], [100], [366], [575, 127, 331, 1, 110, 57, 8, 576, 5, 256, 10, 577, 1, 20, 62, 578, 17, 316, 576, 346, 1, 39, 28, 122, 516, 45, 374, 43, 2, 1, 12, 43, 2, 22, 24, 64, 27, 1, 98, 1, 98, 195, 1, 127, 578, 134, 22, 24], [155, 579, 40, 21, 1, 67, 13, 20, 60, 29, 152, 6, 89, 17, 214, 323, 6, 89, 360, 161, 39, 9, 120, 6, 1, 32, 155, 579], [4, 135, 74, 1, 80, 20, 40, 93, 6, 61, 69, 2, 34, 17, 2, 580, 40, 1, 257, 5, 13, 1, 581, 13, 9, 37, 25, 1, 2, 580, 5, 466, 14, 1, 4, 135, 194], [13, 16, 144, 565, 582, 93, 101, 132, 2, 65, 41, 3, 574, 5, 1, 278, 117, 417, 2, 560, 104, 7, 70, 13, 529, 18, 306, 3, 1, 582, 23, 2, 22, 7, 25, 61, 294, 21, 256, 301, 58, 6, 9, 111, 85, 99], [202, 1, 6, 142, 1, 14, 1, 5, 4, 62, 375, 273, 583, 14, 1, 1, 60, 28, 14, 19, 584, 10, 1, 14, 14, 39, 185, 7, 584, 200, 45, 99], [31, 16, 1, 15, 2, 1, 10, 2, 1], [367, 585], [4, 174, 39, 10, 8, 172, 22, 31, 60, 29, 1, 123, 1, 1, 1, 173, 6, 278, 97, 586, 1, 156, 16, 1, 1, 583, 547], [90, 2, 57, 130, 300, 1, 376], [78, 73], [4, 558, 1, 1, 8, 37, 96, 62, 1, 1, 534], [1, 4, 135, 340, 1, 15, 8], [87, 2, 449, 12, 84, 55, 4, 174, 30, 84, 24, 37, 19, 18, 4, 107, 10, 84, 24, 2, 377, 75, 37, 166, 38, 2, 303, 12, 2, 143, 104, 6, 1, 2, 27, 5, 146, 67, 10, 3, 27, 12, 123, 471, 1], [20, 211, 6, 62, 221, 65, 10, 8, 22], [1], [26, 218, 130, 2, 146, 7, 13, 31, 1, 6, 269, 210, 347], [4, 115, 292, 6, 84, 190, 577, 1], [378, 150], [4, 379, 18, 8, 22, 23, 233, 4, 207, 18, 202, 188, 8, 3, 167, 12, 376, 213, 23, 8, 228, 1, 221, 111, 2, 1, 64, 27, 4, 99, 5, 35, 350, 25, 54, 19, 41, 36, 14, 256, 35, 97, 52, 1, 255, 12, 2, 400, 4, 317, 587, 29, 588], [169, 4, 1, 86, 44, 2, 143, 104, 99, 43, 65, 35, 97, 35, 285, 2, 264, 27, 5, 350, 581, 31, 16, 3, 1, 13, 1, 3, 1, 575], [1], [36], [36], [36], [235, 8, 7, 54, 19, 36, 86, 85, 43, 99, 1, 54, 1, 2, 552, 379, 263, 297, 5, 2, 1, 7, 1, 102, 8, 121], [281, 368, 178, 369, 52, 93, 6, 1, 61], [78, 73], [130, 34, 4, 16, 21, 128, 13, 205, 589, 24, 7, 61, 23, 100, 4, 374, 10, 127, 5, 4, 590, 9, 23, 10, 117, 3, 359, 308, 12, 591, 286, 592, 10, 2, 11, 5, 4, 222, 2, 127], [130, 34, 4, 16, 21, 128, 13, 205, 589, 24, 7, 61, 23, 100, 4, 374, 10, 127, 5, 4, 590, 9, 23, 10, 117, 3, 359, 308, 12, 591, 286, 592, 10, 2, 11, 5, 4, 222, 2, 127], [44, 69, 4, 62, 3, 327, 1, 219, 54, 220, 10, 22, 24, 52, 1, 1, 1, 66, 17, 79, 1, 1, 65, 1], [378, 150, 1], [186, 7, 1], [1, 1, 1, 1], [73, 66, 1, 8, 121, 4, 74, 18, 1, 1], [593, 1, 41, 3, 594], [1, 21, 36], [223], [4, 74, 152, 6, 72, 51, 595, 272, 1, 23, 155, 7, 285, 1, 1, 13, 124, 596, 10, 3, 597], [2, 1, 39, 31, 595, 2, 27, 71], [51, 347, 1, 6, 72, 3, 1, 380, 598, 2, 34, 64, 65], [184, 36, 378, 240, 9, 79, 1, 67, 6, 2, 34, 22], [9, 208, 114, 512, 6, 89, 587, 147, 1, 4, 37, 109, 53, 7, 191], [30, 16, 2, 143, 105, 117, 4, 140, 163, 588, 101, 10, 22, 17], [346, 144, 179, 217, 101, 6, 381, 2, 27, 71, 5, 7, 86, 201, 6, 269, 82, 26, 1, 7, 31, 37, 220, 14, 35, 29, 26, 218, 4, 240, 31, 176, 220], [30, 134, 13, 382, 536, 95, 31, 74, 220, 52, 1, 6, 99], [7, 13, 2, 334, 63, 1, 281], [357, 4, 18, 6, 599, 10, 26, 1, 5, 118, 1, 9, 67, 5, 599, 9, 71, 375, 5, 375], [26, 147, 1, 7, 80, 95, 31, 119, 101, 10, 117, 39, 2, 600, 40, 504, 6, 19, 1, 94, 2, 1], [281], [1], [235, 1, 200, 150, 22, 24], [368, 178, 369, 1, 1, 1, 91, 91, 91, 91, 91, 91, 91], [52, 1, 39, 2, 287, 15, 272, 65, 40, 221, 10, 22, 55, 39, 2, 600, 222, 2, 173, 212, 6, 2, 601, 383, 602, 10, 8, 17, 9, 184, 18, 20, 79, 166, 2, 173, 5, 1, 161, 39, 20, 69, 222], [95, 20, 263, 2, 287, 15, 272, 65, 20, 298, 87, 586, 27, 20, 79, 166, 155, 173, 5, 150, 268, 1, 38, 3, 1, 1, 10, 22, 55, 9, 212, 6, 2, 601, 383, 603], [44, 60, 4, 152, 6, 53, 1, 2, 264, 236, 71], [604, 605, 4, 1, 64, 27, 22, 24, 10, 102, 164], [51, 200, 270, 1, 21, 209], [17, 58, 22, 17, 58, 22, 17, 58, 22], [223], [78, 73, 15, 2, 1, 606, 2, 82, 40, 54, 89, 15, 8, 206], [4, 1, 2, 75, 13, 7, 2, 377, 75, 12, 64, 27, 22, 24, 113, 2, 145, 154, 18, 2, 2, 377, 75, 63, 2, 146, 13, 113, 2, 154, 145], [233, 2, 1, 607, 40, 43, 108, 1, 5, 1, 25, 1, 1, 41, 2, 34, 216, 23, 126, 3, 608, 23, 1, 29, 1, 8, 63, 34, 115, 96, 21, 137, 1, 1, 205, 283, 181, 10, 8, 1, 114, 137, 161, 1, 1, 12, 34, 22, 43, 159, 608, 517, 10, 365, 12, 22, 24, 1, 21, 131, 1, 213, 160, 12, 1, 609, 332, 610, 216, 186, 1, 1, 58, 1, 2, 146, 12, 2, 216], [2, 371, 7, 2, 81, 349, 85, 124, 113], [4, 174, 39, 127, 426, 134, 2, 1, 5, 606, 5, 1, 270, 132, 2, 65], [363, 221, 32, 1, 1, 468, 87, 316, 27, 160, 12, 29, 87, 2, 34, 27], [361], [114, 1, 5, 611, 1, 461, 13, 3, 612, 164, 25, 1, 14, 5, 126, 360, 613], [1, 101, 1], [30, 4, 122, 442, 7, 39, 2, 183, 12, 2, 27, 7, 15, 1, 5, 1, 44, 60, 20, 1, 210, 126, 1, 2, 27, 275, 6, 69, 9, 71, 31, 120, 106, 1, 454, 25, 253, 39, 8, 7, 93, 6, 441], [9, 363, 176, 19, 41, 36, 41, 2, 34, 22], [223], [206], [1, 10, 1, 91, 64, 27], [8, 1, 1, 61, 10, 26, 1], [8, 1, 38, 26, 358, 81, 1, 83], [231, 6, 72, 2, 493, 180, 373], [73, 15, 191], [2, 280, 7, 373], [85, 133, 3, 172, 1, 1, 1, 101, 64, 27, 22, 24, 5, 1, 1, 43, 275, 1, 1], [74, 128, 14, 7, 9, 29, 45, 51, 1, 21, 137, 264, 181, 63, 614, 23, 44, 9, 37, 1, 2, 203, 43, 563, 77, 10, 614, 2, 104, 32, 1, 66, 559, 1, 96, 2, 143, 105, 4, 140, 2, 148, 324, 545, 60, 19, 476, 343, 25, 6, 69, 8], [1, 11, 1, 115, 18, 3, 604, 605, 252], [130, 2, 108, 300, 598, 145, 1, 384, 2, 1, 115, 309, 18, 20, 212, 32, 1, 160, 12, 1, 74, 1, 1, 10, 3, 167, 12, 615, 320], [1, 7, 616, 134, 8, 290], [177, 52, 361, 15, 8], [31, 86, 115, 58, 5, 58, 18, 2, 143, 104, 66, 55], [64, 27, 24, 275, 1], [128, 6, 72, 1, 10, 8, 219, 3, 1, 283, 136], [2, 597, 7, 54, 19, 372], [25, 70, 8, 198, 1, 71], [180, 113, 6, 1, 10], [2, 571, 13, 8, 217, 67, 10, 26, 1, 596, 87, 1, 617, 618, 7, 475], [564, 100], [1, 30, 3, 1, 619, 619], [4, 140, 144, 179, 54, 19, 2, 1], [4, 140, 31, 120, 145, 154, 86], [44, 64, 27, 9, 162, 19, 567, 27, 15, 22, 24], [81, 594, 60, 19, 39, 43, 258, 550, 383, 40, 117, 14, 14, 1, 1, 88, 119, 58, 1, 121, 8, 121, 245], [81, 216, 83, 10, 283], [1, 21, 6, 1, 106, 83, 88, 483], [1, 26, 1, 10, 1], [54, 307, 29, 26, 218], [15, 45, 22, 55, 16, 3, 167, 58, 88, 23, 7, 372, 144, 179, 98, 1], [180, 2, 380, 184, 18, 2, 1, 252], [385, 385, 385], [1, 38, 561, 528, 20, 40, 1, 278, 37, 19, 268, 6, 53, 9, 32, 155, 602], [223], [78, 73, 6, 72, 136, 549, 1, 1], [4, 174, 39, 169, 72, 30, 1, 32, 2, 364, 51, 16, 394, 63, 214, 22, 39, 219, 74, 77, 5, 30, 20, 187, 69, 32, 2, 1], [39, 1, 16, 10, 8, 11, 31, 60, 544, 1, 2, 1, 5, 1, 2, 92, 242], [5, 9, 147, 208, 141, 125], [117, 16, 66, 1, 15, 110, 22, 44], [100, 568, 8, 175, 61], [4, 207, 18, 17, 12, 2, 65, 60, 19, 3, 1, 354, 98, 1, 5, 1], [4, 1, 2, 364], [1, 620, 20, 133, 1, 12, 13, 1, 1, 145, 154, 206], [1, 44, 7, 9, 249, 38, 26, 358], [1, 64, 27, 1, 1], [242, 2, 1, 1, 617, 618, 37, 19, 1, 2, 64, 65], [24, 125, 54, 621, 108, 1], [178, 366, 87, 573, 125], [10, 64, 27, 1, 66, 17, 322, 15, 17, 58, 27], [73, 229, 64, 27, 175, 61, 213], [52, 25, 253, 39, 2, 345, 22, 193, 83, 19, 41, 36, 41, 2, 34, 14, 14, 23, 52, 43, 15, 532, 9, 3, 477, 5, 289, 186, 9, 322], [1, 622], [8, 7, 54, 19, 21, 36, 4, 79, 311], [21, 8, 7, 2, 365, 25, 2, 557, 57, 165], [1], [80, 1, 79, 20, 263, 2, 1], [21, 29, 3, 1, 585, 12, 22, 55, 1, 189, 310, 1, 1], [4, 99, 623, 1, 207, 1, 32, 153, 14, 23, 4, 1, 70, 9, 10, 153, 25, 10, 386, 97, 2, 199, 1, 12, 2, 181, 5, 1, 181, 51, 241, 155, 1, 132, 155, 1, 40, 221, 137, 623, 1, 1, 1, 1, 96, 1, 1, 386, 153, 556, 12, 142, 1, 1, 1, 14, 28, 40, 1, 111, 28, 107, 161, 39, 28, 539, 153, 28, 176, 501, 2, 181, 1, 1, 5, 11, 380, 4, 176, 247, 28, 39, 28, 62, 6, 53, 9, 10, 386, 23, 118, 1, 70, 64, 27, 553, 1, 2, 1], [26, 180, 87, 123, 1, 446, 129], [36, 310], [622, 1, 1, 1, 1, 1, 1, 1], [267, 1, 7, 3, 1], [214, 36, 56, 63, 139, 224, 1], [115, 18, 45, 225, 1, 624, 164], [25, 1], [30, 7, 2, 460], [52, 1, 387], [1, 625, 172, 17, 226, 1], [1, 17, 262, 101, 1, 98, 1], [1], [124, 1, 6, 1], [1, 102, 244, 487], [626, 182, 286, 226, 388], [626, 1, 1, 17, 1, 1, 227], [513, 100, 139, 224, 411, 1, 21, 131, 13, 3, 1, 1, 2, 610, 627, 1, 13, 20, 1, 2, 151, 12, 2, 259], [225, 107, 31, 530, 1, 51, 126, 628, 616, 28, 28], [624, 164, 66, 625, 1, 1], [1, 190, 1], [35, 1, 13, 8, 515, 1, 7, 109, 1], [30, 3, 1, 12, 463, 8, 16, 3, 1, 462, 12, 1, 1, 139, 1, 25, 139, 224, 139, 238, 25, 139, 224, 4, 241, 158, 70, 9, 15, 1, 125, 23, 24, 1, 470, 18, 3, 1, 161, 1, 60, 531, 1, 70, 8, 97, 31, 60, 19, 1, 1, 154, 60, 1, 61, 5, 627, 1, 60, 62, 1, 1], [117, 40, 285, 287, 10, 352, 274, 28, 629, 17, 1, 110, 17, 1, 67, 6, 2, 1, 18, 45, 422, 352, 287], [1, 8, 11], [389, 1, 1, 630, 389, 1], [30, 3, 1, 323], [1, 1, 1], [631, 603, 334, 25, 15, 1, 5, 15, 1], [631, 390, 1, 1, 620, 70, 82, 1, 10, 227, 1], [340, 1, 10, 1, 10, 227, 1], [632, 633, 1, 1, 632, 633], [17, 615, 10, 1, 1], [1, 217, 10, 1], [1, 1], [1, 1, 274, 145, 543], [102, 274, 611, 158, 10, 1], [387, 63, 85, 1, 1, 203, 7, 102], [52, 93, 6, 381, 182, 634], [30, 194, 2, 1, 133, 1, 1, 319, 428], [1, 381, 182, 17], [634, 4, 37, 19, 182, 17, 1], [34, 204, 472, 1, 390, 257], [1, 30, 569], [1, 2, 1, 1], [635, 636, 226, 388, 7, 102, 636, 7, 102], [389, 1, 1, 1, 1, 630], [86, 13, 1, 5, 1, 7, 3, 36, 57, 109, 1, 45, 1, 418, 86, 637, 2, 11, 248], [286, 17, 145, 17, 1, 67], [25, 136], [1, 7, 25, 102, 2, 1, 1, 15, 225, 1, 9, 10, 353, 227, 638, 17], [96, 1, 10, 1, 25, 1, 1, 628, 353, 40, 226, 5, 612, 607], [639, 640, 7, 38, 566, 640, 10, 31, 222, 114, 1, 376, 13, 271, 1, 129], [66, 1, 1, 126, 15, 271, 1, 391, 391, 23, 9, 10, 1, 27, 416], [66, 1, 66, 1], [66, 58, 273, 86, 538, 1], [641, 35, 26, 183], [100, 4, 72, 8, 11, 38, 26, 1, 1, 4, 621, 165, 94, 9, 448, 348], [52, 10, 382, 1, 11, 84, 141], [518, 12, 1, 12, 225, 5, 1, 1, 1], [109, 2, 81, 17, 94, 230], [109, 2, 81, 17, 94, 230], [1, 4, 1, 28, 114, 1], [1, 11, 326, 7, 1, 2, 259, 554, 100, 20, 1, 2, 1, 12, 139, 224, 5, 241, 9, 10, 2, 1, 1], [1, 1, 1, 1, 642, 1], [643, 178, 643], [126, 26, 173, 63, 1, 1], [55, 391, 1, 644, 384, 351, 11], [537, 2, 1, 63, 637, 1], [329, 387, 644, 384, 351, 7, 225], [8, 56, 16, 36, 4, 291, 30, 20, 95, 32, 1], [265, 125, 445, 109, 1, 157, 2, 81, 1, 11], [8, 57, 7, 437, 465, 1, 9, 16, 254, 6, 72, 80, 8, 11, 37, 629, 2, 1], [1, 1, 405, 1, 642, 1], [4, 1, 70, 8, 5, 1, 223, 8, 379, 25, 19, 13, 92], [1, 382, 31, 1, 2, 82], [639, 27, 7, 38, 1, 1, 1], [390, 257, 93, 6, 645, 609], [3, 494, 2, 11, 248], [2, 214, 641, 28, 37, 285, 19, 1], [30, 645, 593, 2, 226, 388, 7, 102, 182, 1, 5, 1], [34, 17, 548, 227, 1, 20, 212, 67, 1], [1, 1, 1, 1, 5, 635, 1], [25, 1, 67, 1, 638, 5, 1, 562, 250, 1, 163, 1, 163, 1], [35, 613, 13, 8, 399, 457, 2, 314, 1, 15, 326]]\n",
      "Padded training sequences:\n",
      " [[  8  11 646 ...   0   0   0]\n",
      " [ 88 183   8 ...   0   0   0]\n",
      " [288  54 393 ...   0   0   0]\n",
      " ...\n",
      " [  1   1   1 ...   0   0   0]\n",
      " [ 25   1  67 ...   0   0   0]\n",
      " [ 35 613  13 ...   0   0   0]]\n",
      "Padded training shape: (472, 179)\n",
      "Training sequences data type: <class 'list'>\n",
      "Padded Training sequences data type: <class 'numpy.ndarray'>\n"
     ]
    }
   ],
   "source": [
    "#Gebe den Wörter-Index, die Trainingssequenz und deren Padded Version, sowie deren Form und die Datentypen aus\n",
    "print(\"Word index:\\n\", word_index)\n",
    "print(\"Training sequences:\\n\", train_sequences)\n",
    "print(\"Padded training sequences:\\n\", train_padded)\n",
    "print(\"Padded training shape:\", train_padded.shape)\n",
    "print(\"Training sequences data type:\", type(train_sequences))\n",
    "print(\"Padded Training sequences data type:\", type(train_padded))"
   ]
  },
  {
   "cell_type": "code",
   "execution_count": 9,
   "id": "b1d08c56",
   "metadata": {},
   "outputs": [],
   "source": [
    "#Erstelle aus den Testdaten ebenfalls die Sequenz und die padded Sequenz\n",
    "test_sequences = tokenizer.texts_to_sequences(test_data['reviewText'])\n",
    "test_padded = pad_sequences(test_sequences, padding=pad_type, truncating=trunc_type, maxlen=maxlen)"
   ]
  },
  {
   "cell_type": "code",
   "execution_count": 10,
   "id": "c9b7f0a6",
   "metadata": {},
   "outputs": [
    {
     "name": "stdout",
     "output_type": "stream",
     "text": [
      "Testing sequences:\n",
      " [[1, 1, 1, 1, 5, 635, 1], [25, 1, 67, 1, 638, 5, 1, 562, 250, 1, 163, 1, 163, 1], [35, 613, 13, 8, 399, 457, 2, 314, 1, 15, 326], [28, 79, 1, 2, 1, 10, 258, 98, 1, 17], [8, 57, 16, 1, 3, 494, 2, 11, 238, 1], [81, 57, 92, 11], [189, 57], [326, 2, 1, 172, 11, 37, 1, 82, 1, 14, 1, 282, 1, 763, 9, 132, 1, 1, 282], [4, 501, 100, 2, 1, 16, 1], [30, 4, 37, 298, 7, 418, 2, 56, 159, 41, 9, 7, 9, 7, 3, 108, 169, 924, 57], [8, 7, 25, 93, 6, 150, 2, 192, 28, 107, 168, 1, 532, 1, 272, 1, 1, 6, 123, 1], [2, 1, 8, 11, 1, 113, 101, 118], [1, 15, 133, 166, 2, 1, 12, 562, 98, 543], [66, 1, 205, 10, 1, 1], [115, 52, 74, 25, 54, 1, 23, 4, 107, 8, 57, 7, 108, 613, 15, 43, 1], [8, 11, 16, 293, 305, 23, 301, 66, 1, 13, 2, 57, 16, 1], [2, 293, 197, 139, 224, 11, 4, 402, 321, 2, 102, 710, 44, 82, 18, 9], [66, 1], [8, 57, 113, 45, 1, 8, 16, 54, 19, 2, 1, 139, 224, 56, 12, 43, 121, 104, 4, 16, 21, 194], [4, 1, 1, 13, 155, 1, 702, 58, 10, 2, 56], [543, 1, 7, 102, 1, 543, 250, 10, 1, 1, 388], [139, 224, 7, 102, 687, 243, 1], [1, 1, 44, 847, 7, 1], [1, 1, 2, 1, 562, 543, 520, 286], [1, 15, 225, 1], [172, 139, 224, 248], [39, 85, 193, 855, 1, 1], [4, 18, 100, 3, 1, 1, 110, 1, 10, 1, 108, 465], [1, 1], [168, 8], [223, 4, 78, 516, 8, 16, 2, 214, 1, 11, 232, 114, 92, 85, 124, 133, 6, 72, 30, 844, 170, 1], [8, 1, 1, 1, 138, 18, 8, 1, 1, 1, 5, 1], [563, 109, 149, 265, 125, 445, 1, 134, 8, 11, 4, 229, 99, 9, 60, 175, 6, 8], [2, 214, 874, 1, 12, 8, 57, 109, 611, 45, 1, 6, 8, 204, 4, 62, 124, 702, 41, 128, 15, 3, 11, 41, 4, 16, 15, 2, 214, 641], [298, 655, 28, 152, 8, 11, 16, 421], [8, 57, 676, 3, 131, 88, 11], [8, 11, 113, 35, 1, 23, 9, 130, 300, 113, 1, 5, 3, 236, 6, 311, 1, 2, 1, 13, 16, 2, 1, 12, 627], [4, 513, 1, 8, 16, 93, 6, 19, 189, 147, 6, 72, 2, 1, 12, 3, 1, 1], [130, 300, 85, 133, 17, 36, 11, 61, 12, 2, 886], [56, 7, 312], [2, 214, 641, 7, 2, 81, 12, 2, 886], [4, 122, 99, 44, 40, 28, 43, 748, 130, 429, 1, 1, 1, 5, 429, 113, 189, 5, 1, 1, 43, 1, 1, 62, 360, 1, 126, 26, 1], [4, 124, 53, 1, 5, 147, 1, 8, 17, 29, 86, 299, 638, 568, 13, 115, 18, 1, 19, 3, 189, 11, 41, 15, 2, 1, 11, 378, 29, 298, 2, 82, 51, 232, 2, 57, 563, 108, 108, 1], [90, 8, 10, 2, 1, 101, 100, 9, 249, 9, 16, 340, 2, 1, 2, 1, 1], [8, 11, 646], [1, 1, 242, 40, 680, 1, 23, 52, 149, 15, 1, 250], [1], [119, 1, 12, 43, 2, 1, 13, 95, 25, 62, 1, 1, 98, 1, 5, 301, 3, 189, 11, 10, 149, 261, 35, 661, 221, 111, 85, 1, 87, 267, 265, 23, 80, 1, 60, 3, 11, 19, 39, 85, 193, 1, 9, 851, 14, 14, 1, 587, 188, 8, 7, 25, 93, 6, 150, 2, 192, 28, 107, 5, 25, 17, 888, 444, 1, 6, 129], [1, 8, 7, 350, 109, 17, 12, 2, 81, 1, 5, 1, 1, 12, 43, 121], [2, 57, 7, 88, 118, 2, 1, 11], [176, 19, 70, 8, 29, 97, 219, 1, 1, 31, 1, 1, 5, 85, 99, 31, 16, 458, 114, 69, 21], [1, 526, 1, 863, 465, 1, 1, 123, 1, 481, 12, 159, 1, 12, 2, 824, 950], [29, 1, 1, 12, 2, 1, 12, 348, 85, 133, 158, 8, 57, 23, 2, 57, 7, 36], [1, 426, 13, 4, 298], [117, 16, 3, 189, 139, 224, 11, 10, 149, 1, 29, 2, 1, 16, 1], [166, 8, 56, 241, 9, 38, 1, 1, 9, 67, 132, 1, 1, 1, 89, 9, 3, 1, 32, 3, 393, 1, 5, 1, 488, 1], [147, 36, 250, 16, 1, 1, 1], [2, 392, 543, 1, 1, 10, 752, 9, 161, 1, 1], [8, 120, 6, 19, 17, 12, 2, 81, 1, 202, 83, 321, 15, 195, 11], [100, 85, 113, 66, 1, 80, 92, 8, 16, 93, 6, 19, 8, 57, 16, 1], [1, 1, 1, 1, 1], [57, 91, 91, 91, 91, 91, 91, 91, 2, 1, 11], [1, 1, 1, 10, 398, 1], [35, 1, 616, 6, 1, 1], [631, 1, 5, 139, 224, 1, 45, 61, 1, 1], [52, 1, 1, 28, 10, 1, 1, 1], [639, 640, 1, 52, 1, 1], [1, 1, 150, 1], [1, 1, 9, 10, 1], [2, 81, 139, 224, 5, 35, 25, 161, 1], [1, 1], [197, 139, 224, 11, 83], [4, 1, 13, 52, 149, 71, 6, 53, 8, 421, 57, 43, 8, 1, 5, 20, 124, 1, 1, 1, 2, 1, 255, 12, 2, 11, 186, 634, 5, 1, 150, 6, 2, 1, 21, 131, 1, 29, 1, 6, 2, 348], [378, 19, 1, 8, 57, 1, 5, 1], [348, 11], [66, 1, 2, 1, 57, 1, 1, 5, 1, 113, 278, 1, 8, 16, 93, 6, 19, 3, 1, 1, 312, 80, 131, 1, 1, 67, 1, 111, 1, 38, 3, 1, 1], [1, 15, 1, 1, 1, 1, 1, 1], [106, 312, 57, 15, 55, 12, 2, 197, 320, 12, 43, 121], [1, 1, 1, 1], [8, 7, 2, 81, 139, 224, 11, 83, 10, 26, 1], [2, 57, 1, 1, 197, 139, 224, 56, 83], [8, 11, 7, 36, 5, 1, 30, 185, 1], [17, 1, 430, 232, 139, 224, 265, 496, 1, 5, 214, 641, 5, 864, 2, 610, 139, 224, 2, 999, 1, 864, 139, 224, 5, 1, 326, 157], [8, 57, 16, 421, 131, 88, 111, 2, 1, 1], [26, 1, 188, 1, 78, 19, 1], [1, 2, 214, 1, 16, 88, 111, 8, 214, 641, 425], [2, 57, 7, 88, 111, 2, 11], [168, 2, 460, 63, 8, 57, 185, 99, 30, 2, 1, 7, 722], [1, 1, 1, 120, 88, 469, 111, 8, 11], [4, 501, 1, 4, 501, 100, 20, 1, 1, 6, 166, 1, 23, 160, 43, 85, 133, 7, 1, 5, 817, 1], [126, 44, 161, 100, 1, 1, 2, 1, 1, 109, 120, 2, 1], [266, 1, 270], [28, 37, 1, 45, 71, 1], [1, 1, 28, 40, 312], [3, 167, 12, 28, 37, 62, 6, 313, 18, 1, 6, 540], [2, 1, 44, 1, 1, 7, 97, 35, 93, 6, 19, 3, 1, 12, 1, 1, 13, 937, 1, 1, 1], [126, 44, 100, 1, 588, 1, 1, 1, 6, 1, 18, 31, 16, 1, 12, 2, 214, 641, 31, 16, 1, 6, 220, 114], [5, 2, 1, 44, 28, 124, 1, 1, 1, 423, 16, 97, 937, 229, 152, 28, 6, 72, 9, 163, 161, 133, 1, 15, 29, 1, 315, 1, 100, 315, 1, 133, 1], [5, 261, 1, 588, 97, 12, 45, 114, 4, 95, 1, 6, 315, 10, 2, 1, 5, 71, 163, 1, 28, 43], [52, 1, 28, 588, 97, 12, 45, 1, 9, 415, 26, 1, 100, 4, 916, 13, 38, 2, 1], [5, 1, 1, 4, 168, 28, 114, 4, 99, 28, 1, 3, 167, 15, 45, 41, 169, 5, 15, 422, 1], [4, 168, 28, 1, 4, 99, 28, 5, 1, 95, 2, 1, 97, 28, 426, 4, 291, 28, 439], [26, 1, 7, 149, 114, 10, 43, 12, 28, 5, 35, 93, 6, 1, 1, 417, 123, 1, 161, 100, 9, 1, 1, 4, 1, 1, 89, 9, 332], [43, 12, 28, 37, 19, 1, 15, 45], [126, 44, 43, 2, 1, 32, 1, 1, 9, 16, 97, 4, 291, 1], [17, 250, 4, 1, 114, 16, 4, 317, 1, 23, 87, 417, 4, 1, 1, 1, 5, 1, 100, 4, 260, 6, 53, 9, 31, 241, 1, 1, 10, 45, 6, 855, 45, 517, 63, 9, 1, 12, 2, 1, 769, 12, 9, 126, 44, 28, 72, 1, 337, 1, 5, 1, 43, 2, 121, 2, 1, 186, 201, 6, 269, 45, 203, 1, 6, 1, 9, 5, 1, 13, 1, 1, 61], [29, 6, 200, 28, 1, 1, 31, 1, 1, 375, 32, 1, 23, 586, 121, 2, 1, 1, 58, 1, 6, 13, 1, 1, 18, 80, 26, 1, 1, 2, 1, 161, 1, 9, 1, 32, 953, 5, 1, 52, 25, 41, 92, 32, 9, 5, 37, 150, 32, 29, 3, 1, 10, 1, 357, 6, 1, 953, 9, 1, 2, 1, 937, 1, 10, 45], [28, 1, 80, 1, 16, 488, 2, 865, 121, 126, 30, 155, 93, 6, 477, 6, 69, 10, 2, 1, 100, 52, 747, 841, 6, 19, 45], [126, 44, 100, 1, 1, 188, 100, 31, 133, 2, 1, 6, 175, 101, 31, 470, 18, 9, 16, 18, 93, 6, 1, 31, 16, 165], [1, 16, 29, 18, 26, 1, 1, 1, 28, 242, 15, 422, 13, 75], [6, 2, 181, 51, 1, 1, 5, 1, 4, 99, 28, 1, 97, 12, 45, 114, 9, 457, 1], [261, 357, 28, 62, 6, 171, 1, 357, 28, 79, 1, 9, 114, 23, 39, 2, 488, 45, 322, 333, 968, 13, 7, 1, 5, 1, 15, 1, 9, 457, 45], [350, 93, 6, 488, 45, 98, 360], [52, 1, 1, 37, 19, 2, 170, 258, 1, 1, 15, 2, 170, 244, 1], [2, 147, 1, 6, 505, 1, 598, 1, 16, 1, 1, 1, 92, 1, 124, 1, 598, 1, 1, 118, 5, 9, 16, 97, 31, 217, 101], [100, 20, 1, 9, 60, 19, 1, 23, 408, 41, 20, 186, 924, 92, 1, 1, 1, 6, 270], [43, 12, 2, 1, 1, 13, 217, 101, 74, 229, 152, 114, 97, 20, 426, 20, 60, 1, 114], [1, 28, 242, 15, 422, 1, 496, 28, 563, 165, 4, 95, 1, 129, 1, 1], [5, 261, 130, 639, 1, 4, 37, 19, 1, 3, 1, 13, 7, 93, 6, 269, 28, 43, 540, 4, 122, 99, 51, 163, 7, 294, 23, 4, 69, 99, 163, 37, 269, 28, 43], [5, 1, 5, 1, 4, 99, 28, 1, 3, 167, 15, 1, 1, 5, 507, 10, 13, 17, 304, 52, 1], [755, 4, 99, 408, 41, 28, 186, 1, 92, 1, 1, 1, 6, 28, 20, 428, 142, 75, 6, 220, 23, 28, 1, 6, 1, 93, 161, 1, 28, 186, 93, 6, 1], [1, 40, 54, 19, 3, 102, 250, 10, 2, 1, 5, 20, 40, 93, 6, 19, 1, 410, 266, 477, 6, 269, 270], [20, 95, 152, 6, 69, 2, 1, 1, 1, 5, 634, 23, 20, 563, 1, 114, 131], [1, 5, 1, 5, 755, 4, 99, 1, 1, 3, 167, 114, 5, 4, 78, 513, 142, 183, 165, 86, 23, 15, 2, 17, 51, 1, 1, 1, 5, 16, 10, 1, 4, 99, 1, 1, 114, 52, 1], [293, 317, 8, 11, 261, 82, 79, 19, 1, 23, 2, 1, 1, 1, 16, 97, 4, 291, 9, 5, 937, 426, 13], [30, 193, 62, 702], [81, 11, 12, 2, 172, 216], [4, 291, 2, 34, 190, 138, 12, 8, 1], [121, 37, 311, 13, 418, 639, 1, 8, 16, 187, 3, 36, 139, 224, 11], [8, 57, 16, 1, 23, 2, 11, 16, 427], [4, 113, 257, 1, 15, 8, 14, 14, 14, 14, 14, 14, 14, 14, 14, 115, 80, 20, 1, 26, 638], [1, 571, 117, 457, 3, 888, 1, 139, 224, 817, 38, 1, 1, 13, 28, 193, 1, 67, 130, 1, 1, 3, 1, 10, 123, 1, 13, 60, 25, 118, 5, 117, 1, 3, 88, 429, 1, 111, 30, 85, 133], [1, 1, 1, 120, 1, 45, 149, 1], [1, 1], [21, 10, 2, 146, 51, 95, 2, 214, 641, 1, 6, 4, 1, 1, 165, 346, 169, 28, 99], [30, 3, 57, 30, 3, 56], [225, 7, 1, 1, 25, 639, 17, 347, 1, 1, 1], [5, 1], [66, 264, 98, 221, 2, 615], [298, 30, 28, 152, 23, 8, 11, 16, 1], [326, 1, 1, 1, 28, 40, 1, 9, 43], [85, 140, 8, 16, 36], [427, 11], [305, 11], [139, 224, 2, 214, 240, 275, 9, 588], [427, 11], [8, 11, 113, 21, 131, 1, 5, 1, 642, 232, 9, 1, 38, 35, 423], [180, 1, 1], [4, 1, 8, 11, 1, 189], [4, 168, 8, 11], [2, 81, 250, 134, 2, 56, 16, 1, 1, 1], [1, 639, 1, 134, 3, 57, 1, 36, 4, 175, 101, 6, 8, 17, 14, 14, 3, 57, 1, 36, 581, 21, 108, 329], [4, 238, 5, 109, 25, 3, 817, 12, 8, 1, 23, 4, 513, 8, 57, 532, 45, 1, 5, 109, 532, 6, 8, 204], [2, 57, 91, 2, 11], [463, 56], [80, 69, 28, 99, 553, 17, 31, 403, 14, 2, 1, 7, 13, 31, 18, 2, 1, 10, 3, 1, 1, 154, 1, 17], [1, 14, 4, 1, 743, 1], [4, 113, 106, 1, 14, 14, 139, 224, 2, 214, 641, 8, 11, 1, 6, 1, 613, 10, 1, 55, 10, 1, 14, 14, 5, 14, 14, 191, 1, 1, 8, 11, 1, 6, 1, 613, 10, 1, 24, 2, 258, 203, 10, 1, 12, 1, 1, 10, 1], [8, 7, 25, 93, 6, 150, 2, 192, 28, 107, 14, 14, 1, 1], [17, 12, 2, 197, 138, 12, 43, 121], [100, 2, 57, 7, 88, 111, 2, 11], [544, 2, 345, 1, 11, 4, 83, 90, 34, 7, 2, 1, 12, 627], [8, 11, 7, 92, 4, 69, 25, 1, 1, 28, 152, 1, 12, 3, 1, 1], [4, 29, 1, 6, 620, 39, 193, 1, 1, 10, 2, 192, 12, 1, 4, 60, 4, 60, 161, 263, 26, 183, 29, 503, 1, 306, 164, 306, 1, 6, 1, 10], [1, 1, 1, 130, 104, 1, 104, 5, 1], [871, 1, 1], [871, 1, 1], [1, 581, 1, 1, 1, 391, 122, 1, 1, 7, 1, 1, 1, 99, 2, 1, 12, 1, 1, 1], [9, 1, 1, 1, 477, 192], [41, 1, 287], [4, 109, 107, 2, 73, 16, 1, 12, 3, 1, 2, 34, 11, 16, 134, 3, 847, 13, 16, 1, 388, 63, 1, 32, 1, 324, 1, 1, 10, 35, 1, 5, 85, 62, 13, 38, 1, 15, 102, 1, 118, 8, 1, 250, 1, 11, 16, 505, 1, 1, 6, 2, 34, 11, 18, 2, 34, 11, 229, 1, 1, 7, 1, 15, 8, 337, 41, 1, 166, 533, 1, 324, 16, 3, 767, 324, 140, 1, 2, 1, 1, 59, 324, 1, 1, 12, 910, 1, 533, 1, 1, 275, 1, 324, 66, 533, 1, 24], [270, 1, 21], [3, 1, 12, 30, 1, 6, 1, 1, 147, 1, 3, 1, 1], [1], [4, 1, 85, 119, 3, 1, 5, 1, 365, 57, 408, 8, 11, 16, 21, 312, 5, 95, 21, 131, 15, 26, 1, 4, 90, 9, 1, 376, 10, 2, 1, 272, 138, 40, 437, 447, 2, 244, 1, 58, 138, 18, 8], [871, 1, 1], [425, 1, 1], [1, 20, 1, 35, 1, 1, 38, 2, 165, 192, 256, 39, 85, 1, 1], [180, 39, 1, 72, 2, 1, 442, 1, 211, 6, 1], [1, 122, 119, 9, 2, 334, 7, 1, 86, 31], [180, 1, 201, 6, 311, 2, 411, 35, 25, 1], [66, 192], [1, 1], [871, 1, 1], [1, 185], [1], [1], [1, 1], [1, 1, 1, 1, 1, 1], [44, 7, 2, 11, 21, 512], [1], [1], [1], [2, 1, 84, 7, 3, 1, 1, 1, 15, 2, 36, 1, 1, 130, 2, 1, 12, 2, 34, 17, 66, 102, 236, 639, 1, 12, 1, 1, 568, 25, 89, 508, 122, 89, 114, 131, 12, 3, 1, 32, 315, 1, 84, 10, 8, 508, 98, 147, 173, 16, 2, 1, 1], [1, 1, 1, 1, 126, 2, 468, 202, 702, 346, 9, 16, 1], [1, 1, 1, 725, 1, 1], [189, 1, 1, 236, 1, 56, 32, 66, 1], [447, 11, 32, 66, 1, 204, 1, 98, 1, 29, 36, 143, 1, 603, 1], [9, 7, 102, 114], [1], [871, 1, 1], [8, 7, 17, 7, 17, 12, 1, 376, 563, 2, 57, 7, 88, 111, 2, 11], [81, 11, 83, 23, 4, 124, 53, 1, 1, 28, 72, 2, 255, 12, 2, 11], [1, 2, 192, 12, 2, 1, 62, 28, 83, 916, 12, 2, 11, 815, 94, 392, 11, 1, 169, 4, 99, 1, 5, 2, 143, 1, 1, 2, 214, 1, 1, 16, 3, 312, 465, 12, 3, 640, 32, 1, 5, 240, 23, 16, 333, 2, 2, 1, 1, 51, 120, 702, 1, 375, 94, 3, 1, 1, 1, 51, 1, 2, 991, 41, 3, 1, 5, 1, 2, 1, 20, 1, 9, 32, 1, 1, 5, 215, 6, 89, 1, 1, 12, 2, 1, 1, 12, 352, 1, 847, 1, 1, 2, 1, 1, 6, 89, 240, 1, 10, 2, 1, 10, 121], [1, 1], [2, 199], [1], [359, 11, 1, 1, 1, 1], [1, 1, 1, 1, 1, 1], [871, 1, 1], [1, 1, 1, 1, 1, 1], [8, 57, 241, 45, 1], [2, 197, 1, 83, 25, 316, 17, 120, 2, 121, 6, 1, 2, 244, 611, 3, 1, 414, 32, 1], [871, 1, 1], [184, 18, 1, 1], [4, 168, 80, 2, 1, 1, 1, 40, 1, 1, 41, 1, 111, 1, 5, 40, 63, 1, 1, 10, 1, 1, 1, 40, 2, 1, 1, 1, 155, 268, 41, 1, 82, 1, 375, 1], [79, 4, 62, 2, 183, 12, 2, 11], [871, 1, 1], [26, 1], [893, 25, 1, 3, 512, 121, 1, 817, 23, 100, 4, 1, 2, 429, 6, 2, 34, 56, 10, 318, 4, 16, 1, 1, 517, 2, 1, 563, 1, 5, 21, 16, 2, 236, 35, 475], [1, 24, 275, 1, 1], [871, 871, 1, 1], [205, 149, 87, 2, 901, 12, 1, 141, 720, 63, 1], [8, 7, 18, 1, 1, 98, 1, 98, 1, 1, 98, 1, 1, 1, 98, 1], [193, 19, 3, 36, 183, 15, 2, 1, 11], [8, 7, 102], [177, 11, 183, 1, 1], [1, 1, 411], [505, 58, 447, 111, 8], [42, 50, 77, 68, 84, 17], [871, 1, 1], [1, 5, 1, 24, 40, 888, 1, 2, 81, 138, 12, 43, 121], [20, 74, 1], [2, 11, 16, 36, 1, 52, 1, 1, 130, 2, 264, 371, 1, 67, 10, 586, 11, 200, 13, 104, 220, 213, 5, 401, 38, 266], [2, 1, 1, 5, 1, 1, 1, 1, 94, 2, 1, 1, 16, 306, 3, 1, 63, 1, 13, 4, 1, 53, 58, 111, 3, 803, 1, 12, 9, 447, 1, 1], [2, 11, 29, 217, 61, 114, 1, 6, 19, 291, 94, 1, 1, 428, 36, 23, 31, 229, 1, 13, 1, 37, 150, 1, 6, 1], [52, 361, 15, 2, 1, 141], [183, 12, 1], [293, 239, 2, 489], [8, 11, 16, 1, 4, 74, 291, 2, 1, 12, 2, 34, 17, 8, 16, 29, 1, 10, 2, 264, 1, 14, 14, 12, 1, 4, 16, 213, 106, 1, 10, 1, 5, 21, 95, 25, 211, 3, 429, 4, 29, 1, 2, 1, 1, 5, 1, 12, 2, 34, 11, 541, 1, 58], [80, 193, 2, 34, 17, 115, 88, 111, 2, 345, 17], [1, 1, 1], [104, 4, 74, 1, 25, 70, 8, 11, 10, 2, 1], [1, 11], [1, 12, 1, 1, 13, 1, 1, 19, 1], [2, 34, 121, 16, 209, 6, 1, 32, 23, 2, 192, 12, 1, 120, 863, 1, 38, 45, 2, 58, 376, 4, 72, 9, 9, 120, 3, 108, 1, 1, 3, 108, 1, 1, 5, 3, 108, 1, 1, 14, 14, 1, 1, 89, 9, 650, 6, 1, 32, 2, 236, 5, 1, 18, 31, 95, 10, 2, 34, 56, 23, 126, 363, 25, 3, 92, 250], [36, 11], [28, 99, 2, 56, 7, 74, 36, 100, 28, 175, 101, 6, 53, 2, 57, 5, 87, 28, 1], [251, 619, 12, 251], [109, 1, 45, 1], [871, 1, 1], [31, 29, 241, 10, 530, 31, 29, 241, 10, 530], [1, 1], [1, 1], [1, 1], [4, 168, 8, 57, 21, 131, 1], [1, 82, 3, 1, 3, 2, 1, 244, 1, 205, 1, 1], [8, 11, 1, 6, 19, 147, 134, 1, 4, 122, 161, 119, 2, 236], [4, 135, 1, 8, 3, 619, 1, 97, 2, 1, 1, 735, 45, 10, 1], [8, 7, 21, 1, 4, 501, 9], [4, 211, 1, 141, 86], [8, 7, 17, 1, 11, 66, 236, 559, 9], [80, 7, 8, 1, 186, 1, 2, 1], [51, 7, 70, 8, 753, 12, 57, 275, 1, 12, 1, 12, 1, 41, 20, 439, 1, 1, 1], [17, 12, 2, 81, 11, 4], [25, 253, 278, 916, 43, 1, 5, 1, 43, 533], [3, 1], [282, 20, 29, 241, 9, 10, 530, 282], [1, 11], [871, 1, 1], [1], [37, 117, 19, 1, 141], [1], [643], [1], [793, 1, 23, 2, 34, 11, 7, 88, 1], [30, 3, 57, 4, 122, 1, 968], [21, 447, 70, 1, 9, 1], [1, 251, 120, 232, 2, 319, 173, 111, 195, 11, 29, 10, 55, 351], [180, 1, 1, 63, 2, 1, 6, 1, 10, 1, 5, 16, 1, 94, 2, 1, 21, 31, 5, 123, 603, 208, 3, 1, 1, 6, 2, 1], [211, 1, 1], [2, 533, 236, 12, 2, 286, 104, 1, 1, 1, 15, 1, 5, 1, 32, 66, 1, 15, 2, 1], [20, 40, 422, 4, 516, 573, 98, 251, 138], [326, 19, 1], [871, 1], [871, 1, 1], [1], [130, 300, 2, 34, 1, 113, 1, 6, 9, 5, 3, 1, 440, 5, 461, 1, 24, 1, 18, 3, 1, 12, 1, 5, 1, 1, 1, 4, 207, 15, 2, 82, 51, 187, 458, 6, 72, 9, 39, 4, 428, 6, 72, 3, 1, 1, 98, 192, 12, 164, 159, 1, 38, 854, 1, 61, 26, 560, 1, 98, 855, 38, 2, 1], [1, 141, 577, 892, 1, 573, 577, 1], [2, 1, 7, 196], [4, 893, 1, 10, 53, 1, 1, 623], [7, 9, 45, 98, 7, 9, 13, 1, 55, 7, 88, 111, 8, 345, 84], [4, 122, 442, 186, 7, 13, 638, 262, 63, 10, 1, 55, 7, 25, 1, 195, 1, 554, 3, 1, 17, 159, 375, 117, 32, 129, 5, 117, 7, 66, 1, 1, 31, 1, 13, 1, 375, 123, 423, 15, 505, 80, 79, 31, 1], [1, 20, 133, 1, 38, 1, 85, 40, 25, 1, 312], [8, 11, 16, 399, 4, 193, 25, 119, 132, 9, 470, 18, 4, 16, 70, 3, 252, 27, 25, 3, 11, 554, 2, 487, 16, 18, 9, 16, 232, 38, 1, 305, 864, 1, 15, 45, 4, 176, 19, 70, 1, 141, 205, 1, 117], [368, 1, 18, 34, 84, 1, 1, 12, 2, 1, 43, 1, 138, 40, 1, 3, 1, 193, 89, 8, 138, 189, 39, 20, 1, 270, 10, 255], [306, 3, 1, 11, 684, 32, 34, 17, 240, 1, 84, 24, 1, 211, 1, 141], [87, 289, 2, 57, 573, 8, 56, 4, 1, 1, 8, 11], [3, 865, 351, 120, 1, 346, 4, 90, 8, 753, 4, 78, 73, 15, 1, 141, 1, 573, 5, 1, 251], [115, 258, 1, 262], [40, 612, 1, 1, 1, 1, 98, 40, 612, 1, 1, 32, 1, 4, 1, 18, 35, 1, 19, 17, 98, 2, 1, 165], [4, 140, 355, 1, 16, 3, 36, 148, 858, 4, 90, 8, 1, 24], [794, 1, 9, 16, 18, 106, 1, 766, 12, 2, 34, 17], [52, 25, 13, 258, 3, 817, 12, 2, 1, 216, 1, 10, 70, 8, 429, 553, 16, 1, 9, 1, 45, 12, 80, 189, 12, 3, 148, 355, 1, 74, 7], [1, 2, 192, 12, 1, 217, 61, 17, 351, 1, 8, 1, 1, 11, 7, 25, 843, 1, 5, 35, 29, 88, 5, 88], [1, 1], [2, 147, 1, 15, 45, 7, 931, 25, 239, 6, 19, 84, 12, 2, 11], [168, 63, 1, 5, 1, 1], [8, 11, 1, 7, 227, 1], [51, 83, 7, 422, 272, 138, 2, 58, 58, 58, 1, 1, 7, 1, 320, 186, 7, 1, 1, 1, 100, 705, 86, 6, 474, 173, 968, 5, 297, 20, 79, 69, 10, 1, 20, 69, 9, 6, 474, 173, 5, 184, 21, 1, 185, 130, 268, 79, 89, 3, 359, 1, 11, 86, 119, 101, 6, 1, 102, 199, 5, 3, 102, 975, 1, 3, 11, 25, 1], [623, 1, 7, 662, 1, 78, 1, 1, 1, 846, 1, 10, 2, 1, 21, 2, 146, 7, 25, 114, 230], [4, 168, 105, 1, 105, 1, 10, 142, 959, 87, 26, 1, 1], [1], [1, 101, 20, 162, 62, 891, 2, 610, 1, 975, 414], [4, 62, 26, 1, 32, 8, 11, 23, 35, 29, 1, 6, 53, 29, 1, 2, 469, 16, 3, 812, 88], [180, 100, 2, 1, 1, 1, 63, 2, 1, 1, 2, 1, 26, 1, 1, 1, 15, 3, 1, 306, 3, 36, 11], [30, 4, 122, 442, 7, 13, 100, 1, 588, 10, 2, 34, 11, 20, 1, 315, 10, 2, 1, 32, 315, 1, 5, 20, 1, 8, 6, 1, 95, 20, 1, 315, 61, 12, 2, 1, 5, 877, 163, 16, 1], [2, 1, 7, 29, 1, 21, 126, 30, 102, 820, 7], [2, 424, 4, 60, 69, 6, 53, 8, 11, 71, 1, 779, 32, 3, 1, 61, 1, 38, 3, 533, 1, 1, 17, 12, 2, 1, 11, 1, 12, 26, 164], [2, 1, 7, 108, 92, 35, 1, 92], [278, 13, 1, 62, 291, 8, 11, 1, 19, 3, 92, 1, 5, 120, 3, 1, 1, 98, 7, 1, 1, 126, 3, 92, 1, 13, 120, 1, 1, 1, 5, 35, 1, 235, 198, 114, 35, 18, 1, 2, 214, 1, 16, 36, 1, 378, 29, 203, 82, 80, 6, 1, 1, 1, 10, 3, 1, 1, 1, 40, 15, 1], [1, 8, 57, 7, 55, 351, 143], [205, 702, 3, 351, 1, 1, 1, 24], [205, 702, 17, 351, 121, 7, 436, 205, 702, 17, 351, 121, 7, 436], [3, 46, 47, 48, 1, 1, 3, 3, 46, 47, 48, 1, 1, 3, 3, 46, 47, 48, 1, 1, 3, 3, 46, 47, 48, 1, 1, 3], [66, 1, 80, 3, 1, 21, 1, 5, 1, 79, 1, 106, 1, 1, 1, 18, 1, 2, 1, 184, 114, 131, 18, 1, 52, 1, 1, 1, 229, 203, 67, 5, 1, 2, 865, 235, 1, 429, 1, 397, 5, 1, 61, 2, 543, 1, 1, 445, 10, 752, 1, 9, 1, 61, 13, 155, 1, 563, 66, 1, 15, 352, 1, 4, 124, 1, 44, 9, 16, 20, 140, 13, 1, 60, 29, 1, 155, 1, 5, 1, 1, 1, 39, 20, 74, 428, 13, 1, 98, 655, 9, 16, 722, 1, 1, 1, 3, 1, 1, 1, 170, 121, 100, 2, 1, 1, 1, 833, 6, 1, 1, 189, 1, 1, 9, 5, 241, 9, 1, 1, 1, 3, 1, 1, 1, 1, 61, 2, 1, 1, 6, 247, 3, 359, 1, 1, 29, 1, 18, 3, 812, 12, 3, 975, 1, 6, 45], [1, 24, 16, 312, 1, 158, 6, 2, 610, 1], [202, 412, 230, 114, 137, 1, 814, 13, 62, 1, 1, 45, 63, 1, 26, 121, 38, 8, 264, 335, 1, 1, 114, 512, 1, 1, 34, 17, 16, 740, 1, 25, 1, 8, 17, 7, 3, 501, 15, 45], [29, 90, 9, 5, 4, 122, 99, 44, 4, 799, 21, 512, 15, 337, 13, 256, 4, 16, 1, 15, 159, 958, 10, 138, 71, 23, 4, 217, 101, 6, 53, 2, 57, 1, 1, 24, 7, 1, 421, 5, 3, 1, 53, 556, 45, 28, 37, 25, 19, 958, 258, 1, 61, 6, 43, 2, 1, 4, 1, 73, 15, 1, 141], [871, 1, 1], [753], [4, 1, 2, 11, 86, 15, 2, 34, 121, 5, 9, 16, 108, 680], [8, 1, 45, 501, 577, 12, 1, 180], [8, 56, 16, 757, 17, 12, 2, 81, 83, 9, 16, 447, 1, 41, 9, 16, 1, 5, 74, 1, 45, 665, 15, 82, 161, 1, 15, 117, 1, 5, 1, 23, 665, 15, 1, 161, 58, 15, 35, 1, 753, 1, 1], [871, 1, 1], [189, 11, 1, 40, 189, 23, 1, 79, 19, 306, 1, 41, 1], [871, 1, 1], [86, 85, 62, 6, 73, 858, 331, 892, 6, 72, 2, 365, 57, 15, 1, 141, 5, 2, 557, 57, 10, 918, 892, 5, 94, 577, 6, 72, 2, 11, 5, 146, 110, 361, 1], [1, 1, 870, 1, 57, 1, 873, 1, 1, 1, 870, 1, 295, 1, 251], [1, 16, 2, 197, 784, 12, 1, 11, 4, 113, 6, 1, 70, 10, 2, 214, 1, 12, 125, 30, 3, 819, 1, 18, 1, 1, 114, 120, 1, 6, 1, 2, 214, 1, 61, 12, 123, 302, 1, 66, 975, 66, 236, 1, 12, 566, 1, 1, 977, 12, 1, 293, 425], [40, 28, 355, 1, 620, 12, 886], [30, 3, 1, 828, 11, 32, 348, 1], [1], [66, 58, 1], [80, 312, 60, 9, 19, 39, 85, 41, 1, 193, 207, 2, 1, 12, 316, 1, 1, 1, 38, 352, 312, 244, 4, 437, 107, 9, 60, 19, 21, 1, 1, 85, 379, 1, 1, 352, 1, 1, 85, 1, 352, 1, 18, 3, 348, 1, 82, 35, 2, 147, 1, 85, 62, 39, 85, 122, 486, 1, 88, 665, 12, 9, 85, 40, 93, 6, 150, 1, 256, 25, 2, 197, 1, 43, 424, 1], [3, 533, 753], [9, 1, 1, 195, 1, 1], [1], [8, 16, 3, 1, 284, 11, 15, 82, 51, 1, 1, 284, 138, 9, 16, 3, 1, 1, 63, 432, 726, 6, 1, 1, 5, 161, 309, 6, 2, 1, 2, 319, 1, 1, 1, 83, 232, 5, 256, 126, 84, 12, 1, 85, 298, 2, 704, 23, 13, 60, 1, 13, 2, 11, 7, 1, 553, 35, 25, 25, 94, 3, 1, 1, 16, 458, 6, 1, 2, 1, 241, 10, 1, 1, 78, 516, 8, 16, 1, 299, 5, 2, 435, 1, 161, 1, 21, 161, 411, 12, 829, 18, 1, 37, 350, 1, 9], [2, 148, 16, 3, 33, 15, 1, 85, 428, 3, 1, 12, 76], [1, 94, 116], [1], [100, 2, 1, 40, 88, 111, 2, 11], [33, 7, 88, 118, 1], [4, 229, 161, 99, 9, 16, 213, 61, 5, 289, 2, 57, 4, 62, 3, 92, 1, 134, 9, 96, 97, 12, 105, 116, 107, 4, 37, 611, 9, 3, 477, 41, 2, 34, 17, 16, 189], [8, 7, 17, 12, 2, 392, 1, 12, 348, 4, 62, 161, 321, 2, 571, 13, 7, 9, 3, 76, 1, 8, 425, 1, 376, 197], [73, 1], [85, 162, 43, 1, 1, 15, 1], [69, 28, 109, 107, 1, 139], [1, 1], [39, 28, 43, 107, 8, 7, 80, 9, 551, 1, 43, 1], [119, 1, 150, 415], [1, 428, 129, 1, 1, 15, 325, 459, 5, 1, 1, 15, 33, 14, 366, 31, 588, 1], [829, 1, 1, 10, 2, 1, 1], [723, 3, 1], [116, 2, 1, 1, 7, 2, 1, 8, 11, 16, 425], [368, 531, 142, 121, 4, 115, 3, 316, 56, 12, 2, 33, 5, 8, 7, 2, 197, 1], [8, 7, 2, 197, 11, 4, 62, 83, 90, 4, 135, 3, 258, 817, 12, 33, 23, 8, 11, 16, 958], [368, 99, 105, 116, 16, 10, 138, 1, 163, 16, 2, 1], [33, 1, 1, 1, 5, 1, 14, 14, 14, 14, 14, 14, 14, 14, 14, 33, 825, 1, 293, 1, 20, 1, 9, 132, 3, 76, 30, 7, 8, 257, 472, 76, 1, 385, 385, 385, 30, 3, 704], [620, 8, 11, 238, 3, 11, 9, 16, 106, 1, 76, 32, 1, 12, 1, 1, 363, 25, 1, 26, 1, 15, 1, 1, 4, 152, 26, 173, 101, 63, 2, 11, 1, 4, 62, 124, 321, 3, 17, 12, 2, 803, 51, 187, 291, 2, 11, 9, 7, 1, 6, 72, 13, 66, 17, 428, 6, 72, 325, 1, 236, 5, 278, 1, 1, 134, 33, 325, 446, 94, 123, 1, 439, 1, 5, 1, 12, 2, 11], [184, 566], [35, 3, 1, 819, 12, 121, 20, 234, 2, 33, 481, 553, 395, 120, 1], [4, 207, 92, 15, 1, 51, 458, 6, 53, 8, 11], [295, 296, 15, 1, 37, 298, 6, 316, 1, 11, 39, 8, 7, 2, 463, 20, 1, 270, 32], [43, 2, 258, 1, 40, 1, 1, 1, 1, 1, 1, 1, 5, 215, 66, 174, 181, 40, 93, 475, 2, 1, 12, 143, 329, 41, 1, 1, 125, 1, 120, 747], [25, 1, 1, 174, 44, 620, 1, 80, 131, 16, 8, 1, 1], [1, 682, 120, 2, 199, 244, 747, 748, 1, 1, 3, 933, 664, 7, 43, 9, 7, 1, 8, 7, 25, 10, 2, 1, 186, 16, 2, 527, 10, 1], [135, 4, 2, 147, 17, 51, 291, 8, 11, 4, 1, 35, 25, 92, 41, 2, 1, 1, 298], [33, 24, 7, 3, 250], [2, 1, 20, 188, 2, 33, 24, 16, 54, 19, 3, 76, 4, 16, 25, 584, 5, 4, 426, 9, 16, 54, 19, 92, 5, 4, 16, 165, 718, 4, 78, 516, 20, 1, 67, 2, 33, 11, 8, 192, 30, 1], [28, 193, 19, 185, 28, 152, 1, 159, 2, 102, 33, 2, 102, 336, 40, 2, 981, 51, 458, 6, 53, 8, 76], [8, 11, 16, 29, 3, 24, 420, 1, 1], [25, 36], [105, 116, 1, 3, 1, 10, 3, 56, 1, 1], [1, 1, 1], [8, 184, 21, 425], [30, 2, 183, 12, 11, 7, 2, 1, 12, 33, 38, 9], [100, 142, 1, 14, 8, 11, 1, 13, 63, 45], [39, 147, 4, 193, 166, 101, 26, 1, 121, 13, 1, 275, 2, 460, 1, 193, 62, 702, 1, 1, 88], [39, 2, 11, 1, 18, 2, 57, 2, 11, 60, 19, 131, 1], [293, 1, 2, 319, 620, 662, 305, 11, 4, 62, 83, 321, 185, 51, 437, 291, 8, 1, 7, 350, 3, 230, 1, 1, 1], [223], [180, 4, 90, 8, 38, 268, 1, 5, 671, 61, 12, 26, 471, 998], [11, 7, 1, 6, 2, 1, 1, 1, 85, 207, 2, 435, 1, 1, 399, 118, 1, 156, 2, 764, 1, 18, 2, 302, 1], [26, 1, 342, 1, 395, 396], [13, 16, 3, 512, 1, 235], [4, 1, 829, 5, 886], [425, 5, 116, 7, 375], [8, 7, 2, 1, 12, 137, 137, 82], [299, 100, 2, 1], [1], [1], [8, 11, 16, 425], [368, 516, 4, 458, 6, 53, 9], [30, 106, 662, 11], [8, 184, 74, 92, 44, 60, 185, 53, 8, 9, 228, 18, 9, 1, 1, 23, 1, 130, 2, 264, 121], [20, 232, 3, 704, 61, 12, 2, 33, 24, 32, 43, 2, 861], [52, 10, 2, 1, 1, 6, 119, 26, 173, 101, 94, 1, 130, 2, 1], [161, 33, 1, 1, 70, 8, 1], [1, 80, 9, 212, 157, 1, 859, 332, 1, 1, 97, 4, 229, 72, 10, 1, 814, 563, 29, 114, 92, 1, 69, 25, 1, 6, 1, 814, 1, 1, 161, 39, 1, 94, 3, 1, 351, 1, 1, 35, 1, 2, 861, 20, 89, 61, 6, 19, 1, 7, 544, 1, 332, 1, 205, 1, 41, 3, 1, 975, 1, 1, 1, 424, 31, 1, 4, 162, 62, 15, 253, 1, 8, 10, 2, 1, 9, 205, 1, 41, 3, 1, 975, 1, 1, 1, 424, 31, 1, 4, 162, 62, 15, 253, 1, 8, 10, 2, 1, 205, 189, 21, 230, 1], [8, 7, 30, 844, 100, 1, 1, 94, 1, 1, 82, 10, 2, 1, 1, 15, 114, 1], [20, 1, 33, 197, 11, 10, 125, 4], [7, 13, 105, 116], [233, 490, 422, 2, 1, 130, 1, 1, 23, 4, 69, 99, 13, 4, 60, 89, 88, 981, 111, 2, 444, 10, 1, 117, 86], [251, 125, 12, 159, 1, 38, 228, 18, 24, 125], [1, 1, 8, 14, 30, 3, 348], [197, 11, 83, 232], [8, 184, 134, 41, 1, 41, 3, 1, 1, 1, 252], [39, 82, 40, 147, 1, 97, 35, 3, 76, 118, 1, 82, 40, 1, 1, 32, 106, 1, 675, 32, 1, 1, 18, 28, 1, 505, 79, 98, 162, 19, 1, 21, 9, 1, 171, 142, 1, 508, 12, 1, 14, 4, 402, 321, 9, 294, 1, 23, 4, 1, 28, 43, 1, 9, 15, 1, 198, 710, 52, 134, 6, 53, 9, 165, 86, 21, 772, 19, 101, 6, 1, 1, 98, 1, 1, 28, 43, 1, 1, 14, 14, 1], [66, 174, 35, 3, 307, 272, 1, 368, 122, 1, 155, 1, 76, 1, 441, 1, 106, 323, 1, 1], [8, 11, 248], [4, 122, 99, 134, 43, 12, 28, 23, 4, 452, 8, 33, 11, 2, 1, 861, 16, 422, 45, 21, 732, 9, 1, 18, 70, 3, 1, 76, 2, 914, 33, 11, 16, 1, 8], [680, 1, 1, 2, 76, 1, 12, 8, 56, 95, 20, 69, 861, 10, 2, 1, 30, 3, 1, 1, 1, 1, 71, 261, 1, 1, 1, 60, 1, 3, 1, 1, 41, 106, 1, 1, 1, 1, 6, 2, 1, 1, 1, 1, 1, 8, 1, 1, 1], [2, 11, 16, 1, 5, 9, 37, 19, 1, 10, 2, 1, 125], [7, 8, 3, 76, 98, 3, 11], [34, 12, 43, 288, 5, 33, 563, 439, 480, 1, 2, 102, 82, 1, 2, 1, 377, 33, 994, 2, 1, 1, 1, 33, 13, 120, 29, 702, 1, 1, 77, 63, 1, 1, 288, 96, 1, 41, 1, 1, 98, 1, 1, 1, 1, 1, 305, 588, 10, 2, 1, 1, 12, 1, 1, 1, 1, 10, 1, 15, 1, 1, 2, 33, 12, 2, 1, 16, 1, 1, 1, 832, 23, 208, 6, 3, 1, 1, 12, 1, 100, 31, 1, 2, 187, 1, 1, 140, 6, 19, 10, 1, 23, 553, 7, 1, 10, 1, 12, 1, 1, 1, 7, 3, 1, 1, 10, 1, 1, 1, 5, 2, 1, 1, 140, 12, 41, 84, 12, 172, 1, 1, 1, 1, 5, 1, 1, 1, 97, 2, 1, 40, 1, 97, 12, 1, 1, 1, 12, 1, 1, 1, 158, 512, 1, 1, 5, 1, 7, 86, 3, 1, 1, 1, 15, 147, 2, 112, 1, 5, 1, 1, 158, 23, 1, 17, 12, 2, 102, 1, 1, 41, 126, 80, 137, 117, 74, 40, 1, 7, 3, 1, 1, 1, 1, 588, 10, 1, 125, 1, 931, 638, 41, 106, 1, 467, 16, 1, 15, 1, 1, 10, 1, 1, 10, 2, 1, 1, 94, 106, 1, 1, 12, 2, 1, 1, 1, 16, 1, 5, 1, 41, 3, 1, 15, 1, 1, 1, 96, 15, 1, 10, 2, 1, 1, 1, 1, 601, 15, 1, 31, 1, 417, 159, 1, 1, 1, 10, 538, 1, 1, 628, 1, 1, 1, 1, 1, 1, 1, 1, 1, 1, 1, 1, 63, 1, 375, 5, 61], [404, 11], [1, 1], [8, 11, 16, 1, 192, 114, 131, 861, 58, 18, 3, 76], [290, 95, 4, 29, 53, 3, 1, 76], [1, 1, 1, 1, 1, 246, 1, 1], [44, 21, 1], [4, 29, 152, 1, 1, 1, 126, 43, 4, 665, 134, 10, 8, 1], [186, 7, 288], [35, 25, 3, 92, 11, 12, 28, 1, 2, 861, 1], [422, 2, 720, 3, 1, 13, 147, 17, 1, 120, 41, 35, 392, 1, 7, 3, 475, 1], [30, 3, 348, 12, 3, 11, 223, 52, 231, 4, 95, 25, 1, 6, 72, 8, 17], [4, 1, 8, 5, 109, 671, 61, 87, 273, 1], [4, 90, 2, 11, 1, 15, 2, 34, 121, 5, 4, 78, 516, 13, 210, 79, 1, 76, 534, 6, 306, 3, 1, 216, 4, 122, 99, 80, 2, 148, 79, 1, 306, 682, 258, 1, 684, 6, 2, 34, 84], [4, 90, 2, 11, 1, 15, 2, 34, 121, 5, 4, 78, 516, 13, 210, 79, 1, 76, 534, 6, 306, 3, 1, 216, 4, 122, 99, 80, 2, 148, 79, 1, 306, 682, 258, 1, 684, 6, 2, 34, 84], [2, 56, 7, 18, 1, 1, 1, 387, 23, 1, 2, 1, 6, 150, 1, 32, 9, 30, 186, 20, 1], [290, 20, 232, 3, 76, 209, 621, 15, 45], [123, 393, 7, 41, 862, 41, 1, 1], [4, 916, 2, 814, 563, 1], [44, 9, 120, 6, 19, 3, 76, 92, 92, 1], [290, 16, 8, 1, 29, 90, 9, 35, 348, 2, 865, 11, 1, 16, 18, 9, 78, 19, 9, 360, 7, 93, 6, 1], [28, 1, 611, 1, 6, 2, 1, 1, 20, 232, 8, 115, 18, 3, 753, 100, 85, 99, 35, 340, 2, 1], [9, 238, 30, 4, 16, 1, 5, 2, 11, 1, 132, 3, 381], [223, 2, 34, 17, 16, 421, 8, 184, 1, 41, 169], [1, 12, 2, 11, 7, 861, 819, 12, 173, 116, 74, 30, 3, 1, 11], [35, 2, 1, 24, 12, 2, 33, 259, 331, 1, 2, 1, 37, 119, 88], [1, 1, 1, 257, 33, 24, 1], [4, 426, 8, 60, 19, 1, 305, 5, 234, 2, 33, 259, 275, 9, 161, 1, 1], [197, 11, 12, 43, 121, 1, 297], [61, 12, 1, 135, 109, 25, 253, 39, 395, 396, 1, 1, 33, 60, 734, 62, 980, 8, 192, 4, 1, 396, 16, 319, 363, 2, 1], [4, 16, 74, 1, 292, 6, 8, 11, 9, 16, 3, 258, 1], [124, 321, 3, 237, 98, 148, 171, 3, 75, 18, 8, 223], [33, 1, 76], [100, 568, 2, 1, 1, 32, 2, 88, 1, 175, 61], [1, 141, 1], [8, 11, 16, 305, 282, 1, 20, 1, 21, 131], [1, 67], [8, 11, 7, 108, 36], [7, 9, 3, 36, 11], [4, 1, 122, 442, 2, 1], [620, 30, 1, 6, 1, 2, 682, 20, 175, 67, 1], [86, 1, 5, 116, 1, 1, 1, 23, 4, 1, 8, 11, 95, 25, 74, 1, 38, 1, 131, 43, 1, 14, 108, 1, 23, 1, 8, 7, 161, 1, 1, 6, 30, 82, 60, 62, 428], [43, 510, 1, 217, 1, 10, 8, 11], [133, 639, 36, 1, 15, 185, 13, 331, 175, 1, 8, 14, 1, 141, 1, 1, 15, 620, 21, 317, 2, 244, 13, 31, 1, 123, 17, 5, 147, 1, 13, 1, 1, 10, 129, 1, 25, 1, 23, 62, 1, 164, 1, 7, 991, 1, 85, 1, 10, 2, 214, 876], [16, 54, 150, 53, 23, 118, 916, 35, 3, 76, 718], [16, 74, 1, 292, 6, 8, 11, 317, 2, 34, 56, 5, 16, 21, 1, 23, 2, 170, 121, 4, 72, 105, 116, 10, 968, 52, 1, 621, 16, 18, 70, 1, 950, 236]]\n",
      "\n",
      "Padded testing sequences:\n",
      " [[  1   1   1 ...   0   0   0]\n",
      " [ 25   1  67 ...   0   0   0]\n",
      " [ 35 613  13 ...   0   0   0]\n",
      " ...\n",
      " [133 639  36 ...   0   0   0]\n",
      " [ 16  54 150 ...   0   0   0]\n",
      " [ 16  74   1 ...   0   0   0]]\n",
      "\n",
      "Padded testing shape: (472, 179)\n"
     ]
    }
   ],
   "source": [
    "#Gebe die Testseqzenz-, Padded und die Form aus\n",
    "print(\"Testing sequences:\\n\", test_sequences)\n",
    "print(\"\\nPadded testing sequences:\\n\", test_padded)\n",
    "print(\"\\nPadded testing shape:\",test_padded.shape)"
   ]
  },
  {
   "cell_type": "code",
   "execution_count": 11,
   "id": "1e264ef8",
   "metadata": {},
   "outputs": [],
   "source": [
    "#Importiere notwendige Bibliotheken aus Keras für das Neuronale Netz\n",
    "import numpy as np\n",
    "import tensorflow.keras as keras\n",
    "from tensorflow.keras.utils import to_categorical\n",
    "from tensorflow.keras import models\n",
    "from tensorflow.keras import layers\n",
    "from tensorflow.keras import models"
   ]
  },
  {
   "cell_type": "code",
   "execution_count": 12,
   "id": "4e3075d8",
   "metadata": {},
   "outputs": [
    {
     "name": "stderr",
     "output_type": "stream",
     "text": [
      "2025-01-31 22:32:49.770129: I tensorflow/core/common_runtime/process_util.cc:146] Creating new thread pool with default inter op setting: 2. Tune using inter_op_parallelism_threads for best performance.\n"
     ]
    }
   ],
   "source": [
    "#Erstelle ein Sequentielles Modell\n",
    "model = models.Sequential()"
   ]
  },
  {
   "cell_type": "code",
   "execution_count": 13,
   "id": "118d6759",
   "metadata": {},
   "outputs": [
    {
     "name": "stdout",
     "output_type": "stream",
     "text": [
      "Model: \"sequential\"\n",
      "_________________________________________________________________\n",
      "Layer (type)                 Output Shape              Param #   \n",
      "=================================================================\n",
      "dense (Dense)                (None, 2, 69)             101361    \n",
      "_________________________________________________________________\n",
      "dropout (Dropout)            (None, 2, 69)             0         \n",
      "_________________________________________________________________\n",
      "dense_1 (Dense)              (None, 2, 23)             1610      \n",
      "_________________________________________________________________\n",
      "dropout_1 (Dropout)          (None, 2, 23)             0         \n",
      "_________________________________________________________________\n",
      "dense_2 (Dense)              (None, 2, 23)             552       \n",
      "_________________________________________________________________\n",
      "dropout_2 (Dropout)          (None, 2, 23)             0         \n",
      "_________________________________________________________________\n",
      "dense_3 (Dense)              (None, 2, 23)             552       \n",
      "_________________________________________________________________\n",
      "dense_4 (Dense)              (None, 2, 1)              24        \n",
      "=================================================================\n",
      "Total params: 104,099\n",
      "Trainable params: 104,099\n",
      "Non-trainable params: 0\n",
      "_________________________________________________________________\n"
     ]
    }
   ],
   "source": [
    "#Füge Layer zu dem Modell hinzu\n",
    "#Füge den Input Layer mit der Aktivierungsfunktion relu hinzu und füge den Netzwerk-Layer mit 64 hinzu\n",
    "#Er gibt den Input des Layers an die Neuronen weiter\n",
    "#Die relu-Funktion: ist eine gleichgerichtete Lineareinheit, wenn der negativ ist, wird dieser zu einer 0\n",
    "#Dieser Schwellenwert lässt sich einsetellen, positive Werte werden nicht geändert\n",
    "model.add(layers.Dense(69, activation = \"relu\", input_shape=(2, int(max_comment_char_count)))) ##jetzt in der selben shape, je nach längstem Kommentar\n",
    "#Erstelle die Hidden Layer\n",
    "#Dropout setzt zufällig Eingabeeinheiten auf 0, um ein Overfitting zu verhindern\n",
    "#Bei der Aktivierungsfunktion linear ist die Aktivierung proportional zum entsprechenden Input\n",
    "model.add(layers.Dropout(0.3, noise_shape=None, seed=None))\n",
    "model.add(layers.Dense(23, activation = \"linear\"))\n",
    "model.add(layers.Dropout(0.3, noise_shape=None, seed=None))\n",
    "model.add(layers.Dense(23, activation = \"linear\"))\n",
    "model.add(layers.Dropout(0.3, noise_shape=None, seed=None))\n",
    "model.add(layers.Dense(23, activation = \"relu\"))\n",
    "#Ausgabelayer\n",
    "model.add(layers.Dense(1, activation = \"linear\"))\n",
    "#Gebe mir den Aufbau des Modells aus\n",
    "model.summary()"
   ]
  },
  {
   "cell_type": "code",
   "execution_count": 14,
   "id": "544ebedf",
   "metadata": {},
   "outputs": [],
   "source": [
    "#Erstelle das Model und setze Flags für den optimizer (adam für spärliche features in einem Modell, als\n",
    "#vorhersage, loss-Funktion: hier berechnet es die Kreuzentropie\n",
    "#zwischen vorhergesagten Klassen und den richtigen Klassen und die Metrik zum messen der Genauigkeit\n",
    "model.compile(\n",
    "optimizer = \"ftrl\",\n",
    "loss = \"binary_crossentropy\",\n",
    "metrics = [\"accuracy\"]\n",
    ")"
   ]
  },
  {
   "cell_type": "code",
   "execution_count": 15,
   "id": "16a53502",
   "metadata": {},
   "outputs": [
    {
     "name": "stdout",
     "output_type": "stream",
     "text": [
      "Traindata shape..\n",
      "472\n",
      "472\n",
      "Testdata shape..\n",
      "472\n",
      "472\n"
     ]
    }
   ],
   "source": [
    "#Ausgeben der Form der Trainind- und Testdaten und Labels\n",
    "print(\"Traindata shape..\")\n",
    "print(len(train_x))\n",
    "print(len(train_y))\n",
    "\n",
    "print(\"Testdata shape..\")\n",
    "print(len(test_x))\n",
    "print(len(test_y))"
   ]
  },
  {
   "cell_type": "code",
   "execution_count": 16,
   "id": "308d7f6d",
   "metadata": {},
   "outputs": [
    {
     "name": "stdout",
     "output_type": "stream",
     "text": [
      "Epoch 1/10\n",
      "WARNING:tensorflow:Model was constructed with shape (None, 2, 1468) for input KerasTensor(type_spec=TensorSpec(shape=(None, 2, 1468), dtype=tf.float32, name='dense_input'), name='dense_input', description=\"created by layer 'dense_input'\"), but it was called on an input with incompatible shape (None, 1468).\n",
      "WARNING:tensorflow:Model was constructed with shape (None, 2, 1468) for input KerasTensor(type_spec=TensorSpec(shape=(None, 2, 1468), dtype=tf.float32, name='dense_input'), name='dense_input', description=\"created by layer 'dense_input'\"), but it was called on an input with incompatible shape (None, 1468).\n"
     ]
    },
    {
     "name": "stderr",
     "output_type": "stream",
     "text": [
      "2025-01-31 22:32:49.843448: I tensorflow/compiler/mlir/mlir_graph_optimization_pass.cc:176] None of the MLIR Optimization Passes are enabled (registered 2)\n",
      "2025-01-31 22:32:49.843714: I tensorflow/core/platform/profile_utils/cpu_utils.cc:114] CPU Frequency: 24000000 Hz\n"
     ]
    },
    {
     "name": "stdout",
     "output_type": "stream",
     "text": [
      "1/5 [=====>........................] - ETA: 0s - loss: 177.9051 - accuracy: 0.9176WARNING:tensorflow:Model was constructed with shape (None, 2, 1468) for input KerasTensor(type_spec=TensorSpec(shape=(None, 2, 1468), dtype=tf.float32, name='dense_input'), name='dense_input', description=\"created by layer 'dense_input'\"), but it was called on an input with incompatible shape (None, 1468).\n",
      "5/5 [==============================] - 0s 18ms/step - loss: 71.1448 - accuracy: 0.8277 - val_loss: 9.6684 - val_accuracy: 0.6366\n",
      "Epoch 2/10\n",
      "5/5 [==============================] - 0s 4ms/step - loss: 86.2173 - accuracy: 0.9181 - val_loss: 5.1298 - val_accuracy: 0.6398\n",
      "Epoch 3/10\n",
      "5/5 [==============================] - 0s 4ms/step - loss: 36.2707 - accuracy: 0.5932 - val_loss: -42.3510 - val_accuracy: 0.2671\n",
      "Epoch 4/10\n",
      "5/5 [==============================] - 0s 4ms/step - loss: -29.5734 - accuracy: 0.4630 - val_loss: 43.8195 - val_accuracy: 0.9330\n",
      "Epoch 5/10\n",
      "5/5 [==============================] - 0s 4ms/step - loss: -12.4044 - accuracy: 0.3343 - val_loss: 16.0442 - val_accuracy: 0.8369\n",
      "Epoch 6/10\n",
      "5/5 [==============================] - 0s 4ms/step - loss: 44.4943 - accuracy: 0.8725 - val_loss: 37.1228 - val_accuracy: 0.9517\n",
      "Epoch 7/10\n",
      "5/5 [==============================] - 0s 4ms/step - loss: 61.9907 - accuracy: 0.8913 - val_loss: 58.0460 - val_accuracy: 0.9517\n",
      "Epoch 8/10\n",
      "5/5 [==============================] - 0s 4ms/step - loss: 16.7675 - accuracy: 0.6163 - val_loss: 29.6924 - val_accuracy: 0.9517\n",
      "Epoch 9/10\n",
      "5/5 [==============================] - 0s 4ms/step - loss: 10.5375 - accuracy: 0.5948 - val_loss: 38.7011 - val_accuracy: 0.9517\n",
      "Epoch 10/10\n",
      "5/5 [==============================] - 0s 4ms/step - loss: 72.6383 - accuracy: 0.8706 - val_loss: 59.9876 - val_accuracy: 0.9323\n"
     ]
    }
   ],
   "source": [
    "#Trainiere das Modell in den vorgegebenen Epochen, mit der entsprechend großen Batch Größe und den hier gegebenen\n",
    "#Validation Split. Gebe die Trainingsdaten/Labels, sowie die Testdaten/Labels.\n",
    "#Shuffle wird den gesamten Datensatz durcheinanderwürfeln, bevor die Batches erstellt werden\n",
    "results = model.fit(\n",
    "train_x, train_y,\n",
    "epochs= 10,\n",
    "batch_size = 100,\n",
    "validation_split=0.1, \n",
    "shuffle=True,\n",
    "validation_data = (test_x, test_y)\n",
    ")"
   ]
  },
  {
   "cell_type": "code",
   "execution_count": 17,
   "id": "9a4ba844",
   "metadata": {},
   "outputs": [
    {
     "name": "stdout",
     "output_type": "stream",
     "text": [
      "15/15 [==============================] - 0s 428us/step - loss: 30.3247 - accuracy: 0.6991\n",
      "Accuracy: 69.91%\n"
     ]
    }
   ],
   "source": [
    "#Berechnen der Genauigkeit mit zwei Nachkommastellen\n",
    "#Die Verbose-Einstellung zeigt den Trainingsprozess\n",
    "scores = model.evaluate(test_x, test_y, verbose=1)\n",
    "print(\"Accuracy: %.2f%%\" % (scores[1]*100))"
   ]
  },
  {
   "cell_type": "code",
   "execution_count": 18,
   "id": "b4d7dcb5",
   "metadata": {},
   "outputs": [],
   "source": [
    "#Das Modell wird mit seinen Einstellungen gespeichert\n",
    "model.save('keras_r01.keras')\n"
   ]
  },
  {
   "cell_type": "code",
   "execution_count": 19,
   "id": "3a82629a",
   "metadata": {},
   "outputs": [],
   "source": [
    "#Das Modell wird wieder geladen\n",
    "reconstructed_model = models.load_model('keras_r01.keras')\n"
   ]
  },
  {
   "cell_type": "code",
   "execution_count": 20,
   "id": "03ef2153",
   "metadata": {},
   "outputs": [
    {
     "name": "stdout",
     "output_type": "stream",
     "text": [
      "WARNING:tensorflow:Model was constructed with shape (None, 2, 1468) for input KerasTensor(type_spec=TensorSpec(shape=(None, 2, 1468), dtype=tf.float32, name='dense_input'), name='dense_input', description=\"created by layer 'dense_input'\"), but it was called on an input with incompatible shape (None, 1468).\n",
      "[[0.00995107]]\n",
      "Positive Sentence\n"
     ]
    }
   ],
   "source": [
    "#Testen des geladenen Modells mit einzelnen Kommentaren\n",
    "#Definiere den zu testenden Kommentar\n",
    "Comment = ['good']\n",
    "\n",
    "#Tokenize den Kommentar und sequenziere diesen\n",
    "Comment = tokenizer.texts_to_sequences(Comment)\n",
    "Comment = keras.preprocessing.sequence.pad_sequences(Comment, maxlen=max_comment_char_count)\n",
    "\n",
    "#Speichere das Ergebnis des zu erwartenden Sentiments unseres Beispielsatzes\n",
    "result = (reconstructed_model.predict(Comment))\n",
    "#Gebe das Ergebnis aus\n",
    "print(result)\n",
    "\n",
    "#Teile die Ergebnisse in Klassen aufgrund von Erfahrungswerten des testens dieses Modells ein\n",
    "if float(float(result) > 0.004):\n",
    "    print(\"Positive Sentence\")\n",
    "elif float(float(result)) < 0.0041:\n",
    "    print(\"Negative Sentence\")\n",
    "elif float(float(result)) > 0.005:\n",
    "    print(\"Neutral Sentence\")\n",
    "else:\n",
    "    print(\"Neutral Sentencetence\")"
   ]
  },
  {
   "cell_type": "code",
   "execution_count": 21,
   "id": "38b1ecbf",
   "metadata": {},
   "outputs": [
    {
     "name": "stdout",
     "output_type": "stream",
     "text": [
      "{'neg': 0.0, 'neu': 0.0, 'pos': 1.0, 'compound': 0.4404}\n",
      "good------------------------------------------------------------- {'neg': 0.0, 'neu': 0.0, 'pos': 1.0, 'compound': 0.4404}\n",
      "Negative Sentence\n"
     ]
    }
   ],
   "source": [
    "#!pip install vaderSentiment\n",
    "from vaderSentiment.vaderSentiment import SentimentIntensityAnalyzer\n",
    "vdAnalyzer = SentimentIntensityAnalyzer()\n",
    "vdComment = \"good\"\n",
    "vs = vdAnalyzer.polarity_scores(vdComment)\n",
    "print (vs)\n",
    "print(\"{:-<65} {}\".format(vdComment, str(vs)))\n",
    "\n",
    "#Treffen Annahmen für den zusammengesetzten Wert um positiv, negativ und neutral zu trennen\n",
    "if float(vs['compound']) > 0.55:\n",
    "    print(\"Positive Sentence\")\n",
    "elif float(vs['compound']) < 0.45:\n",
    "    print(\"Negative Sentence\")\n",
    "else:\n",
    "    print(\"Neutral Sentence\")"
   ]
  }
 ],
 "metadata": {
  "kernelspec": {
   "display_name": "Python 3 (ipykernel)",
   "language": "python",
   "name": "python3"
  },
  "language_info": {
   "codemirror_mode": {
    "name": "ipython",
    "version": 3
   },
   "file_extension": ".py",
   "mimetype": "text/x-python",
   "name": "python",
   "nbconvert_exporter": "python",
   "pygments_lexer": "ipython3",
   "version": "3.9.7"
  }
 },
 "nbformat": 4,
 "nbformat_minor": 5
}
