{
 "cells": [
  {
   "cell_type": "code",
   "execution_count": 3,
   "metadata": {},
   "outputs": [
    {
     "name": "stdout",
     "output_type": "stream",
     "text": [
      "Requirement already satisfied: numpy in c:\\users\\linhkhanhspc\\documents\\th köln\\sem 3\\ki\\sentiment_analysis\\.venv\\lib\\site-packages (2.0.2)\n",
      "Requirement already satisfied: tensorflow in c:\\users\\linhkhanhspc\\documents\\th köln\\sem 3\\ki\\sentiment_analysis\\.venv\\lib\\site-packages (2.18.0)\n",
      "Requirement already satisfied: tensorflow-intel==2.18.0 in c:\\users\\linhkhanhspc\\documents\\th köln\\sem 3\\ki\\sentiment_analysis\\.venv\\lib\\site-packages (from tensorflow) (2.18.0)\n",
      "Requirement already satisfied: absl-py>=1.0.0 in c:\\users\\linhkhanhspc\\documents\\th köln\\sem 3\\ki\\sentiment_analysis\\.venv\\lib\\site-packages (from tensorflow-intel==2.18.0->tensorflow) (2.1.0)\n",
      "Requirement already satisfied: astunparse>=1.6.0 in c:\\users\\linhkhanhspc\\documents\\th köln\\sem 3\\ki\\sentiment_analysis\\.venv\\lib\\site-packages (from tensorflow-intel==2.18.0->tensorflow) (1.6.3)\n",
      "Requirement already satisfied: flatbuffers>=24.3.25 in c:\\users\\linhkhanhspc\\documents\\th köln\\sem 3\\ki\\sentiment_analysis\\.venv\\lib\\site-packages (from tensorflow-intel==2.18.0->tensorflow) (24.3.25)\n",
      "Requirement already satisfied: gast!=0.5.0,!=0.5.1,!=0.5.2,>=0.2.1 in c:\\users\\linhkhanhspc\\documents\\th köln\\sem 3\\ki\\sentiment_analysis\\.venv\\lib\\site-packages (from tensorflow-intel==2.18.0->tensorflow) (0.6.0)\n",
      "Requirement already satisfied: google-pasta>=0.1.1 in c:\\users\\linhkhanhspc\\documents\\th köln\\sem 3\\ki\\sentiment_analysis\\.venv\\lib\\site-packages (from tensorflow-intel==2.18.0->tensorflow) (0.2.0)\n",
      "Requirement already satisfied: libclang>=13.0.0 in c:\\users\\linhkhanhspc\\documents\\th köln\\sem 3\\ki\\sentiment_analysis\\.venv\\lib\\site-packages (from tensorflow-intel==2.18.0->tensorflow) (18.1.1)\n",
      "Requirement already satisfied: opt-einsum>=2.3.2 in c:\\users\\linhkhanhspc\\documents\\th köln\\sem 3\\ki\\sentiment_analysis\\.venv\\lib\\site-packages (from tensorflow-intel==2.18.0->tensorflow) (3.4.0)\n",
      "Requirement already satisfied: packaging in c:\\users\\linhkhanhspc\\documents\\th köln\\sem 3\\ki\\sentiment_analysis\\.venv\\lib\\site-packages (from tensorflow-intel==2.18.0->tensorflow) (24.2)\n",
      "Requirement already satisfied: protobuf!=4.21.0,!=4.21.1,!=4.21.2,!=4.21.3,!=4.21.4,!=4.21.5,<6.0.0dev,>=3.20.3 in c:\\users\\linhkhanhspc\\documents\\th köln\\sem 3\\ki\\sentiment_analysis\\.venv\\lib\\site-packages (from tensorflow-intel==2.18.0->tensorflow) (5.28.3)\n",
      "Requirement already satisfied: requests<3,>=2.21.0 in c:\\users\\linhkhanhspc\\documents\\th köln\\sem 3\\ki\\sentiment_analysis\\.venv\\lib\\site-packages (from tensorflow-intel==2.18.0->tensorflow) (2.32.3)\n",
      "Requirement already satisfied: setuptools in c:\\users\\linhkhanhspc\\documents\\th köln\\sem 3\\ki\\sentiment_analysis\\.venv\\lib\\site-packages (from tensorflow-intel==2.18.0->tensorflow) (63.2.0)\n",
      "Requirement already satisfied: six>=1.12.0 in c:\\users\\linhkhanhspc\\documents\\th köln\\sem 3\\ki\\sentiment_analysis\\.venv\\lib\\site-packages (from tensorflow-intel==2.18.0->tensorflow) (1.16.0)\n",
      "Requirement already satisfied: termcolor>=1.1.0 in c:\\users\\linhkhanhspc\\documents\\th köln\\sem 3\\ki\\sentiment_analysis\\.venv\\lib\\site-packages (from tensorflow-intel==2.18.0->tensorflow) (2.5.0)\n",
      "Requirement already satisfied: typing-extensions>=3.6.6 in c:\\users\\linhkhanhspc\\documents\\th köln\\sem 3\\ki\\sentiment_analysis\\.venv\\lib\\site-packages (from tensorflow-intel==2.18.0->tensorflow) (4.12.2)\n",
      "Requirement already satisfied: wrapt>=1.11.0 in c:\\users\\linhkhanhspc\\documents\\th köln\\sem 3\\ki\\sentiment_analysis\\.venv\\lib\\site-packages (from tensorflow-intel==2.18.0->tensorflow) (1.17.0)\n",
      "Requirement already satisfied: grpcio<2.0,>=1.24.3 in c:\\users\\linhkhanhspc\\documents\\th köln\\sem 3\\ki\\sentiment_analysis\\.venv\\lib\\site-packages (from tensorflow-intel==2.18.0->tensorflow) (1.68.0)\n",
      "Requirement already satisfied: tensorboard<2.19,>=2.18 in c:\\users\\linhkhanhspc\\documents\\th köln\\sem 3\\ki\\sentiment_analysis\\.venv\\lib\\site-packages (from tensorflow-intel==2.18.0->tensorflow) (2.18.0)\n",
      "Requirement already satisfied: keras>=3.5.0 in c:\\users\\linhkhanhspc\\documents\\th köln\\sem 3\\ki\\sentiment_analysis\\.venv\\lib\\site-packages (from tensorflow-intel==2.18.0->tensorflow) (3.6.0)\n",
      "Requirement already satisfied: h5py>=3.11.0 in c:\\users\\linhkhanhspc\\documents\\th köln\\sem 3\\ki\\sentiment_analysis\\.venv\\lib\\site-packages (from tensorflow-intel==2.18.0->tensorflow) (3.12.1)\n",
      "Requirement already satisfied: ml-dtypes<0.5.0,>=0.4.0 in c:\\users\\linhkhanhspc\\documents\\th köln\\sem 3\\ki\\sentiment_analysis\\.venv\\lib\\site-packages (from tensorflow-intel==2.18.0->tensorflow) (0.4.1)\n",
      "Requirement already satisfied: tensorflow-io-gcs-filesystem>=0.23.1 in c:\\users\\linhkhanhspc\\documents\\th köln\\sem 3\\ki\\sentiment_analysis\\.venv\\lib\\site-packages (from tensorflow-intel==2.18.0->tensorflow) (0.31.0)\n",
      "Requirement already satisfied: wheel<1.0,>=0.23.0 in c:\\users\\linhkhanhspc\\documents\\th köln\\sem 3\\ki\\sentiment_analysis\\.venv\\lib\\site-packages (from astunparse>=1.6.0->tensorflow-intel==2.18.0->tensorflow) (0.45.1)\n",
      "Requirement already satisfied: rich in c:\\users\\linhkhanhspc\\documents\\th köln\\sem 3\\ki\\sentiment_analysis\\.venv\\lib\\site-packages (from keras>=3.5.0->tensorflow-intel==2.18.0->tensorflow) (13.9.4)\n",
      "Requirement already satisfied: namex in c:\\users\\linhkhanhspc\\documents\\th köln\\sem 3\\ki\\sentiment_analysis\\.venv\\lib\\site-packages (from keras>=3.5.0->tensorflow-intel==2.18.0->tensorflow) (0.0.8)\n",
      "Requirement already satisfied: optree in c:\\users\\linhkhanhspc\\documents\\th köln\\sem 3\\ki\\sentiment_analysis\\.venv\\lib\\site-packages (from keras>=3.5.0->tensorflow-intel==2.18.0->tensorflow) (0.13.1)\n",
      "Requirement already satisfied: charset-normalizer<4,>=2 in c:\\users\\linhkhanhspc\\documents\\th köln\\sem 3\\ki\\sentiment_analysis\\.venv\\lib\\site-packages (from requests<3,>=2.21.0->tensorflow-intel==2.18.0->tensorflow) (3.4.0)\n",
      "Requirement already satisfied: idna<4,>=2.5 in c:\\users\\linhkhanhspc\\documents\\th köln\\sem 3\\ki\\sentiment_analysis\\.venv\\lib\\site-packages (from requests<3,>=2.21.0->tensorflow-intel==2.18.0->tensorflow) (3.10)\n",
      "Requirement already satisfied: urllib3<3,>=1.21.1 in c:\\users\\linhkhanhspc\\documents\\th köln\\sem 3\\ki\\sentiment_analysis\\.venv\\lib\\site-packages (from requests<3,>=2.21.0->tensorflow-intel==2.18.0->tensorflow) (2.2.3)\n",
      "Requirement already satisfied: certifi>=2017.4.17 in c:\\users\\linhkhanhspc\\documents\\th köln\\sem 3\\ki\\sentiment_analysis\\.venv\\lib\\site-packages (from requests<3,>=2.21.0->tensorflow-intel==2.18.0->tensorflow) (2024.8.30)\n",
      "Requirement already satisfied: markdown>=2.6.8 in c:\\users\\linhkhanhspc\\documents\\th köln\\sem 3\\ki\\sentiment_analysis\\.venv\\lib\\site-packages (from tensorboard<2.19,>=2.18->tensorflow-intel==2.18.0->tensorflow) (3.7)\n",
      "Requirement already satisfied: tensorboard-data-server<0.8.0,>=0.7.0 in c:\\users\\linhkhanhspc\\documents\\th köln\\sem 3\\ki\\sentiment_analysis\\.venv\\lib\\site-packages (from tensorboard<2.19,>=2.18->tensorflow-intel==2.18.0->tensorflow) (0.7.2)\n",
      "Requirement already satisfied: werkzeug>=1.0.1 in c:\\users\\linhkhanhspc\\documents\\th köln\\sem 3\\ki\\sentiment_analysis\\.venv\\lib\\site-packages (from tensorboard<2.19,>=2.18->tensorflow-intel==2.18.0->tensorflow) (3.1.3)\n",
      "Requirement already satisfied: MarkupSafe>=2.1.1 in c:\\users\\linhkhanhspc\\documents\\th köln\\sem 3\\ki\\sentiment_analysis\\.venv\\lib\\site-packages (from werkzeug>=1.0.1->tensorboard<2.19,>=2.18->tensorflow-intel==2.18.0->tensorflow) (3.0.2)\n",
      "Requirement already satisfied: markdown-it-py>=2.2.0 in c:\\users\\linhkhanhspc\\documents\\th köln\\sem 3\\ki\\sentiment_analysis\\.venv\\lib\\site-packages (from rich->keras>=3.5.0->tensorflow-intel==2.18.0->tensorflow) (3.0.0)\n",
      "Requirement already satisfied: pygments<3.0.0,>=2.13.0 in c:\\users\\linhkhanhspc\\documents\\th köln\\sem 3\\ki\\sentiment_analysis\\.venv\\lib\\site-packages (from rich->keras>=3.5.0->tensorflow-intel==2.18.0->tensorflow) (2.18.0)\n",
      "Requirement already satisfied: mdurl~=0.1 in c:\\users\\linhkhanhspc\\documents\\th köln\\sem 3\\ki\\sentiment_analysis\\.venv\\lib\\site-packages (from markdown-it-py>=2.2.0->rich->keras>=3.5.0->tensorflow-intel==2.18.0->tensorflow) (0.1.2)\n",
      "Note: you may need to restart the kernel to use updated packages.\n"
     ]
    }
   ],
   "source": [
    "%pip install numpy tensorflow"
   ]
  },
  {
   "cell_type": "code",
   "execution_count": 1,
   "metadata": {},
   "outputs": [],
   "source": [
    "import pandas as pd"
   ]
  },
  {
   "cell_type": "code",
   "execution_count": 6,
   "metadata": {},
   "outputs": [
    {
     "name": "stdout",
     "output_type": "stream",
     "text": [
      "Collecting nltk\n",
      "  Downloading nltk-3.9.1-py3-none-any.whl.metadata (2.9 kB)\n",
      "Collecting click (from nltk)\n",
      "  Downloading click-8.1.7-py3-none-any.whl.metadata (3.0 kB)\n",
      "Collecting joblib (from nltk)\n",
      "  Downloading joblib-1.4.2-py3-none-any.whl.metadata (5.4 kB)\n",
      "Collecting regex>=2021.8.3 (from nltk)\n",
      "  Downloading regex-2024.11.6-cp310-cp310-win_amd64.whl.metadata (41 kB)\n",
      "Collecting tqdm (from nltk)\n",
      "  Downloading tqdm-4.67.0-py3-none-any.whl.metadata (57 kB)\n",
      "Requirement already satisfied: colorama in c:\\users\\linhkhanhspc\\documents\\th köln\\sem 3\\ki\\sentiment_analysis\\.venv\\lib\\site-packages (from click->nltk) (0.4.6)\n",
      "Downloading nltk-3.9.1-py3-none-any.whl (1.5 MB)\n",
      "   ---------------------------------------- 0.0/1.5 MB ? eta -:--:--\n",
      "   ---------------------------------- ----- 1.3/1.5 MB 13.4 MB/s eta 0:00:01\n",
      "   ---------------------------------------- 1.5/1.5 MB 4.0 MB/s eta 0:00:00\n",
      "Downloading regex-2024.11.6-cp310-cp310-win_amd64.whl (274 kB)\n",
      "Downloading click-8.1.7-py3-none-any.whl (97 kB)\n",
      "Downloading joblib-1.4.2-py3-none-any.whl (301 kB)\n",
      "Downloading tqdm-4.67.0-py3-none-any.whl (78 kB)\n",
      "Installing collected packages: tqdm, regex, joblib, click, nltk\n",
      "Successfully installed click-8.1.7 joblib-1.4.2 nltk-3.9.1 regex-2024.11.6 tqdm-4.67.0\n",
      "Note: you may need to restart the kernel to use updated packages.\n"
     ]
    }
   ],
   "source": [
    "%pip install nltk\n",
    "%pip install seaborn"
   ]
  },
  {
   "cell_type": "code",
   "execution_count": null,
   "metadata": {},
   "outputs": [],
   "source": [
    "%pip install scikit-learn"
   ]
  },
  {
   "cell_type": "code",
   "execution_count": 16,
   "metadata": {},
   "outputs": [],
   "source": [
    "import seaborn as sns\n",
    "import matplotlib.pyplot as plt\n",
    "import nltk\n",
    "from sklearn.feature_extraction.text import CountVectorizer\n",
    "from sklearn.feature_extraction.text import TfidfVectorizer\n",
    "from sklearn.preprocessing import LabelBinarizer\n",
    "from nltk.corpus import stopwords, wordnet\n",
    "from nltk.stem.porter import PorterStemmer\n",
    "from nltk.stem import WordNetLemmatizer\n",
    "from nltk.tokenize import word_tokenize,sent_tokenize\n",
    "from nltk.tokenize.toktok import ToktokTokenizer\n",
    "from nltk.stem import LancasterStemmer,WordNetLemmatizer\n",
    "from nltk import pos_tag\n",
    "from sklearn.linear_model import LogisticRegression,SGDClassifier\n",
    "from sklearn.model_selection import train_test_split\n",
    "from sklearn.naive_bayes import MultinomialNB\n",
    "from sklearn.svm import SVC\n",
    "from sklearn.metrics import classification_report,confusion_matrix,accuracy_score"
   ]
  },
  {
   "cell_type": "code",
   "execution_count": 48,
   "metadata": {},
   "outputs": [],
   "source": [
    "df = pd.read_csv(\"movie_reviews.csv\")"
   ]
  },
  {
   "cell_type": "code",
   "execution_count": 4,
   "metadata": {},
   "outputs": [
    {
     "name": "stderr",
     "output_type": "stream",
     "text": [
      "[nltk_data] Downloading package stopwords to\n",
      "[nltk_data]     C:\\Users\\LINHKHANHSPC\\AppData\\Roaming\\nltk_data...\n",
      "[nltk_data]   Package stopwords is already up-to-date!\n"
     ]
    }
   ],
   "source": [
    "tokenizer = nltk.ToktokTokenizer()\n",
    "\n",
    "#Setting English stopwords\n",
    "nltk.download('stopwords')\n",
    "stopword_list=stopwords.words('english')"
   ]
  },
  {
   "cell_type": "code",
   "execution_count": 49,
   "metadata": {},
   "outputs": [],
   "source": [
    "#tokenize the text, remove stopwords and limit word count of each comment\n",
    "def tokenize(text):\n",
    "    tokens = tokenizer.tokenize(text)\n",
    "    tokens = [token.strip() for token in tokens]\n",
    "    filtered_tokens = [token for token in tokens if token.lower() not in stopword_list]\n",
    "    #Limit the word count of each review to 150 words\n",
    "    #filtered_text = filtered_tokens[:150]  \n",
    "    #filtered_text = ' '.join(filtered_tokens)  \n",
    "    return filtered_tokens"
   ]
  },
  {
   "cell_type": "code",
   "execution_count": 50,
   "metadata": {},
   "outputs": [],
   "source": [
    "#Apply function on review column\n",
    "df['comment']=df['comment'].apply(tokenize)"
   ]
  },
  {
   "cell_type": "code",
   "execution_count": 51,
   "metadata": {},
   "outputs": [
    {
     "name": "stdout",
     "output_type": "stream",
     "text": [
      "0    [original, 1982, theatrical, showing, Beta, vi...\n",
      "1    [really, believe, one, great, crime, movies, t...\n",
      "Name: comment, dtype: object\n"
     ]
    }
   ],
   "source": [
    "# try:\n",
    "#     df.to_csv(\"movie_reviews_short.csv\", index=False) \n",
    "#     print(\"File saved successfully.\")\n",
    "# except Exception as e:\n",
    "#     print(\"Error:\", e)\n",
    "print(df.comment.loc[0:1])"
   ]
  },
  {
   "cell_type": "code",
   "execution_count": 18,
   "metadata": {},
   "outputs": [
    {
     "name": "stderr",
     "output_type": "stream",
     "text": [
      "[nltk_data] Downloading package wordnet to\n",
      "[nltk_data]     C:\\Users\\LINHKHANHSPC\\AppData\\Roaming\\nltk_data...\n",
      "[nltk_data]   Package wordnet is already up-to-date!\n",
      "[nltk_data] Downloading package omw-1.4 to\n",
      "[nltk_data]     C:\\Users\\LINHKHANHSPC\\AppData\\Roaming\\nltk_data...\n",
      "[nltk_data]   Package omw-1.4 is already up-to-date!\n",
      "[nltk_data] Downloading package averaged_perceptron_tagger_eng to\n",
      "[nltk_data]     C:\\Users\\LINHKHANHSPC\\AppData\\Roaming\\nltk_data...\n",
      "[nltk_data]   Unzipping taggers\\averaged_perceptron_tagger_eng.zip.\n"
     ]
    },
    {
     "data": {
      "text/plain": [
       "True"
      ]
     },
     "execution_count": 18,
     "metadata": {},
     "output_type": "execute_result"
    }
   ],
   "source": [
    "# Lemmatization\n",
    "# Download required datasets\n",
    "nltk.download('wordnet')\n",
    "nltk.download('omw-1.4')  # For multilingual WordNet support\n",
    "nltk.download('averaged_perceptron_tagger_eng')# For POS tagging"
   ]
  },
  {
   "cell_type": "code",
   "execution_count": 52,
   "metadata": {},
   "outputs": [],
   "source": [
    "lemmatizer = WordNetLemmatizer()\n",
    "# Function to map NLTK POS tags to WordNet POS tags\n",
    "def get_wordnet_pos(tag):\n",
    "    if tag.startswith('J'):\n",
    "        return wordnet.ADJ\n",
    "    elif tag.startswith('V'):\n",
    "        return wordnet.VERB\n",
    "    elif tag.startswith('N'):\n",
    "        return wordnet.NOUN\n",
    "    elif tag.startswith('R'):\n",
    "        return wordnet.ADV\n",
    "    else:\n",
    "        return wordnet.NOUN  # Default to noun\n",
    "    \n",
    "def lemmatize(text):\n",
    "    pos_tags = pos_tag(text)\n",
    "    lemmatized_words = [lemmatizer.lemmatize(word, get_wordnet_pos(tag)) for word, tag in pos_tags]\n",
    "    new_text = ' '.join(lemmatized_words)\n",
    "    return new_text\n",
    "\n",
    "df['comment']=df['comment'].apply(lambda text: lemmatize(text))\n",
    "\n"
   ]
  },
  {
   "cell_type": "code",
   "execution_count": 53,
   "metadata": {},
   "outputs": [
    {
     "name": "stdout",
     "output_type": "stream",
     "text": [
      "0       original 1982 theatrical show Beta videotape ,...\n",
      "1       really believe one great crime movie time. dra...\n",
      "2       ' say well , stole text : Shallow romance , sh...\n",
      "3            final scene enough get excite 10th movie : )\n",
      "4       Megan Fox ..... joke. fluff brains. Totally un...\n",
      "                              ...                        \n",
      "1346    earth consider one best ? anyone explain myste...\n",
      "1347    rate movie look alone?It might look authentic ...\n",
      "1348    go film think would carry first 2 goal film st...\n",
      "1349    Context : atheist , one evangelical Christians...\n",
      "1350    ' listen critic say movie boring. movie one te...\n",
      "Name: comment, Length: 1351, dtype: object\n"
     ]
    }
   ],
   "source": [
    "print(df['comment'])"
   ]
  },
  {
   "cell_type": "code",
   "execution_count": 74,
   "metadata": {},
   "outputs": [],
   "source": [
    "import re\n",
    "\n",
    "def remove_things(text):\n",
    "    # Remove punctuation\n",
    "    text = re.sub(r\"[^\\w\\s]\", \"\", text)\n",
    "        \n",
    "    # Remove years\n",
    "    text = re.sub(r\"\\b\\d{4}\\b\", \"\", text)\n",
    "\n",
    "    # Remove special characters\n",
    "    text=re.sub(r'[^a-zA-z0-9\\s]','',text)\n",
    "    return text\n",
    "\n",
    "\n",
    "df['comment']=df['comment'].apply(remove_things)"
   ]
  },
  {
   "cell_type": "code",
   "execution_count": 75,
   "metadata": {},
   "outputs": [
    {
     "data": {
      "text/plain": [
       "0    original  theatrical show Beta videotape  stan...\n",
       "Name: comment, dtype: object"
      ]
     },
     "execution_count": 75,
     "metadata": {},
     "output_type": "execute_result"
    }
   ],
   "source": [
    "df.comment.loc[0:0]"
   ]
  },
  {
   "cell_type": "markdown",
   "metadata": {},
   "source": [
    "Term Frequency-Inverse Document Frequency model (TF-IDF)\n",
    "\n",
    "It is used to convert text documents to matrix of tf-idf features."
   ]
  },
  {
   "cell_type": "code",
   "execution_count": 56,
   "metadata": {},
   "outputs": [],
   "source": [
    "#Tfidf vectorizer\n",
    "\n",
    "def tfidf_vectorize(text):\n",
    "    tfidf=TfidfVectorizer(min_df=0.0,max_df=1.0,use_idf=True,ngram_range=(1,3), max_features=10000)\n",
    "    new_text = tfidf.fit_transform(text)\n",
    "    print(f\"Vocabulary size: {len(tfidf.get_feature_names_out())}\")\n",
    "\n",
    "    return new_text\n"
   ]
  },
  {
   "cell_type": "code",
   "execution_count": null,
   "metadata": {},
   "outputs": [
    {
     "name": "stdout",
     "output_type": "stream",
     "text": [
      "Vocabulary size: 10000\n"
     ]
    }
   ],
   "source": [
    "text_count_matrix = tfidf_vectorize(df.comment)"
   ]
  },
  {
   "cell_type": "code",
   "execution_count": 59,
   "metadata": {},
   "outputs": [
    {
     "name": "stdout",
     "output_type": "stream",
     "text": [
      "<Compressed Sparse Row sparse matrix of dtype 'float64'\n",
      "\twith 95695 stored elements and shape (1351, 10000)>\n",
      "  Coords\tValues\n",
      "  (0, 6512)\t0.16191662551802896\n",
      "  (0, 8707)\t0.09854442166006996\n",
      "  (0, 8045)\t0.05028478409910943\n",
      "  (0, 8331)\t0.07840496945232206\n",
      "  (0, 2331)\t0.08022684453875485\n",
      "  (0, 1097)\t0.10069107602935222\n",
      "  (0, 7459)\t0.18405230668550215\n",
      "  (0, 7686)\t0.18405230668550215\n",
      "  (0, 1048)\t0.2447018687861172\n",
      "  (0, 7535)\t0.2447018687861172\n",
      "  (0, 9447)\t0.06726191616380699\n",
      "  (0, 1774)\t0.09495715974366994\n",
      "  (0, 8828)\t0.10472580374689001\n",
      "  (0, 9484)\t0.10968747494858504\n",
      "  (0, 9427)\t0.06845327797840113\n",
      "  (0, 1846)\t0.20265474647320694\n",
      "  (0, 2072)\t0.05347752246830171\n",
      "  (0, 3248)\t0.07392436506837759\n",
      "  (0, 42)\t0.09854442166006996\n",
      "  (0, 9947)\t0.04903646552796612\n",
      "  (0, 3429)\t0.06511526179452475\n",
      "  (0, 7365)\t0.06845327797840113\n",
      "  (0, 5467)\t0.08381410645515487\n",
      "  (0, 5063)\t0.06588705933296592\n",
      "  (0, 4855)\t0.12272789773881318\n",
      "  :\t:\n",
      "  (1349, 9402)\t0.1244546439693504\n",
      "  (1349, 9859)\t0.11941952378688758\n",
      "  (1349, 8221)\t0.11941952378688758\n",
      "  (1350, 6424)\t0.07785636587880322\n",
      "  (1350, 5606)\t0.22198743495191578\n",
      "  (1350, 7756)\t0.08362079905999042\n",
      "  (1350, 7604)\t0.10103155206721551\n",
      "  (1350, 2721)\t0.19812709058898845\n",
      "  (1350, 1172)\t0.15639698251526302\n",
      "  (1350, 5629)\t0.2525601563011647\n",
      "  (1350, 1537)\t0.15432868411881237\n",
      "  (1350, 9964)\t0.21447665134405566\n",
      "  (1350, 5839)\t0.2028764533796988\n",
      "  (1350, 2755)\t0.15693106950606356\n",
      "  (1350, 6550)\t0.16592888208316922\n",
      "  (1350, 399)\t0.3345917872313502\n",
      "  (1350, 1814)\t0.187662826285211\n",
      "  (1350, 4985)\t0.2167814488249038\n",
      "  (1350, 400)\t0.27512553157361413\n",
      "  (1350, 5777)\t0.19387864080259323\n",
      "  (1350, 2757)\t0.2661277189965085\n",
      "  (1350, 1176)\t0.2587759708185469\n",
      "  (1350, 7621)\t0.2122964999541111\n",
      "  (1350, 8668)\t0.2661277189965085\n",
      "  (1350, 7832)\t0.27512553157361413\n"
     ]
    }
   ],
   "source": [
    "print(text_count_matrix)"
   ]
  },
  {
   "cell_type": "code",
   "execution_count": 60,
   "metadata": {},
   "outputs": [],
   "source": [
    "X =text_count_matrix\n",
    "y = df.sentiment"
   ]
  },
  {
   "cell_type": "code",
   "execution_count": 69,
   "metadata": {},
   "outputs": [],
   "source": [
    "X_train, X_test, y_train, y_test = train_test_split(X, y, test_size=0.3, stratify=y, random_state=42)\n"
   ]
  },
  {
   "cell_type": "markdown",
   "metadata": {},
   "source": [
    "## Naive Bayes"
   ]
  },
  {
   "cell_type": "code",
   "execution_count": 70,
   "metadata": {},
   "outputs": [
    {
     "name": "stdout",
     "output_type": "stream",
     "text": [
      "accuracy_score= 60.59 %\n"
     ]
    }
   ],
   "source": [
    "# let's use Naive Bayes classifier and fit our model:\n",
    "from sklearn.naive_bayes import MultinomialNB \n",
    "MNB = MultinomialNB()\n",
    "MNB.fit(X_train, y_train)\n",
    "#4. Evaluating the model\n",
    "from sklearn import metrics\n",
    "accuracy_score = metrics.accuracy_score(MNB.predict(X_test), y_test)\n",
    "print(\"accuracy_score= \" + str('{:04.2f}'.format(accuracy_score*100))+\" %\")"
   ]
  },
  {
   "cell_type": "code",
   "execution_count": 71,
   "metadata": {},
   "outputs": [
    {
     "name": "stdout",
     "output_type": "stream",
     "text": [
      "[[ 83  48   5]\n",
      " [  0 152   2]\n",
      " [ 37  68  11]]\n"
     ]
    }
   ],
   "source": [
    "y_pred = MNB.predict(X_test)\n",
    "print(metrics.confusion_matrix(y_test, y_pred))"
   ]
  },
  {
   "cell_type": "markdown",
   "metadata": {},
   "source": [
    "## Neural Network"
   ]
  },
  {
   "cell_type": "code",
   "execution_count": null,
   "metadata": {},
   "outputs": [],
   "source": [
    "%pip install tensorflow==2.12"
   ]
  },
  {
   "cell_type": "code",
   "execution_count": 79,
   "metadata": {},
   "outputs": [],
   "source": [
    "import numpy as np\n",
    "import tensorflow as tf\n",
    "import keras\n",
    "from keras import models"
   ]
  },
  {
   "cell_type": "code",
   "execution_count": 80,
   "metadata": {},
   "outputs": [],
   "source": [
    "from keras.utils import to_categorical\n",
    "from keras.layers import Embedding, Conv1D, GlobalMaxPooling1D, Dense, Dropout"
   ]
  },
  {
   "cell_type": "code",
   "execution_count": 76,
   "metadata": {},
   "outputs": [],
   "source": [
    "X_train_dense = X_train.toarray()\n",
    "y_train_onehot = to_categorical(y_train)"
   ]
  },
  {
   "cell_type": "code",
   "execution_count": 78,
   "metadata": {},
   "outputs": [],
   "source": [
    "X_test_dense = X_train.toarray()\n",
    "y_test_onehot = to_categorical(y_train)"
   ]
  },
  {
   "cell_type": "code",
   "execution_count": null,
   "metadata": {},
   "outputs": [],
   "source": [
    "seq_model = keras.Sequential()\n",
    "#Input layer\n",
    "seq_model.add(Dense(128, activation='tanh', input_shape=(X_train_dense.shape[1],)))\n",
    "seq_model.add(Dropout(0.2))\n",
    "seq_model.add(Dense(64, activation='tanh'))\n",
    "seq_model.add(Dropout(0.3))\n",
    "seq_model.add(Dense(32, activation='tanh'))\n",
    "seq_model.add(Dropout(0.4))\n",
    "#Output layer\n",
    "seq_model.add(Dense(3, activation='softmax')) # <-- Notice activation in final layer.\n",
    "\n",
    "\n",
    "seq_model.compile(loss='categorical_crossentropy',\n",
    "              optimizer='adam', metrics = ['accuracy'])"
   ]
  },
  {
   "cell_type": "code",
   "execution_count": null,
   "metadata": {},
   "outputs": [],
   "source": [
    "#define batch size and epochs\n",
    "# Then plot the training and validation loss\n",
    "\n",
    "history = seq_model.fit(X_train_dense, y_train_onehot,\n",
    "validation_data = (X_test_dense, y_test_onehot),\n",
    "epochs= 50,\n",
    "batch_size = 32)"
   ]
  },
  {
   "cell_type": "code",
   "execution_count": 54,
   "metadata": {},
   "outputs": [
    {
     "name": "stdout",
     "output_type": "stream",
     "text": [
      "Accuracy: 51.35%\n"
     ]
    }
   ],
   "source": [
    "#evaluate model accuracy\n",
    "scores = seq_model.evaluate(X_test_dense, y_test_encoded, verbose=0)\n",
    "print(\"Accuracy: %.2f%%\" % (scores[1]*100))"
   ]
  },
  {
   "cell_type": "code",
   "execution_count": 55,
   "metadata": {},
   "outputs": [
    {
     "data": {
      "image/png": "[encoded data removed]",
      "text/plain": [
       "<Figure size 640x480 with 1 Axes>"
      ]
     },
     "metadata": {},
     "output_type": "display_data"
    }
   ],
   "source": [
    "plt.plot(history.history['loss'], label='Training Loss')\n",
    "plt.plot(history.history['val_loss'], label='Validation Loss')\n",
    "plt.legend()\n",
    "plt.show()"
   ]
  },
  {
   "cell_type": "code",
   "execution_count": 56,
   "metadata": {},
   "outputs": [],
   "source": [
    "from sklearn.metrics import confusion_matrix, ConfusionMatrixDisplay\n",
    "import matplotlib.pyplot as plt"
   ]
  },
  {
   "cell_type": "code",
   "execution_count": 58,
   "metadata": {},
   "outputs": [
    {
     "name": "stdout",
     "output_type": "stream",
     "text": [
      "5/5 [==============================] - 0s 30ms/step\n"
     ]
    },
    {
     "data": {
      "image/png": "[encoded data removed]",
      "text/plain": [
       "<Figure size 640x480 with 2 Axes>"
      ]
     },
     "metadata": {},
     "output_type": "display_data"
    }
   ],
   "source": [
    "# Step 1: Make Predictions\n",
    "y_pred_prob = seq_model.predict(X_test_dense)  # Model predictions (probabilities)\n",
    "y_pred = np.argmax(y_pred_prob, axis=1)  \n",
    "\n",
    "# Step 2: Convert True Labels (if one-hot encoded)\n",
    "y_test_classes = np.argmax(y_test_encoded, axis=1)\n",
    "\n",
    "# Step 3: Generate Confusion Matrix\n",
    "cm = confusion_matrix(y_test_classes, y_pred)\n",
    "\n",
    "# Step 4: Display Confusion Matrix\n",
    "disp = ConfusionMatrixDisplay(confusion_matrix=cm, display_labels=[\"Negative\", \"Positive\", \"Neutral\"])\n",
    "disp.plot(cmap=plt.cm.Blues)\n",
    "plt.show()"
   ]
  },
  {
   "cell_type": "code",
   "execution_count": null,
   "metadata": {},
   "outputs": [],
   "source": [
    "def run_NLP_pipeline(text):\n",
    "    t1 = tokenize(text)\n",
    "    t2 = lemmatize(t1)\n",
    "    t3 = remove_things(t2)\n",
    "    t4= tfidf_vectorize([t3])\n",
    "    t5 = t4.toarray()\n",
    "    return t5"
   ]
  },
  {
   "cell_type": "code",
   "execution_count": null,
   "metadata": {},
   "outputs": [
    {
     "name": "stdout",
     "output_type": "stream",
     "text": [
      "Shape of input for model: (1, 56)\n"
     ]
    }
   ],
   "source": [
    "sentence = [\"This is like average.\"]\n",
    "sentence_1 = run_NLP_pipeline(sentence)\n",
    "# Check shape to ensure it's correct\n",
    "print(f\"Shape of input for model: {sentence_1.shape}\")\n"
   ]
  },
  {
   "cell_type": "code",
   "execution_count": null,
   "metadata": {},
   "outputs": [],
   "source": [
    "predictions = seq_model.predict(sentence_1)\n",
    "\n",
    "# Get the predicted class (index of the max probability)\n",
    "predicted_class = predictions.argmax(axis=-1)\n",
    "\n",
    "# Map the index to the label\n",
    "class_labels = [\"Negative\", \"Positive\", \"Neutral\"]  # Example class labels\n",
    "predicted_label = class_labels[predicted_class[0]]\n",
    "\n",
    "# Convert predictions to a dictionary for readability\n",
    "formatted_predictions = {label: round(prob, 4) for label, prob in zip(class_labels, predictions[0])}\n",
    "print(f\"Probabilities: {formatted_predictions}\")\n",
    "\n",
    "print(f\"Predicted Class Index: {predicted_class[0]}\")\n",
    "print(f\"Predicted Label: {predicted_label}\")"
   ]
  },
  {
   "cell_type": "code",
   "execution_count": null,
   "metadata": {},
   "outputs": [],
   "source": [
    "from wordcloud import WordCloud, STOPWORDS\n",
    "import matplotlib.pyplot as plt"
   ]
  },
  {
   "cell_type": "code",
   "execution_count": null,
   "metadata": {},
   "outputs": [],
   "source": [
    "# Add custom stopwords\n",
    "custom_stopwords = set(STOPWORDS)  # Get default stopwords\n",
    "custom_stopwords.update([\"movie\", \"film\", \"scene\", \"character\", \n",
    "                         \"plot\", \"make\", \"one\", \"actor\", \"see\",\n",
    "                         \"watch\", \"action\", \"drama\"])  # Add domain-specific words\n",
    "print(custom_stopwords)\n",
    "WC=WordCloud(width=1000,height=500,max_words=500,min_font_size=5, stopwords=custom_stopwords)"
   ]
  },
  {
   "cell_type": "code",
   "execution_count": null,
   "metadata": {},
   "outputs": [],
   "source": [
    "#word cloud for positive review words\n",
    "plt.figure(figsize=(10,10))\n",
    "positive_text=df[df.sentiment == 1].comment\n",
    "positive_string = \", \".join(positive_text)\n",
    "positive_words=WC.generate(positive_string)\n",
    "plt.imshow(positive_words,interpolation='bilinear')\n",
    "plt.show"
   ]
  },
  {
   "cell_type": "code",
   "execution_count": null,
   "metadata": {},
   "outputs": [],
   "source": [
    "#Word cloud for negative review words\n",
    "plt.figure(figsize=(10,10))\n",
    "negative_text=df[df.sentiment == 0].comment\n",
    "negative_string = \", \".join(negative_text)\n",
    "negative_words=WC.generate(negative_string)\n",
    "plt.imshow(negative_words,interpolation='bilinear')\n",
    "plt.show"
   ]
  },
  {
   "cell_type": "code",
   "execution_count": null,
   "metadata": {},
   "outputs": [],
   "source": [
    "#Word cloud for neutral review words\n",
    "plt.figure(figsize=(10,10))\n",
    "neutral_text=df[df.sentiment == 2].comment\n",
    "neutral_string = \", \".join(neutral_text)\n",
    "neutral_words=WC.generate(neutral_string)\n",
    "plt.imshow(neutral_words,interpolation='bilinear')\n",
    "plt.show"
   ]
  }
 ],
 "metadata": {
  "kernelspec": {
   "display_name": ".venv",
   "language": "python",
   "name": "python3"
  },
  "language_info": {
   "codemirror_mode": {
    "name": "ipython",
    "version": 3
   },
   "file_extension": ".py",
   "mimetype": "text/x-python",
   "name": "python",
   "nbconvert_exporter": "python",
   "pygments_lexer": "ipython3",
   "version": "3.10.7"
  }
 },
 "nbformat": 4,
 "nbformat_minor": 2
}
